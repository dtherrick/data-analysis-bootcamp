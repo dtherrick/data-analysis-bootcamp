{
 "metadata": {
  "celltoolbar": "Slideshow",
  "name": "",
  "signature": "sha256:3eae89bd973fd45133d33b054b6aa440e25b34df86f9f92c37ad8f11565660a1"
 },
 "nbformat": 3,
 "nbformat_minor": 0,
 "worksheets": [
  {
   "cells": [
    {
     "cell_type": "markdown",
     "metadata": {
      "slideshow": {
       "slide_type": "slide"
      }
     },
     "source": [
      "# Dive Into Data Analysis"
     ]
    },
    {
     "cell_type": "markdown",
     "metadata": {
      "slideshow": {
       "slide_type": "slide"
      }
     },
     "source": [
      "## Class Pillars:\n",
      "* Understanding Data\n",
      "* Looking at Data\n",
      "* Modeling Data\n",
      "* Mining Data\n",
      "* Using Data\n",
      "\n",
      "* Throughout thr course, will refer to the __OSEMN__ data model:\n",
      "    * Basic workflow used by many data scientists\n",
      "    * __O__btain\n",
      "    * __S__crub\n",
      "    * __E__xplore\n",
      "    * __M__odel\n",
      "    * i__N__terpret"
     ]
    },
    {
     "cell_type": "markdown",
     "metadata": {
      "slideshow": {
       "slide_type": "slide"
      }
     },
     "source": [
      "## Rough Schedule\n",
      "|          __Topic__           | __Day__ |\n",
      "|------------------------------|---------|\n",
      "| Introduction                 |    1    |\n",
      "| Installing Python + Packages |    1    |\n",
      "| Statistics                   |    1    |\n",
      "| Analytics                    |    2    |\n",
      "| Graphics                     |   2-3   |\n",
      "| Computation                  |    3    |\n",
      "| Applications                 |    3    |\n",
      "| CAP Overview                 |    3    |\n",
      "| Conclusions                  |    3    |"
     ]
    },
    {
     "cell_type": "markdown",
     "metadata": {
      "slideshow": {
       "slide_type": "slide"
      }
     },
     "source": [
      ">__\"No plan survives contact with the enemy.\"__\n",
      "> - Helmuth von Moltke the Elder"
     ]
    },
    {
     "cell_type": "markdown",
     "metadata": {
      "slideshow": {
       "slide_type": "slide"
      }
     },
     "source": [
      "## Diving into iPython\n",
      "* This is a presentation driven by iPython.\n",
      "* Allows me to provide:\n",
      "   * Inline text\n",
      "   * Live Code\n",
      "   * Plotting\n",
      "   * Mathematical Formulae"
     ]
    },
    {
     "cell_type": "markdown",
     "metadata": {
      "slideshow": {
       "slide_type": "slide"
      }
     },
     "source": [
      "## We begin by importing the modules we need to use for our topics today"
     ]
    },
    {
     "cell_type": "code",
     "collapsed": false,
     "input": [
      "import os\n",
      "import numpy as np\n",
      "import urllib\n",
      "import statsmodels.api as sm\n",
      "import pandas as pd\n",
      "import matplotlib.pyplot as plt\n",
      "import pylab\n",
      "%matplotlib inline"
     ],
     "language": "python",
     "metadata": {
      "slideshow": {
       "slide_type": "fragment"
      }
     },
     "outputs": [],
     "prompt_number": 1
    },
    {
     "cell_type": "markdown",
     "metadata": {
      "slideshow": {
       "slide_type": "slide"
      }
     },
     "source": [
      "##Overview\n",
      "\n",
      "* Do First babies arrive late?\n",
      "* Take a statistical approach\n",
      "* Get some data\n",
      "* Load it properly\n",
      "* Talk about significance"
     ]
    },
    {
     "cell_type": "markdown",
     "metadata": {
      "slideshow": {
       "slide_type": "slide"
      }
     },
     "source": [
      "## First Baby Arrivals\n",
      "\n",
      "* \u201cMy two friends that have given birth recently to their first babies, BOTH went almost 2 weeks overdue before going into labor or being induced.\u201d\n",
      "* \u201cMy first one came two weeks late, and now I think this one is coming two weeks early!\u201d\n",
      "* \u201cI don\u2019t think that can be true because my sister was my mother\u2019s first and she was early, as was many of my cousins.\u201d\n",
      "\n",
      "\n",
      "* __What\u2019s wrong with these statements?__"
     ]
    },
    {
     "cell_type": "markdown",
     "metadata": {
      "slideshow": {
       "slide_type": "slide"
      }
     },
     "source": [
      "## Anecdotal Evidence\n",
      "\n",
      "* Usually fails because:\n",
      "  * Small number of observations\n",
      "  * Selection bias\n",
      "  * Confirmation bias\n",
      "  * Inaccuracy\n",
      "\n",
      "__Can we do better?__ "
     ]
    },
    {
     "cell_type": "markdown",
     "metadata": {
      "slideshow": {
       "slide_type": "slide"
      }
     },
     "source": [
      "## Take A Statistical Approach\n",
      "\n",
      "* To overcome limitations of anecdotes, use statistical tools. Specifically:\n",
      "  * __Data Collection:__ use data from a large national survey designed to generate statistically valid inferences.\n",
      "  * __Descriptive Statistics:__ Generate statistics to concisely summarize the data, and then visualize data.\n",
      "  * __Exploratory Data Analysis:__ Look for patterns, differences, and other features. Also check for inconsistencies and limitations.\n",
      "  * __Hypothesis testing:__ Where there are apparent effects, evaluate whether the effect is real or if it happened by chance.\n",
      "  * __Estimation:__ Use data from a sample to estimate characteristics of the general population. "
     ]
    },
    {
     "cell_type": "markdown",
     "metadata": {
      "slideshow": {
       "slide_type": "slide"
      }
     },
     "source": [
      "## Get the data:\n",
      "\n",
      "* In the real world you\u2019ll get data from:\n",
      "  * CSV\n",
      "  * Excel\n",
      "  * APIs\n",
      "  * Scraping\n",
      "  * Database queries"
     ]
    },
    {
     "cell_type": "code",
     "collapsed": false,
     "input": [
      "url2002FemPreg = \"ftp://ftp.cdc.gov/pub/Health_Statistics/NCHS/Datasets/NSFG/2002FemPreg.dat\"\n",
      "\n",
      "local2002FemPreg = \"2002FemPreg.dat\"\n",
      "\n",
      "os.chdir(\"/Users/damian/Documents/Dropbox/Lake-Hill-Analytics/Business/Clients/ASPE/Intermediate Data Analysis Bootcamp/Class Materials/sourcedata\")\n",
      "\n",
      "try:\n",
      "    urllib.urlretrieve(url2002FemPreg, local2002FemPreg)\n",
      "    print \"Successfully grabbed pregnancy files\"\n",
      "except:\n",
      "    print \"Failed to grab files\""
     ],
     "language": "python",
     "metadata": {
      "slideshow": {
       "slide_type": "fragment"
      }
     },
     "outputs": [
      {
       "output_type": "stream",
       "stream": "stdout",
       "text": [
        "Successfully grabbed pregnancy files\n"
       ]
      }
     ],
     "prompt_number": 2
    },
    {
     "cell_type": "code",
     "collapsed": false,
     "input": [
      "\n",
      "pregColSpecs = [\n",
      "            (1, 12),\n",
      "            (22, 23),\n",
      "            (56, 57),\n",
      "            (57, 58),\n",
      "            (59, 60),\n",
      "            (275, 276),\n",
      "            (277, 278),\n",
      "            (278, 279),\n",
      "            (284, 287),\n",
      "            (423, 440)\n",
      "            ]\n",
      "\n",
      "pregColNames = [\n",
      "            'caseid', \n",
      "            'nbrnaliv', \n",
      "            'babysex', \n",
      "            'birthwgt_lb', \n",
      "            'birthwgt_oz', \n",
      "            'prglength', \n",
      "            'outcome', \n",
      "            'birthord', \n",
      "            'agepreg', \n",
      "            'finalwgt'\n",
      "            ]\n",
      "\n",
      "df2002Preg = pd.read_fwf(local2002FemPreg, colspecs=pregColSpecs, header=None)\n",
      "df2002Preg.columns = pregColNames\n",
      "#df2002Preg.drop(['nbrnaliv', 'babysex', 'outcome'], axis=1, inplace=True)\n",
      "df2002Preg.describe()"
     ],
     "language": "python",
     "metadata": {
      "slideshow": {
       "slide_type": "fragment"
      }
     },
     "outputs": [
      {
       "html": [
        "<div style=\"max-height:1000px;max-width:1500px;overflow:auto;\">\n",
        "<table border=\"1\" class=\"dataframe\">\n",
        "  <thead>\n",
        "    <tr style=\"text-align: right;\">\n",
        "      <th></th>\n",
        "      <th>caseid</th>\n",
        "      <th>nbrnaliv</th>\n",
        "      <th>babysex</th>\n",
        "      <th>birthwgt_lb</th>\n",
        "      <th>birthwgt_oz</th>\n",
        "      <th>prglength</th>\n",
        "      <th>outcome</th>\n",
        "      <th>birthord</th>\n",
        "      <th>agepreg</th>\n",
        "      <th>finalwgt</th>\n",
        "    </tr>\n",
        "  </thead>\n",
        "  <tbody>\n",
        "    <tr>\n",
        "      <th>count</th>\n",
        "      <td> 13593.000000</td>\n",
        "      <td> 163.000000</td>\n",
        "      <td> 235.000000</td>\n",
        "      <td> 9144.000000</td>\n",
        "      <td> 9087.000000</td>\n",
        "      <td> 13593.000000</td>\n",
        "      <td>  1</td>\n",
        "      <td> 9148.000000</td>\n",
        "      <td> 13241.000000</td>\n",
        "      <td>  13593.000000</td>\n",
        "    </tr>\n",
        "    <tr>\n",
        "      <th>mean</th>\n",
        "      <td>  6216.526595</td>\n",
        "      <td>   1.834356</td>\n",
        "      <td>   3.025532</td>\n",
        "      <td>    6.653762</td>\n",
        "      <td>    3.707384</td>\n",
        "      <td>     5.882292</td>\n",
        "      <td>  1</td>\n",
        "      <td>    1.824552</td>\n",
        "      <td>   503.102560</td>\n",
        "      <td>   5645.602005</td>\n",
        "    </tr>\n",
        "    <tr>\n",
        "      <th>std</th>\n",
        "      <td>  3645.417341</td>\n",
        "      <td>   1.630208</td>\n",
        "      <td>   3.476322</td>\n",
        "      <td>    1.588809</td>\n",
        "      <td>    2.813151</td>\n",
        "      <td>     3.350894</td>\n",
        "      <td>NaN</td>\n",
        "      <td>    1.037053</td>\n",
        "      <td>   300.039668</td>\n",
        "      <td>   8506.962857</td>\n",
        "    </tr>\n",
        "    <tr>\n",
        "      <th>min</th>\n",
        "      <td>     1.000000</td>\n",
        "      <td>   1.000000</td>\n",
        "      <td>   1.000000</td>\n",
        "      <td>    0.000000</td>\n",
        "      <td>    0.000000</td>\n",
        "      <td>     0.000000</td>\n",
        "      <td>  1</td>\n",
        "      <td>    0.000000</td>\n",
        "      <td>     0.000000</td>\n",
        "      <td>      0.292177</td>\n",
        "    </tr>\n",
        "    <tr>\n",
        "      <th>25%</th>\n",
        "      <td>  3022.000000</td>\n",
        "      <td>   1.000000</td>\n",
        "      <td>   1.000000</td>\n",
        "      <td>    6.000000</td>\n",
        "      <td>    1.000000</td>\n",
        "      <td>     3.000000</td>\n",
        "      <td>  1</td>\n",
        "      <td>    1.000000</td>\n",
        "      <td>   233.000000</td>\n",
        "      <td>   1399.312475</td>\n",
        "    </tr>\n",
        "    <tr>\n",
        "      <th>50%</th>\n",
        "      <td>  6161.000000</td>\n",
        "      <td>   1.000000</td>\n",
        "      <td>   1.000000</td>\n",
        "      <td>    7.000000</td>\n",
        "      <td>    3.000000</td>\n",
        "      <td>     7.000000</td>\n",
        "      <td>  1</td>\n",
        "      <td>    2.000000</td>\n",
        "      <td>   516.000000</td>\n",
        "      <td>   4905.409612</td>\n",
        "    </tr>\n",
        "    <tr>\n",
        "      <th>75%</th>\n",
        "      <td>  9423.000000</td>\n",
        "      <td>   1.000000</td>\n",
        "      <td>   7.000000</td>\n",
        "      <td>    8.000000</td>\n",
        "      <td>    6.000000</td>\n",
        "      <td>     9.000000</td>\n",
        "      <td>  1</td>\n",
        "      <td>    2.000000</td>\n",
        "      <td>   775.000000</td>\n",
        "      <td>   7160.450747</td>\n",
        "    </tr>\n",
        "    <tr>\n",
        "      <th>max</th>\n",
        "      <td> 12571.000000</td>\n",
        "      <td>   5.000000</td>\n",
        "      <td>   9.000000</td>\n",
        "      <td>    9.000000</td>\n",
        "      <td>    9.000000</td>\n",
        "      <td>     9.000000</td>\n",
        "      <td>  1</td>\n",
        "      <td>    9.000000</td>\n",
        "      <td>   991.000000</td>\n",
        "      <td> 261879.953864</td>\n",
        "    </tr>\n",
        "  </tbody>\n",
        "</table>\n",
        "</div>"
       ],
       "metadata": {},
       "output_type": "pyout",
       "prompt_number": 33,
       "text": [
        "             caseid    nbrnaliv     babysex  birthwgt_lb  birthwgt_oz  \\\n",
        "count  13593.000000  163.000000  235.000000  9144.000000  9087.000000   \n",
        "mean    6216.526595    1.834356    3.025532     6.653762     3.707384   \n",
        "std     3645.417341    1.630208    3.476322     1.588809     2.813151   \n",
        "min        1.000000    1.000000    1.000000     0.000000     0.000000   \n",
        "25%     3022.000000    1.000000    1.000000     6.000000     1.000000   \n",
        "50%     6161.000000    1.000000    1.000000     7.000000     3.000000   \n",
        "75%     9423.000000    1.000000    7.000000     8.000000     6.000000   \n",
        "max    12571.000000    5.000000    9.000000     9.000000     9.000000   \n",
        "\n",
        "          prglength  outcome     birthord       agepreg       finalwgt  \n",
        "count  13593.000000        1  9148.000000  13241.000000   13593.000000  \n",
        "mean       5.882292        1     1.824552    503.102560    5645.602005  \n",
        "std        3.350894      NaN     1.037053    300.039668    8506.962857  \n",
        "min        0.000000        1     0.000000      0.000000       0.292177  \n",
        "25%        3.000000        1     1.000000    233.000000    1399.312475  \n",
        "50%        7.000000        1     2.000000    516.000000    4905.409612  \n",
        "75%        9.000000        1     2.000000    775.000000    7160.450747  \n",
        "max        9.000000        1     9.000000    991.000000  261879.953864  "
       ]
      }
     ],
     "prompt_number": 33
    },
    {
     "cell_type": "code",
     "collapsed": false,
     "input": [
      "# Let's do a quick check on average length of first pregnancies vs. later pregnancies\n",
      "df2002Preg.fillna(0, inplace=True)\n",
      "avgFirstLength = df2002Preg[df2002Preg['birthord'] == 1].prglength.mean()\n",
      "avgOtherLength = df2002Preg[df2002Preg['birthord'] > 1].prglength.mean()\n",
      "\n",
      "print \"First Pregnancy Length (average): \" + str(avgFirstLength)\n",
      "print \"Later Pregnancy Length (average): \" + str(avgOtherLength)\n",
      "print \"Delta: \" + str(abs(avgFirstLength - avgOtherLength))"
     ],
     "language": "python",
     "metadata": {
      "slideshow": {
       "slide_type": "fragment"
      }
     },
     "outputs": [
      {
       "output_type": "stream",
       "stream": "stdout",
       "text": [
        "First Pregnancy Length (average): 5.98821663268\n",
        "Later Pregnancy Length (average): 6.49978876215\n",
        "Delta: 0.51157212947\n"
       ]
      }
     ],
     "prompt_number": 4
    },
    {
     "cell_type": "markdown",
     "metadata": {
      "slideshow": {
       "slide_type": "slide"
      }
     },
     "source": [
      "## What insights so far?\n",
      "\n",
      "* Answers from __Think Stats__:\n",
      "   * First babies are born about 13 hours later than subsequent babies.\n",
      "   * That\u2019s an __apparent effect__: but we need to determine if it\u2019s real\n",
      "     * If the groups have different means, what about the other __summary statistics__ like median and variance. Can we be more precise about how the groups differ?\n",
      "     * The difference we saw could have happened by chance. If that\u2019s the case we\u2019d say that the effect is not __statistically significant__.\n",
      "     * Finally - is the apparent effect due to selection bias or experimental error? If so then it\u2019s an __artifact__ that we created.\n",
      "     \n",
      "\n",
      "* Our problem:\n",
      "   * Using Pandas, the field coding is inaccurate and doesn't load properly\n",
      "   * Survey [codebook](http://nsfg.icpsr.umich.edu/cocoon/WebDocs/NSFG/public/index.htm) returns a 404 error.\n",
      "      * Unable to quickly verify the coding\n",
      "* __Welcome to true data analysis!__"
     ]
    },
    {
     "cell_type": "markdown",
     "metadata": {
      "slideshow": {
       "slide_type": "slide"
      }
     },
     "source": [
      "# First Exercise\n",
      "\n",
      "*  Think about questions that you find personally interesting, conventional wisdom, controversial topics, or political questions.\n",
      "* Try to formulate a question that lends itself to statistical inquiry\n",
      "* Look for data to help:\n",
      "  * Governments have a lot of free data.\n",
      "  * Wolfram Alpha has a collection: [www.wolframalpha.com](www.wolframalpha.com)\n",
      "  \n",
      "  \n",
      "* Once you\u2019ve done that, prepare to discuss your topic with the class."
     ]
    },
    {
     "cell_type": "markdown",
     "metadata": {
      "slideshow": {
       "slide_type": "slide"
      }
     },
     "source": [
      "## Summary Statistics\n",
      "\n",
      "* __Mean:__ a mathematically derived description of the sum of all values divided by the number of values.\n",
      "  $$\\begin{equation}\n",
      "  AM = \\frac{1}{n}\\sum_{i=1}^na_i = \\frac{1}{n}\\left(a_1 + a_2 + \\cdots + a_n\\right)\n",
      "  \\end{equation}$$\n",
      "  \n",
      "\n",
      "* __Variance:__ the expected value of the squared deviation.\n",
      "  $$\\operatorname{Var}(X) = \\operatorname{E}\\left[(X - \\mu)^2 \\right]$$\n",
      "  \n",
      "\n",
      "* __Standard Deviation:__ Square root of the variance.\n",
      "  $$s^2_N = \\frac{1}{N} \\sum_{i=1}^N (x_i - \\overline{x})^2$$"
     ]
    },
    {
     "cell_type": "markdown",
     "metadata": {
      "slideshow": {
       "slide_type": "slide"
      }
     },
     "source": [
      "## American National Election Survey 1996 Data\n",
      "\n",
      "* Public domain data available in the statsmodels package\n",
      "\n",
      "* Information\n",
      "  * Number of observations - 944\n",
      "  * Number of variables - 10\n",
      "\n",
      "  * Variables name definitions:\n",
      "    * __popul__ Census place population in 1000s\n",
      "    * __TVnews__ Number of times per week that respondent watches TV news.\n",
      "    * __PID__ Party identification of respondent.\n",
      "      * 0 - Strong Democrat\n",
      "      * 1 - Weak Democrat\n",
      "      * 2 - Independent-Democrat\n",
      "      * 3 - Independent-Indpendent\n",
      "      * 4 - Independent-Republican\n",
      "      * 5 - Weak Republican\n",
      "      * 6 - Strong Republican\n",
      "    * __age__ Age of respondent.\n",
      "    * __educ__ Education level of respondent\n",
      "      * 1 - 1-8 grades\n",
      "      * 2 - Some high school\n",
      "      * 3 - High school graduate\n",
      "      * 4 - Some college\n",
      "      * 5 - College degree\n",
      "      * 6 - Master's degree\n",
      "      * 7 - PhD\n",
      "    * __income__ - Income of household\n",
      "      * 1  - None or less than 2,999\n",
      "      * 2  - 3,000-4,999\n",
      "      * 3  - 5,000-6,999\n",
      "      * 4  - 7,000-8,999\n",
      "      * 5  - 9,000-9,999\n",
      "      * 6  - 10,000-10,999\n",
      "      * 7  - 11,000-11,999\n",
      "      * 8  - 12,000-12,999\n",
      "      * 9  - 13,000-13,999\n",
      "      * 10 - 14,000-14.999\n",
      "      * 11 - 15,000-16,999\n",
      "      * 12 - 17,000-19,999\n",
      "      * 13 - 20,000-21,999\n",
      "      * 14 - 22,000-24,999\n",
      "      * 15 - 25,000-29,999\n",
      "      * 16 - 30,000-34,999\n",
      "      * 17 - 35,000-39,999\n",
      "      * 18 - 40,000-44,999\n",
      "      * 19 - 45,000-49,999\n",
      "      * 20 - 50,000-59,999\n",
      "      * 21 - 60,000-74,999\n",
      "      * 22 - 75,000-89,999\n",
      "      * 23 - 90,000-104,999\n",
      "      * 24 - 105,000 and over\n",
      "    * __vote__ Expected vote\n",
      "      * 0 - Clinton\n",
      "      * 1 - Dole\n",
      "    * The following 3 variables all take the values:\n",
      "      * 1 - Extremely liberal\n",
      "      * 2 - Liberal\n",
      "      * 3 - Slightly liberal\n",
      "      * 4 - Moderate\n",
      "      * 5 - Slightly conservative\n",
      "      * 6 - Conservative\n",
      "      * 7 - Extremely Conservative\n",
      "    * __selfLR__ Respondent's self-reported political leanings from \"Left\" to \"Right\".\n",
      "    * __ClinLR__ - Respondents impression of Bill Clinton's political leanings from \"Left\" to \"Right\".\n",
      "    * __DoleLR__  - Respondents impression of Bob Dole's political leanings from \"Left\" to \"Right\".\n",
      "    * __logpopul__ - log(popul + .1)"
     ]
    },
    {
     "cell_type": "code",
     "collapsed": false,
     "input": [
      "data = sm.datasets.anes96.load_pandas()\n",
      "dfElections = data.data"
     ],
     "language": "python",
     "metadata": {
      "slideshow": {
       "slide_type": "slide"
      }
     },
     "outputs": [],
     "prompt_number": 5
    },
    {
     "cell_type": "code",
     "collapsed": false,
     "input": [
      "# Describe the entire dataset\n",
      "dfElections.describe()"
     ],
     "language": "python",
     "metadata": {
      "slideshow": {
       "slide_type": "fragment"
      }
     },
     "outputs": [
      {
       "html": [
        "<div style=\"max-height:1000px;max-width:1500px;overflow:auto;\">\n",
        "<table border=\"1\" class=\"dataframe\">\n",
        "  <thead>\n",
        "    <tr style=\"text-align: right;\">\n",
        "      <th></th>\n",
        "      <th>popul</th>\n",
        "      <th>TVnews</th>\n",
        "      <th>selfLR</th>\n",
        "      <th>ClinLR</th>\n",
        "      <th>DoleLR</th>\n",
        "      <th>PID</th>\n",
        "      <th>age</th>\n",
        "      <th>educ</th>\n",
        "      <th>income</th>\n",
        "      <th>vote</th>\n",
        "      <th>logpopul</th>\n",
        "    </tr>\n",
        "  </thead>\n",
        "  <tbody>\n",
        "    <tr>\n",
        "      <th>count</th>\n",
        "      <td>  944.000000</td>\n",
        "      <td> 944.000000</td>\n",
        "      <td> 944.000000</td>\n",
        "      <td> 944.000000</td>\n",
        "      <td> 944.000000</td>\n",
        "      <td> 944.000000</td>\n",
        "      <td> 944.000000</td>\n",
        "      <td> 944.000000</td>\n",
        "      <td> 944.000000</td>\n",
        "      <td> 944.000000</td>\n",
        "      <td> 944.000000</td>\n",
        "    </tr>\n",
        "    <tr>\n",
        "      <th>mean</th>\n",
        "      <td>  306.381356</td>\n",
        "      <td>   3.727754</td>\n",
        "      <td>   4.325212</td>\n",
        "      <td>   2.939619</td>\n",
        "      <td>   5.394068</td>\n",
        "      <td>   2.842161</td>\n",
        "      <td>  47.043432</td>\n",
        "      <td>   4.565678</td>\n",
        "      <td>  16.331568</td>\n",
        "      <td>   0.416314</td>\n",
        "      <td>   2.472307</td>\n",
        "    </tr>\n",
        "    <tr>\n",
        "      <th>std</th>\n",
        "      <td> 1082.606745</td>\n",
        "      <td>   2.677235</td>\n",
        "      <td>   1.438436</td>\n",
        "      <td>   1.383725</td>\n",
        "      <td>   1.269349</td>\n",
        "      <td>   2.273337</td>\n",
        "      <td>  16.423130</td>\n",
        "      <td>   1.599287</td>\n",
        "      <td>   5.974781</td>\n",
        "      <td>   0.493208</td>\n",
        "      <td>   3.187043</td>\n",
        "    </tr>\n",
        "    <tr>\n",
        "      <th>min</th>\n",
        "      <td>    0.000000</td>\n",
        "      <td>   0.000000</td>\n",
        "      <td>   1.000000</td>\n",
        "      <td>   1.000000</td>\n",
        "      <td>   1.000000</td>\n",
        "      <td>   0.000000</td>\n",
        "      <td>  19.000000</td>\n",
        "      <td>   1.000000</td>\n",
        "      <td>   1.000000</td>\n",
        "      <td>   0.000000</td>\n",
        "      <td>  -2.302585</td>\n",
        "    </tr>\n",
        "    <tr>\n",
        "      <th>25%</th>\n",
        "      <td>    1.000000</td>\n",
        "      <td>   1.000000</td>\n",
        "      <td>   3.000000</td>\n",
        "      <td>   2.000000</td>\n",
        "      <td>   5.000000</td>\n",
        "      <td>   1.000000</td>\n",
        "      <td>  34.000000</td>\n",
        "      <td>   3.000000</td>\n",
        "      <td>  14.000000</td>\n",
        "      <td>   0.000000</td>\n",
        "      <td>   0.095310</td>\n",
        "    </tr>\n",
        "    <tr>\n",
        "      <th>50%</th>\n",
        "      <td>   22.000000</td>\n",
        "      <td>   3.000000</td>\n",
        "      <td>   4.000000</td>\n",
        "      <td>   3.000000</td>\n",
        "      <td>   6.000000</td>\n",
        "      <td>   2.000000</td>\n",
        "      <td>  44.000000</td>\n",
        "      <td>   4.000000</td>\n",
        "      <td>  17.000000</td>\n",
        "      <td>   0.000000</td>\n",
        "      <td>   3.095578</td>\n",
        "    </tr>\n",
        "    <tr>\n",
        "      <th>75%</th>\n",
        "      <td>  110.000000</td>\n",
        "      <td>   7.000000</td>\n",
        "      <td>   6.000000</td>\n",
        "      <td>   4.000000</td>\n",
        "      <td>   6.000000</td>\n",
        "      <td>   5.000000</td>\n",
        "      <td>  58.000000</td>\n",
        "      <td>   6.000000</td>\n",
        "      <td>  21.000000</td>\n",
        "      <td>   1.000000</td>\n",
        "      <td>   4.701389</td>\n",
        "    </tr>\n",
        "    <tr>\n",
        "      <th>max</th>\n",
        "      <td> 7300.000000</td>\n",
        "      <td>   7.000000</td>\n",
        "      <td>   7.000000</td>\n",
        "      <td>   7.000000</td>\n",
        "      <td>   7.000000</td>\n",
        "      <td>   6.000000</td>\n",
        "      <td>  91.000000</td>\n",
        "      <td>   7.000000</td>\n",
        "      <td>  24.000000</td>\n",
        "      <td>   1.000000</td>\n",
        "      <td>   8.895643</td>\n",
        "    </tr>\n",
        "  </tbody>\n",
        "</table>\n",
        "</div>"
       ],
       "metadata": {},
       "output_type": "pyout",
       "prompt_number": 6,
       "text": [
        "             popul      TVnews      selfLR      ClinLR      DoleLR  \\\n",
        "count   944.000000  944.000000  944.000000  944.000000  944.000000   \n",
        "mean    306.381356    3.727754    4.325212    2.939619    5.394068   \n",
        "std    1082.606745    2.677235    1.438436    1.383725    1.269349   \n",
        "min       0.000000    0.000000    1.000000    1.000000    1.000000   \n",
        "25%       1.000000    1.000000    3.000000    2.000000    5.000000   \n",
        "50%      22.000000    3.000000    4.000000    3.000000    6.000000   \n",
        "75%     110.000000    7.000000    6.000000    4.000000    6.000000   \n",
        "max    7300.000000    7.000000    7.000000    7.000000    7.000000   \n",
        "\n",
        "              PID         age        educ      income        vote    logpopul  \n",
        "count  944.000000  944.000000  944.000000  944.000000  944.000000  944.000000  \n",
        "mean     2.842161   47.043432    4.565678   16.331568    0.416314    2.472307  \n",
        "std      2.273337   16.423130    1.599287    5.974781    0.493208    3.187043  \n",
        "min      0.000000   19.000000    1.000000    1.000000    0.000000   -2.302585  \n",
        "25%      1.000000   34.000000    3.000000   14.000000    0.000000    0.095310  \n",
        "50%      2.000000   44.000000    4.000000   17.000000    0.000000    3.095578  \n",
        "75%      5.000000   58.000000    6.000000   21.000000    1.000000    4.701389  \n",
        "max      6.000000   91.000000    7.000000   24.000000    1.000000    8.895643  "
       ]
      }
     ],
     "prompt_number": 6
    },
    {
     "cell_type": "code",
     "collapsed": false,
     "input": [
      "# Examine a slice of the dataset\n",
      "dfElections.head()"
     ],
     "language": "python",
     "metadata": {
      "slideshow": {
       "slide_type": "fragment"
      }
     },
     "outputs": [
      {
       "html": [
        "<div style=\"max-height:1000px;max-width:1500px;overflow:auto;\">\n",
        "<table border=\"1\" class=\"dataframe\">\n",
        "  <thead>\n",
        "    <tr style=\"text-align: right;\">\n",
        "      <th></th>\n",
        "      <th>popul</th>\n",
        "      <th>TVnews</th>\n",
        "      <th>selfLR</th>\n",
        "      <th>ClinLR</th>\n",
        "      <th>DoleLR</th>\n",
        "      <th>PID</th>\n",
        "      <th>age</th>\n",
        "      <th>educ</th>\n",
        "      <th>income</th>\n",
        "      <th>vote</th>\n",
        "      <th>logpopul</th>\n",
        "    </tr>\n",
        "  </thead>\n",
        "  <tbody>\n",
        "    <tr>\n",
        "      <th>0</th>\n",
        "      <td>   0</td>\n",
        "      <td> 7</td>\n",
        "      <td> 7</td>\n",
        "      <td> 1</td>\n",
        "      <td> 6</td>\n",
        "      <td> 6</td>\n",
        "      <td> 36</td>\n",
        "      <td> 3</td>\n",
        "      <td> 1</td>\n",
        "      <td> 1</td>\n",
        "      <td>-2.302585</td>\n",
        "    </tr>\n",
        "    <tr>\n",
        "      <th>1</th>\n",
        "      <td> 190</td>\n",
        "      <td> 1</td>\n",
        "      <td> 3</td>\n",
        "      <td> 3</td>\n",
        "      <td> 5</td>\n",
        "      <td> 1</td>\n",
        "      <td> 20</td>\n",
        "      <td> 4</td>\n",
        "      <td> 1</td>\n",
        "      <td> 0</td>\n",
        "      <td> 5.247550</td>\n",
        "    </tr>\n",
        "    <tr>\n",
        "      <th>2</th>\n",
        "      <td>  31</td>\n",
        "      <td> 7</td>\n",
        "      <td> 2</td>\n",
        "      <td> 2</td>\n",
        "      <td> 6</td>\n",
        "      <td> 1</td>\n",
        "      <td> 24</td>\n",
        "      <td> 6</td>\n",
        "      <td> 1</td>\n",
        "      <td> 0</td>\n",
        "      <td> 3.437208</td>\n",
        "    </tr>\n",
        "    <tr>\n",
        "      <th>3</th>\n",
        "      <td>  83</td>\n",
        "      <td> 4</td>\n",
        "      <td> 3</td>\n",
        "      <td> 4</td>\n",
        "      <td> 5</td>\n",
        "      <td> 1</td>\n",
        "      <td> 28</td>\n",
        "      <td> 6</td>\n",
        "      <td> 1</td>\n",
        "      <td> 0</td>\n",
        "      <td> 4.420045</td>\n",
        "    </tr>\n",
        "    <tr>\n",
        "      <th>4</th>\n",
        "      <td> 640</td>\n",
        "      <td> 7</td>\n",
        "      <td> 5</td>\n",
        "      <td> 6</td>\n",
        "      <td> 4</td>\n",
        "      <td> 0</td>\n",
        "      <td> 68</td>\n",
        "      <td> 6</td>\n",
        "      <td> 1</td>\n",
        "      <td> 0</td>\n",
        "      <td> 6.461624</td>\n",
        "    </tr>\n",
        "  </tbody>\n",
        "</table>\n",
        "</div>"
       ],
       "metadata": {},
       "output_type": "pyout",
       "prompt_number": 7,
       "text": [
        "   popul  TVnews  selfLR  ClinLR  DoleLR  PID  age  educ  income  vote  \\\n",
        "0      0       7       7       1       6    6   36     3       1     1   \n",
        "1    190       1       3       3       5    1   20     4       1     0   \n",
        "2     31       7       2       2       6    1   24     6       1     0   \n",
        "3     83       4       3       4       5    1   28     6       1     0   \n",
        "4    640       7       5       6       4    0   68     6       1     0   \n",
        "\n",
        "   logpopul  \n",
        "0 -2.302585  \n",
        "1  5.247550  \n",
        "2  3.437208  \n",
        "3  4.420045  \n",
        "4  6.461624  "
       ]
      }
     ],
     "prompt_number": 7
    },
    {
     "cell_type": "code",
     "collapsed": false,
     "input": [
      "# Describe only the age column \n",
      "dfElections.age.describe()"
     ],
     "language": "python",
     "metadata": {
      "slideshow": {
       "slide_type": "fragment"
      }
     },
     "outputs": [
      {
       "metadata": {},
       "output_type": "pyout",
       "prompt_number": 8,
       "text": [
        "count    944.000000\n",
        "mean      47.043432\n",
        "std       16.423130\n",
        "min       19.000000\n",
        "25%       34.000000\n",
        "50%       44.000000\n",
        "75%       58.000000\n",
        "max       91.000000\n",
        "Name: age, dtype: float64"
       ]
      }
     ],
     "prompt_number": 8
    },
    {
     "cell_type": "code",
     "collapsed": false,
     "input": [
      "# Show the variance of the age column\n",
      "print \"Variance of Age: \" + str(dfElections.age.var())"
     ],
     "language": "python",
     "metadata": {
      "slideshow": {
       "slide_type": "fragment"
      }
     },
     "outputs": [
      {
       "output_type": "stream",
       "stream": "stdout",
       "text": [
        "Variance of Age: 269.719214507\n"
       ]
      }
     ],
     "prompt_number": 9
    },
    {
     "cell_type": "markdown",
     "metadata": {
      "slideshow": {
       "slide_type": "slide"
      }
     },
     "source": [
      "## Distributions\n",
      "\n",
      "* Distributions describe how often each value appears.\n",
      "  * __Frequency__: the number of times a value appears in a dataset.\n",
      "  * __Probability__: a frequency expressed as a fraction of the sample size\n",
      "  * __Mode__: the most frequent value in the dataset. "
     ]
    },
    {
     "cell_type": "code",
     "collapsed": false,
     "input": [
      "# Let's make a label array\n",
      "binValue = [\"None or less than 2,999\", \"3,000-4,999\",\"5,000-6,999\",\"7,000-8,999\",\"9,000-9,999\",\"10,000-10,999\",\"11,000-11,999\"\n",
      "            ,\"12,000-12,999\",\"13,000-13,999\",\"14,000-14.999\",\"15,000-16,999\",\"17,000-19,999\",\"20,000-21,999\",\"22,000-24,999\"\n",
      "            ,\"25,000-29,999\",\"30,000-34,999\",\"35,000-39,999\",\"40,000-44,999\",\"45,000-49,999\",\"50,000-59,999\",\"60,000-74,999\"\n",
      "            ,\"75,000-89,999\",\"90,000-104,999\",\"105,000 and over\"]"
     ],
     "language": "python",
     "metadata": {
      "slideshow": {
       "slide_type": "fragment"
      }
     },
     "outputs": [],
     "prompt_number": 10
    },
    {
     "cell_type": "code",
     "collapsed": false,
     "input": [
      "# Let's understand the distribution of income now.\n",
      "dfIncomeDist = pd.DataFrame(dfElections.income.value_counts(), columns=['Frequency'])\n",
      "dfIncomeDist['Probability'] = dfIncomeDist['Frequency'] / dfIncomeDist.Frequency.sum()\n",
      "dfIncomeDist.sort_index(inplace=True)\n",
      "dfIncomeDist"
     ],
     "language": "python",
     "metadata": {
      "slideshow": {
       "slide_type": "fragment"
      }
     },
     "outputs": [
      {
       "html": [
        "<div style=\"max-height:1000px;max-width:1500px;overflow:auto;\">\n",
        "<table border=\"1\" class=\"dataframe\">\n",
        "  <thead>\n",
        "    <tr style=\"text-align: right;\">\n",
        "      <th></th>\n",
        "      <th>Frequency</th>\n",
        "      <th>Probability</th>\n",
        "    </tr>\n",
        "  </thead>\n",
        "  <tbody>\n",
        "    <tr>\n",
        "      <th>1 </th>\n",
        "      <td>  19</td>\n",
        "      <td> 0.020127</td>\n",
        "    </tr>\n",
        "    <tr>\n",
        "      <th>2 </th>\n",
        "      <td>  12</td>\n",
        "      <td> 0.012712</td>\n",
        "    </tr>\n",
        "    <tr>\n",
        "      <th>3 </th>\n",
        "      <td>  17</td>\n",
        "      <td> 0.018008</td>\n",
        "    </tr>\n",
        "    <tr>\n",
        "      <th>4 </th>\n",
        "      <td>  19</td>\n",
        "      <td> 0.020127</td>\n",
        "    </tr>\n",
        "    <tr>\n",
        "      <th>5 </th>\n",
        "      <td>  18</td>\n",
        "      <td> 0.019068</td>\n",
        "    </tr>\n",
        "    <tr>\n",
        "      <th>6 </th>\n",
        "      <td>  13</td>\n",
        "      <td> 0.013771</td>\n",
        "    </tr>\n",
        "    <tr>\n",
        "      <th>7 </th>\n",
        "      <td>  11</td>\n",
        "      <td> 0.011653</td>\n",
        "    </tr>\n",
        "    <tr>\n",
        "      <th>8 </th>\n",
        "      <td>  17</td>\n",
        "      <td> 0.018008</td>\n",
        "    </tr>\n",
        "    <tr>\n",
        "      <th>9 </th>\n",
        "      <td>  10</td>\n",
        "      <td> 0.010593</td>\n",
        "    </tr>\n",
        "    <tr>\n",
        "      <th>10</th>\n",
        "      <td>  15</td>\n",
        "      <td> 0.015890</td>\n",
        "    </tr>\n",
        "    <tr>\n",
        "      <th>11</th>\n",
        "      <td>  23</td>\n",
        "      <td> 0.024364</td>\n",
        "    </tr>\n",
        "    <tr>\n",
        "      <th>12</th>\n",
        "      <td>  35</td>\n",
        "      <td> 0.037076</td>\n",
        "    </tr>\n",
        "    <tr>\n",
        "      <th>13</th>\n",
        "      <td>  26</td>\n",
        "      <td> 0.027542</td>\n",
        "    </tr>\n",
        "    <tr>\n",
        "      <th>14</th>\n",
        "      <td>  39</td>\n",
        "      <td> 0.041314</td>\n",
        "    </tr>\n",
        "    <tr>\n",
        "      <th>15</th>\n",
        "      <td>  68</td>\n",
        "      <td> 0.072034</td>\n",
        "    </tr>\n",
        "    <tr>\n",
        "      <th>16</th>\n",
        "      <td>  70</td>\n",
        "      <td> 0.074153</td>\n",
        "    </tr>\n",
        "    <tr>\n",
        "      <th>17</th>\n",
        "      <td>  62</td>\n",
        "      <td> 0.065678</td>\n",
        "    </tr>\n",
        "    <tr>\n",
        "      <th>18</th>\n",
        "      <td>  48</td>\n",
        "      <td> 0.050847</td>\n",
        "    </tr>\n",
        "    <tr>\n",
        "      <th>19</th>\n",
        "      <td>  51</td>\n",
        "      <td> 0.054025</td>\n",
        "    </tr>\n",
        "    <tr>\n",
        "      <th>20</th>\n",
        "      <td> 100</td>\n",
        "      <td> 0.105932</td>\n",
        "    </tr>\n",
        "    <tr>\n",
        "      <th>21</th>\n",
        "      <td> 103</td>\n",
        "      <td> 0.109110</td>\n",
        "    </tr>\n",
        "    <tr>\n",
        "      <th>22</th>\n",
        "      <td>  53</td>\n",
        "      <td> 0.056144</td>\n",
        "    </tr>\n",
        "    <tr>\n",
        "      <th>23</th>\n",
        "      <td>  47</td>\n",
        "      <td> 0.049788</td>\n",
        "    </tr>\n",
        "    <tr>\n",
        "      <th>24</th>\n",
        "      <td>  68</td>\n",
        "      <td> 0.072034</td>\n",
        "    </tr>\n",
        "  </tbody>\n",
        "</table>\n",
        "</div>"
       ],
       "metadata": {},
       "output_type": "pyout",
       "prompt_number": 16,
       "text": [
        "    Frequency  Probability\n",
        "1          19     0.020127\n",
        "2          12     0.012712\n",
        "3          17     0.018008\n",
        "4          19     0.020127\n",
        "5          18     0.019068\n",
        "6          13     0.013771\n",
        "7          11     0.011653\n",
        "8          17     0.018008\n",
        "9          10     0.010593\n",
        "10         15     0.015890\n",
        "11         23     0.024364\n",
        "12         35     0.037076\n",
        "13         26     0.027542\n",
        "14         39     0.041314\n",
        "15         68     0.072034\n",
        "16         70     0.074153\n",
        "17         62     0.065678\n",
        "18         48     0.050847\n",
        "19         51     0.054025\n",
        "20        100     0.105932\n",
        "21        103     0.109110\n",
        "22         53     0.056144\n",
        "23         47     0.049788\n",
        "24         68     0.072034"
       ]
      }
     ],
     "prompt_number": 16
    },
    {
     "cell_type": "code",
     "collapsed": false,
     "input": [
      "print \"Income Mode (bin number): \" + str(dfIncomeDist[dfIncomeDist['Frequency'] == dfIncomeDist.Frequency.max()].index.tolist()[0])\n",
      "\n",
      "print \"Income Mode (income range): \" + binValue[int(dfIncomeDist[dfIncomeDist['Frequency'] == dfIncomeDist.Frequency.max()].index.tolist()[0]) - 1]"
     ],
     "language": "python",
     "metadata": {
      "slideshow": {
       "slide_type": "fragment"
      }
     },
     "outputs": [
      {
       "output_type": "stream",
       "stream": "stdout",
       "text": [
        "Income Mode (bin number): 21.0\n",
        "Income Mode (income range): 60,000-74,999\n"
       ]
      }
     ],
     "prompt_number": 17
    },
    {
     "cell_type": "markdown",
     "metadata": {
      "slideshow": {
       "slide_type": "slide"
      }
     },
     "source": [
      "# Histograms\n",
      "* A useful plot that allows users to quickly:\n",
      "  * Find the mode\n",
      "  * Understand the shape of the data\n",
      "  * Identify outliers\n",
      "* Not ideal for comparing multiple distributions"
     ]
    },
    {
     "cell_type": "markdown",
     "metadata": {
      "slideshow": {
       "slide_type": "fragment"
      }
     },
     "source": [
      "###Let's plot the histogram of income.\n",
      " * We use the original dataset for this."
     ]
    },
    {
     "cell_type": "code",
     "collapsed": false,
     "input": [
      "plt.hist(dfElections.income, bins=24, alpha=0.4)\n",
      "plt.title('Income Frequency')\n",
      "plt.xlabel('Income Range')\n",
      "plt.ylabel('Frequency')\n",
      "plt.show()"
     ],
     "language": "python",
     "metadata": {
      "slideshow": {
       "slide_type": "fragment"
      }
     },
     "outputs": [
      {
       "metadata": {},
       "output_type": "display_data",
       "png": "[encoded data removed]",
       "text": [
        "<matplotlib.figure.Figure at 0x115436f10>"
       ]
      }
     ],
     "prompt_number": 18
    },
    {
     "cell_type": "markdown",
     "metadata": {
      "slideshow": {
       "slide_type": "fragment"
      }
     },
     "source": [
      "### Let's plot the histogram of age\n",
      "* again, original data set"
     ]
    },
    {
     "cell_type": "code",
     "collapsed": false,
     "input": [
      "plt.hist(dfElections.age, alpha=0.4)\n",
      "plt.title('Age Frequency')\n",
      "plt.xlabel('Age Bin')\n",
      "plt.ylabel('Frequency')\n",
      "plt.show()"
     ],
     "language": "python",
     "metadata": {
      "slideshow": {
       "slide_type": "fragment"
      }
     },
     "outputs": [
      {
       "metadata": {},
       "output_type": "display_data",
       "png": "[encoded data removed]",
       "text": [
        "<matplotlib.figure.Figure at 0x115457e10>"
       ]
      }
     ],
     "prompt_number": 19
    },
    {
     "cell_type": "code",
     "collapsed": false,
     "input": [
      "# What is the mode of the age column?\n",
      "print \"mode (age): \" +  str(dfElections.age.mode())\n",
      "print \"median (age): \" + str(dfElections.age.median())\n",
      "print \"mean (age): \"  + str(dfElections.age.mean())"
     ],
     "language": "python",
     "metadata": {
      "slideshow": {
       "slide_type": "fragment"
      }
     },
     "outputs": [
      {
       "output_type": "stream",
       "stream": "stdout",
       "text": [
        "mode (age): 0    35\n",
        "dtype: float64\n",
        "median (age): 44.0\n",
        "mean (age): 47.0434322034\n"
       ]
      }
     ],
     "prompt_number": 20
    },
    {
     "cell_type": "code",
     "collapsed": false,
     "input": [
      "# What is the mode of the income column?\n",
      "print \"mode (income): \" +  str(dfElections.income.mode())\n",
      "print \"median (income): \" + str(dfElections.income.median())\n",
      "print \"mean (income): \"  + str(dfElections.income.mean())"
     ],
     "language": "python",
     "metadata": {
      "slideshow": {
       "slide_type": "fragment"
      }
     },
     "outputs": [
      {
       "output_type": "stream",
       "stream": "stdout",
       "text": [
        "mode (income): 0    21\n",
        "dtype: float64\n",
        "median (income): 17.0\n",
        "mean (income): 16.3315677966\n"
       ]
      }
     ],
     "prompt_number": 21
    },
    {
     "cell_type": "markdown",
     "metadata": {
      "slideshow": {
       "slide_type": "slide"
      }
     },
     "source": [
      "# Cumulative Distribution Functions\n",
      "* Percentiles\n",
      "* Cumulative Distribution Functions"
     ]
    },
    {
     "cell_type": "markdown",
     "metadata": {
      "slideshow": {
       "slide_type": "fragment"
      }
     },
     "source": [
      "## Percentiles\n",
      " * Defined as the value at which that percentage of the population is below you.\n",
      " * Go back to the age of voters in our Election data"
     ]
    },
    {
     "cell_type": "code",
     "collapsed": false,
     "input": [
      "dfElections.age.describe()"
     ],
     "language": "python",
     "metadata": {
      "slideshow": {
       "slide_type": "fragment"
      }
     },
     "outputs": [
      {
       "metadata": {},
       "output_type": "pyout",
       "prompt_number": 22,
       "text": [
        "count    944.000000\n",
        "mean      47.043432\n",
        "std       16.423130\n",
        "min       19.000000\n",
        "25%       34.000000\n",
        "50%       44.000000\n",
        "75%       58.000000\n",
        "max       91.000000\n",
        "Name: age, dtype: float64"
       ]
      }
     ],
     "prompt_number": 22
    },
    {
     "cell_type": "markdown",
     "metadata": {
      "slideshow": {
       "slide_type": "fragment"
      }
     },
     "source": [
      "* In the age column:\n",
      "    * __25%__ of the population is 34 years old or younger\n",
      "    * __50%__ of the population is 44 or younger.\n",
      "    * __75%__ of the population is 58 or younger.\n",
      "  \n",
      "* What if we want the 95th percentile?\n",
      "    * Use the __quantile__ function."
     ]
    },
    {
     "cell_type": "code",
     "collapsed": false,
     "input": [
      "dfElections.age.quantile(.95)"
     ],
     "language": "python",
     "metadata": {
      "slideshow": {
       "slide_type": "fragment"
      }
     },
     "outputs": [
      {
       "metadata": {},
       "output_type": "pyout",
       "prompt_number": 23,
       "text": [
        "77.0"
       ]
      }
     ],
     "prompt_number": 23
    },
    {
     "cell_type": "markdown",
     "metadata": {
      "slideshow": {
       "slide_type": "fragment"
      }
     },
     "source": [
      "## The Cumulative Distribution Function\n",
      "* The cumulative distribution function of a real-valued random variable $''X''$ is the function given by:\n",
      "\n",
      "$$F_X(x) = \\operatorname{P}(X\\leq x)$$\n",
      "\n",
      "* Where the right-hand side represents the probability that the random variable $''X''$ takes on a value less than or equal to $''x''$."
     ]
    },
    {
     "cell_type": "markdown",
     "metadata": {
      "slideshow": {
       "slide_type": "slide"
      }
     },
     "source": [
      "# Representing Cumulative Distribution Functions\n",
      "* Again, use the age data from the election dataset\n",
      "* Conditional Distributions"
     ]
    },
    {
     "cell_type": "code",
     "collapsed": false,
     "input": [
      "dfAgeDist = pd.DataFrame(dfElections.age.value_counts(), columns=['Frequency'])\n",
      "dfAgeDist.sort_index(inplace=True)\n",
      "dfAgeDist['CumulativeSum'] = dfAgeDist.Frequency.cumsum()\n",
      "cdfAgeDist = plt.plot(dfAgeDist.CumulativeSum)"
     ],
     "language": "python",
     "metadata": {
      "slideshow": {
       "slide_type": "fragment"
      }
     },
     "outputs": [
      {
       "metadata": {},
       "output_type": "display_data",
       "png": "[encoded data removed]",
       "text": [
        "<matplotlib.figure.Figure at 0x1154b3490>"
       ]
      }
     ],
     "prompt_number": 24
    },
    {
     "cell_type": "code",
     "collapsed": false,
     "input": [
      "plt.hist(dfElections.age, alpha=0.4, cumulative=True)\n",
      "plt.title('Age Cumulative Distribution Function')\n",
      "plt.xlabel('Age')\n",
      "plt.ylabel('Probability')\n",
      "plt.show()"
     ],
     "language": "python",
     "metadata": {
      "slideshow": {
       "slide_type": "fragment"
      }
     },
     "outputs": [
      {
       "metadata": {},
       "output_type": "display_data",
       "png": "[encoded data removed]",
       "text": [
        "<matplotlib.figure.Figure at 0x115650f90>"
       ]
      }
     ],
     "prompt_number": 25
    },
    {
     "cell_type": "markdown",
     "metadata": {
      "slideshow": {
       "slide_type": "slide"
      }
     },
     "source": [
      "# Continuous Distributions\n",
      "* The Exponential Distribution\n",
      "* The Pareto Distribution\n",
      "* The Normal Distribution\n",
      "* Normal Probability Plot\n",
      "* Why Model?"
     ]
    },
    {
     "cell_type": "markdown",
     "metadata": {
      "slideshow": {
       "slide_type": "fragment"
      }
     },
     "source": [
      "### The Exponential Distribution\n",
      "* The probability distribution that describes the time between events in a process in which events occur continuously and independently at a constant average rate.\n",
      "* Description on Wikipedia: [https://en.wikipedia.org/wiki/Exponential_distribution](https://en.wikipedia.org/wiki/Exponential_distribution)\n",
      "\n",
      "### The Pareto Distribution\n",
      "* The Pareto distribution, named after the Italian civil engineer, economist, and sociologist Vilfredo Pareto, is a power law probability distribution that is used in description of social, scientific, geophysical, actuarial, and many other types of observable phenomena.\n",
      "* Description on Wikipedia: [https://en.wikipedia.org/wiki/Pareto_distribution](https://en.wikipedia.org/wiki/Pareto_distribution)"
     ]
    },
    {
     "cell_type": "markdown",
     "metadata": {
      "slideshow": {
       "slide_type": "fragment"
      }
     },
     "source": [
      "## The Normal Distribution\n",
      "* In probability theory, the __normal__ (or __Gaussian__) distribution is a very commonly occurring continuous probability distribution \u2014 a function that tells the probability that any real observation will fall between any two real limits or real numbers, as the curve approaches zero on either side. \n",
      "* Normal distributions are extremely important in statistics and are often used in the natural sciences and social sciences for real-valued random variables whose distributions are not known.\n",
      "* Description on Wikipedia: [https://en.wikipedia.org/wiki/Normal_distribution](https://en.wikipedia.org/wiki/Normal_distribution)\n",
      "\n",
      "* Plot a normal distribution from random data:"
     ]
    },
    {
     "cell_type": "code",
     "collapsed": false,
     "input": [
      "mu, sigma = 0, 0.1 # mean and standard deviation\n",
      "s = np.random.normal(mu, sigma, 1000)\n",
      "count, bins, ignored = plt.hist(s, 30, normed=True)\n",
      "plt.plot(bins, 1/(sigma * np.sqrt(2 * np.pi)) * np.exp( - (bins - mu)**2 / (2 * sigma**2) ),linewidth=2, color='r')\n",
      "plt.show()"
     ],
     "language": "python",
     "metadata": {
      "slideshow": {
       "slide_type": "fragment"
      }
     },
     "outputs": [
      {
       "metadata": {},
       "output_type": "display_data",
       "png": "[encoded data removed]",
       "text": [
        "<matplotlib.figure.Figure at 0x1154d60d0>"
       ]
      }
     ],
     "prompt_number": 26
    },
    {
     "cell_type": "code",
     "collapsed": false,
     "input": [
      "# What is the mode / median / mean of the random distribuion?\n",
      "randomSeries = pd.DataFrame(s)\n",
      "print \"mode (age): \" +  str(randomSeries.mode())\n",
      "print \"median (age): \" + str(randomSeries.median())\n",
      "print \"mean (age): \"  + str(randomSeries.mean())"
     ],
     "language": "python",
     "metadata": {
      "slideshow": {
       "slide_type": "fragment"
      }
     },
     "outputs": [
      {
       "output_type": "stream",
       "stream": "stdout",
       "text": [
        "mode (age): Empty DataFrame\n",
        "Columns: [0]\n",
        "Index: []\n",
        "median (age): 0    0.007036\n",
        "dtype: float64\n",
        "mean (age): 0    0.005541\n",
        "dtype: float64\n"
       ]
      }
     ],
     "prompt_number": 27
    },
    {
     "cell_type": "markdown",
     "metadata": {
      "slideshow": {
       "slide_type": "fragment"
      }
     },
     "source": [
      "## The Normal Probability Plot\n",
      "* A graphical technique to identify substantive departures from the normal distribution.  This includes identifying outliers, skewness, kurtosis, a need for transformations, and Mixture distribution.  \n",
      "* Normal probability plots are made of raw data, residuals from model fits, and estimated parameters.\n",
      "* In a normal probability plot (also called a \"normal plot\"), the sorted data are plotted vs. values selected to make the resulting image look close to a straight line if the data are approximately normally distributed.  Deviations from a straight line suggest departures from normality."
     ]
    },
    {
     "cell_type": "code",
     "collapsed": false,
     "input": [
      "sm.qqplot(s)\n",
      "pylab.show()"
     ],
     "language": "python",
     "metadata": {
      "slideshow": {
       "slide_type": "fragment"
      }
     },
     "outputs": [
      {
       "metadata": {},
       "output_type": "display_data",
       "png": "[encoded data removed]",
       "text": [
        "<matplotlib.figure.Figure at 0x1154d6a90>"
       ]
      }
     ],
     "prompt_number": 28
    },
    {
     "cell_type": "code",
     "collapsed": false,
     "input": [
      "sm.qqplot(dfElections.age)\n",
      "pylab.show()"
     ],
     "language": "python",
     "metadata": {
      "slideshow": {
       "slide_type": "fragment"
      }
     },
     "outputs": [
      {
       "metadata": {},
       "output_type": "display_data",
       "png": "[encoded data removed]",
       "text": [
        "<matplotlib.figure.Figure at 0x1154b8390>"
       ]
      }
     ],
     "prompt_number": 29
    },
    {
     "cell_type": "code",
     "collapsed": false,
     "input": [
      "sm.qqplot(dfElections.income)\n",
      "pylab.show()"
     ],
     "language": "python",
     "metadata": {
      "slideshow": {
       "slide_type": "fragment"
      }
     },
     "outputs": [
      {
       "metadata": {},
       "output_type": "display_data",
       "png": "[encoded data removed]",
       "text": [
        "<matplotlib.figure.Figure at 0x115703550>"
       ]
      }
     ],
     "prompt_number": 30
    },
    {
     "cell_type": "markdown",
     "metadata": {
      "slideshow": {
       "slide_type": "slide"
      }
     },
     "source": [
      "# Probability\n",
      "* Rules of Probability\n",
      "* Monty Hall \n",
      "* Monte Carlo\n",
      "* Bayes\u2019s Theorem "
     ]
    },
    {
     "cell_type": "markdown",
     "metadata": {
      "slideshow": {
       "slide_type": "fragment"
      }
     },
     "source": [
      "## Rules of Probability\n",
      "* __Sample Space__: the collection of all results.\n",
      "* __Power Set__: All collections of possible results.\n",
      "  * Ex: A dice may have six possible results. The subset {1,3,5} is an element of the power set of the sample space.\n",
      "  * These are __events__.\n",
      "  * The above event is the event that the dice falls on an odd number.\n",
      "* Probability assigns each event a value between zeor and one. The event made up of all possible results is assigned 1.\n",
      "* The probability of an event A is written as $P(A)$, $p(A)$ or $Pr(A)$. This mathematical definition of probability can extend to infinite sample spaces, and even uncountable sample spaces, using the concept of a measure.\n",
      "* The opposite or complement of an event A is the event [not A] (that is, the event of A not occurring); its probability is given by $P(not A) = 1 \u2212 P(A)$.\n",
      "  * As an example, the chance of not rolling a six on a six-sided die is $1 \u2013 (chance of rolling a six) = 1 - \\tfrac{1}{6} = \\tfrac{5}{6}$.\n",
      "* If two events A and B occur on a single performance of an experiment, this is called the intersection or joint probability of A and B, denoted as $P(A \\cap B)$.\n",
      "\n",
      "* __Independent events__:\n",
      "  * If two events, A and B are independent then the joint probability is\n",
      "  * $P(A \\mbox{ and }B) =  P(A \\cap B) = P(A) P(B)$, for example, if two coins are flipped the chance of both being heads is $\\tfrac{1}{2}\\times\\tfrac{1}{2} = \\tfrac{1}{4}$.\n",
      "\n",
      "* __Mutually exclusive events__:\n",
      "  * If either event A or event B or both events occur on a single performance of an experiment this is called the union of the events A and B denoted as $P(A \\cup B)$. \n",
      "  * If two events are mutually exclusive then the probability of either occurring is $P(A\\mbox{ or }B) =  P(A \\cup B)= P(A) + P(B)$.\n",
      "  * For example, the chance of rolling a 1 or 2 on a six-sided die is $P(1\\mbox{ or }2) = P(1) + P(2) = \\tfrac{1}{6} + \\tfrac{1}{6} = \\tfrac{1}{3}$.\n",
      "\n",
      "* __Not mutually exclusive events__:\n",
      "  * If the events are not mutually exclusive then $P\\left(A \\hbox{ or } B\\right)=P\\left(A\\right)+P\\left(B\\right)-P\\left(A \\mbox{ and } B\\right)$.\n",
      "  * For example, when drawing a single card at random from a regular deck of cards, the chance of getting a heart or a face card (J,Q,K) (or one that is both) is $\\tfrac{13}{52} + \\tfrac{12}{52} - \\tfrac{3}{52} = \\tfrac{11}{26}$, because of the 52 cards of a deck 13 are hearts, 12 are face cards, and 3 are both: here the possibilities included in the \"3 that are both\" are included in each of the \"13 hearts\" and the \"12 face cards\" but should only be counted once."
     ]
    },
    {
     "cell_type": "markdown",
     "metadata": {
      "slideshow": {
       "slide_type": "slide"
      }
     },
     "source": [
      "##Monty Hall Problem:\n",
      "\n",
      "* On _Let's Make a Deal_, the host Monty Hall shows you three closed doors and tells you that there is a prize behind each door: one prize is a car, the other two are less valuable prizes like peanut butter and fake fingernails. The prizes are arranged at random.\n",
      "* The object of the game is to guess which door has the car. If you guess right, you get to keep the car.\n",
      "* So you pick a door, which we will call Door A. We\u2019ll call the other doors B and C.\n",
      "* Before opening the door you chose, Monty likes to increase the suspense by opening either Door B or C, whichever does not have the car. \n",
      "   * If the car is actually behind Door A, Monty can safely open B or C, so he chooses one at random.\n",
      "* Then Monty offers you the option to stick with your original choice or switch to the one remaining unopened door.\n",
      "\n",
      "###Should you switch your choice, or should you stick with your original?\n",
      "\n",
      "* Intuition: It doesn't make a difference\n",
      "\n",
      "###Let's simulate it to find out"
     ]
    },
    {
     "cell_type": "code",
     "collapsed": false,
     "input": [
      "import random # We need the random module to select integers in [1,3] randomly\n",
      " \n",
      " \n",
      "def pick_door():\n",
      "    \"\"\"\n",
      "    Function to pick a door. Returns an integer 1, 2, or 3 at random.\n",
      "    \"\"\"\n",
      "    return random.randint(1,3)\n",
      " \n",
      " \n",
      "class MontyHall:\n",
      "    \"\"\"\n",
      "    Class to model the Monty Hall problem.\n",
      "    \"\"\"\n",
      "    def __init__(self):\n",
      "        \"\"\"\n",
      "        Creates an instance of the Monty Hall problem. This will be called\n",
      "        automatically when the class is formed.\n",
      "        \"\"\"\n",
      "        # Pick a prize door randomly and store as a variable.\n",
      "        self.prize_door = pick_door()\n",
      "        # We'll create variables for the selected door and removed door as\n",
      "        # well, but we won't set them just yet.\n",
      "        self.selected_door = None\n",
      "        self.removed_door = None\n",
      " \n",
      "    def select_door(self):\n",
      "        \"\"\"\n",
      "        Randomly selects a door for the contestant.\n",
      "        \"\"\"\n",
      "        self.selected_door = pick_door()\n",
      " \n",
      "    def remove_door(self):\n",
      "        \"\"\"\n",
      "        This is how the host removes a (non-prize/non-selected) door..\n",
      "        \"\"\"\n",
      "        # Pick a door at random.\n",
      "        d = pick_door()\n",
      "        # If that door is the prize door or the contestant's door, re-pick.\n",
      "        while d == self.selected_door or d == self.prize_door:\n",
      "            d = pick_door()\n",
      "        # set the removed door to d\n",
      "        self.removed_door = d\n",
      " \n",
      "    def switch_choice(self):\n",
      "        \"\"\"\n",
      "        Switches the selected door once a non-prize door is removed.\n",
      "        \"\"\"\n",
      "        # 1+2+3=6. There's only one choice of door if we switch our selection.\n",
      "        self.selected_door = 6 - self.selected_door - self.removed_door\n",
      " \n",
      "    def user_wins(self):\n",
      "        \"\"\"\n",
      "        Determine if the user wins. Return true on win, false on lose.\n",
      "        \"\"\"\n",
      "        if self.selected_door == self.prize_door:\n",
      "            return True\n",
      "        else:\n",
      "            return False\n",
      " \n",
      "    def run_game(self, switch=True):\n",
      "        \"\"\"\n",
      "        Once a problem is initialized, run the game.\n",
      " \n",
      "        'switch' determines if the user changes selection during the game.\n",
      "        \"\"\"\n",
      "        # The user selects a door.\n",
      "        self.select_door()\n",
      "        # The host removes a door.\n",
      "        self.remove_door()\n",
      "        # The user can switch selection of doors.\n",
      "        if switch:\n",
      "            self.switch_choice()\n",
      "        # Determine if the user wins.\n",
      "        return self.user_wins()\n",
      " \n",
      " \n",
      " \n",
      "# Now, we'll run the game. When asked if we want to switch door selection when\n",
      "# the door is removed by the host, we'll say 'yes' and switch our choice of\n",
      "# door. We'll run that experiment one million times, always switching choice\n",
      "# when given the chance. Here's what that looks like:\n",
      " \n",
      "wins, losses = 0, 0\n",
      "for i in range(1000000):\n",
      "    # make an instance of the game, call it 'm'\n",
      "    m = MontyHall()\n",
      "    # run the game and switch choice of door.\n",
      "    if m.run_game(switch=True):\n",
      "        # a return value of True means we've won\n",
      "        wins += 1\n",
      "    else:\n",
      "        # a return value of False means we've lost\n",
      "        losses += 1\n",
      " \n",
      "# Now that the game has been run one million times, compute/display stats.\n",
      "perc_win = 100.0*wins / (wins+losses)\n",
      " \n",
      "print \"\\nOne million Monty Hall games (with switching):\"\n",
      "print \"  won:\", wins, \"games\"\n",
      "print \"  lost:\", losses, \"games\"\n",
      "print \"  odds: %.2f%% winning percentage\" % perc_win\n",
      " \n",
      " \n",
      "# Now, we'll run the game one million times and always stick to our original\n",
      "# door selection every single time.\n",
      " \n",
      "wins, losses = 0, 0\n",
      "for i in range(1000000):\n",
      "    # make an instance of the game, call it 'm'\n",
      "    m = MontyHall()\n",
      "    # run the game and switch choice of door.\n",
      "    if m.run_game(switch=False):\n",
      "        # a return value of True means we've won\n",
      "        wins += 1\n",
      "    else:\n",
      "        # a return value of False means we've lost\n",
      "        losses += 1\n",
      " \n",
      "# Now that the game has been run one million times, compute/display stats.\n",
      "perc_win = 100.0*wins / (wins+losses)\n",
      " \n",
      "print \"\\nOne million Monty Hall games (staying with original choice):\"\n",
      "print \"  won:\", wins, \"games\"\n",
      "print \"  lost:\", losses, \"games\"\n",
      "print \"  odds: %.2f%% winning percentage\\n\" % perc_win"
     ],
     "language": "python",
     "metadata": {
      "slideshow": {
       "slide_type": "slide"
      }
     },
     "outputs": [
      {
       "output_type": "stream",
       "stream": "stdout",
       "text": [
        "\n",
        "One million Monty Hall games (with switching):\n",
        "  won: 666889 games\n",
        "  lost: 333111 games\n",
        "  odds: 66.69% winning percentage\n",
        "\n",
        "One million Monty Hall games (staying with original choice):"
       ]
      },
      {
       "output_type": "stream",
       "stream": "stdout",
       "text": [
        "\n",
        "  won: 331959 games\n",
        "  lost: 668041 games\n",
        "  odds: 33.20% winning percentage\n",
        "\n"
       ]
      }
     ],
     "prompt_number": 31
    },
    {
     "cell_type": "markdown",
     "metadata": {
      "slideshow": {
       "slide_type": "slide"
      }
     },
     "source": [
      "###Our intuition was wrong, and it got the best of us!\n",
      "\n",
      "###Why?\n",
      "* Intuition says that it's a 50/50 likelihood since there are two doors left.\n",
      "* However, there are actually three possible scenarios:\n",
      "   * Car behind A, B, or C\n",
      "   * So the likelihood that the car is behind any door is $\\tfrac{1}{3}$\n",
      "   * If you switch, that means you win in either scenario B or C: $$P(B\\mbox{ or }C) = P(B) + P(C) = \\tfrac{1}{3} + \\tfrac{1}{3} = \\tfrac{2}{3}$$\n",
      "   \n",
      "__We will revisit this when we discuss Bayes' Theorem__"
     ]
    },
    {
     "cell_type": "markdown",
     "metadata": {
      "slideshow": {
       "slide_type": "slide"
      }
     },
     "source": [
      "## Modeling Basic Income vs Basic Jobs\n",
      "\n",
      "* Here's a policy discussion. We want to look at this purely from a mathematical perspective.\n",
      "* Should a government provide a __basic income__ or a __basic job__ to its citizens?\n",
      "   * A __basic income__ is a guaranteed income regardless of employment situation, replacing all welfare programs. \n",
      "   * A __basic job__ provides support to anyone who needs it on one condition: you must perform some level of work to receive the income.\n",
      "   \n",
      "### Can we determine which program has a better cost / benefit ratio?\n",
      "* Try to model it with a Monte Carlo solution\n",
      "\n",
      "* Monte Carlo is a simulation technique where you draw many samples from a normal distribution, ultimately resulting in a distribution similar to the original distribution.\n",
      "   * Strength: Easy to write a simulation, not much probability knowledge needed\n",
      "   * Weakness: Compute intensive - can take a long time."
     ]
    },
    {
     "cell_type": "code",
     "collapsed": false,
     "input": [
      "from pylab import *\n",
      "from scipy.stats import *\n",
      " \n",
      "num_adults = 227e6\n",
      "basic_income = 7.25*40*50\n",
      "labor_force = 154e6\n",
      "disabled_adults = 21e6\n",
      "current_wealth_transfers = 3369e9\n",
      " \n",
      "def jk_rowling(num_non_workers):\n",
      "    num_of_jk_rowlings = binom(num_non_workers, 1e-7).rvs()\n",
      "    return num_of_jk_rowlings * 1e9\n",
      " \n",
      "def basic_income_cost_benefit():\n",
      "    direct_costs = num_adults * basic_income\n",
      "    administrative_cost_per_person = norm(250,75)\n",
      "    non_worker_multiplier = uniform(-0.10, 0.15).rvs()\n",
      "    non_workers = (num_adults-labor_force-disabled_adults) * (1+non_worker_multiplier)\n",
      "    marginal_worker_hourly_productivity = norm(10,1)\n",
      " \n",
      "    administrative_costs = num_adults * administrative_cost_per_person.rvs()\n",
      "    labor_effect_costs_benefit = -1 * ((num_adults-labor_force-disabled_adults) *\n",
      "                                       non_worker_multiplier *\n",
      "                                       (40*52*marginal_worker_hourly_productivity.rvs())\n",
      "                                       )\n",
      "    return direct_costs + administrative_costs + labor_effect_costs_benefit - jk_rowling(non_workers)\n",
      " \n",
      "def basic_job_cost_benefit():\n",
      "    administrative_cost_per_disabled_person = norm(500,150).rvs()\n",
      "    administrative_cost_per_worker = norm(5000, 1500).rvs()\n",
      "    non_worker_multiplier = uniform(-0.20, 0.25).rvs()\n",
      "    basic_job_hourly_productivity = uniform(0.0, 7.25).rvs()\n",
      " \n",
      "    disabled_cost = disabled_adults * (basic_income + administrative_cost_per_disabled_person)\n",
      "    num_basic_workers = ((num_adults - disabled_adults - labor_force) *\n",
      "                         (1+non_worker_multiplier)\n",
      "                         )\n",
      " \n",
      "    basic_worker_cost_benefit = num_basic_workers * (\n",
      "        basic_income +\n",
      "        administrative_cost_per_worker -\n",
      "        40*50*basic_job_hourly_productivity\n",
      "        )\n",
      "    return disabled_cost + basic_worker_cost_benefit\n",
      " \n",
      " \n",
      "N = 1024*32\n",
      "bi = zeros(shape=(N,), dtype=float)\n",
      "bj = zeros(shape=(N,), dtype=float)\n",
      " \n",
      "for k in range(N):\n",
      "    bi[k] = basic_income_cost_benefit()\n",
      "    bj[k] = basic_job_cost_benefit()\n",
      " \n",
      "subplot(211)\n",
      "width = 4e12\n",
      "height=50*N/1024\n",
      " \n",
      "title(\"Basic Income\")\n",
      "hist(bi, bins=50)\n",
      "axis([0,width,0,height])\n",
      " \n",
      "subplot(212)\n",
      "title(\"Basic Job\")\n",
      "hist(bj, bins=50)\n",
      " \n",
      "axis([0,width,0,height])\n",
      " \n",
      "show()"
     ],
     "language": "python",
     "metadata": {
      "slideshow": {
       "slide_type": "slide"
      }
     },
     "outputs": [
      {
       "metadata": {},
       "output_type": "display_data",
       "png": "[encoded data removed]",
       "text": [
        "<matplotlib.figure.Figure at 0x115436ed0>"
       ]
      }
     ],
     "prompt_number": 32
    },
    {
     "cell_type": "markdown",
     "metadata": {
      "slideshow": {
       "slide_type": "slide"
      }
     },
     "source": [
      "### Our answer:\n",
      "* A __basic job__ has a lower cost / benefit than a basic income, thus given the conditions outlined here it is the preferred solution."
     ]
    },
    {
     "cell_type": "markdown",
     "metadata": {
      "slideshow": {
       "slide_type": "slide"
      }
     },
     "source": [
      "### Bayes' Theorem\n",
      "\n",
      "* A method to understand the conditional probability of two events\n",
      "\n",
      "* Bayes' Theorem is: $$P(A|B) = \\frac{P(B | A)\\, P(A)}{P(B)}$$\n",
      "   * Here $A$ and $B$ are events\n",
      "   * $P(A)$ and $P(B)$ are the probabilities of $A$ and $B$, and\n",
      "   * $P(A|B)$, the conditional probability, is the probability of $A$ given that $B$ is true."
     ]
    },
    {
     "cell_type": "markdown",
     "metadata": {
      "slideshow": {
       "slide_type": "slide"
      }
     },
     "source": [
      "##Huh?\n",
      "\n",
      "Let's start over, and put it in English:\n",
      "\n",
      "* First, we need to distinguish between __tests__ and __events__\n",
      "    * Tests are not the event. \n",
      "        * We have a cancer test, separate from the event of actually having cancer. We have a test for spam, separate from the event of actually having a spam message.\n",
      "\n",
      "    * Tests are flawed. \n",
      "        * Tests detect things that don\u2019t exist (false positive), and miss things that do exist (false negative).\n",
      "\n",
      "    * Tests give us test probabilities, not the real probabilities. \n",
      "        * People often consider the test results directly, without considering the errors in the tests.\n",
      "\n",
      "    * False positives skew results.\n",
      "        * Suppose you are searching for something really rare (1 in a million). Even with a good test, it\u2019s likely that a positive result is really a false positive on somebody in the 999,999.\n",
      "\n",
      "    * People prefer natural numbers. \n",
      "        * Saying \u201c100 in 10,000\u2033 rather than \u201c1%\u201d helps people work through the numbers with fewer errors, especially with multiple percentages (\u201cOf those 100, 80 will test positive\u201d rather than \u201c80% of the 1% will test positive\u201d)."
     ]
    },
    {
     "cell_type": "markdown",
     "metadata": {
      "slideshow": {
       "slide_type": "slide"
      }
     },
     "source": [
      "__Bayes\u2019 theorem finds the actual probability of an event from the results of your tests.__\n",
      "\n",
      "For example, you can:\n",
      "\n",
      "* __Correct for measurement errors.__ If you know the real probabilities and the chance of a false positive and false negative, you can correct for measurement errors.\n",
      "\n",
      "* __Relate the actual probability to the measured test probability.__ Bayes\u2019 theorem lets you relate $P(A|B)$, the chance that an event A happened given the indicator B, and $P(X|A)$, the chance the indicator B happened given that event A occurred. Given mammogram test results and known error rates, you can predict the actual chance of having cancer."
     ]
    },
    {
     "cell_type": "markdown",
     "metadata": {
      "slideshow": {
       "slide_type": "slide"
      }
     },
     "source": [
      "## The Bayesian Approach to Breast Cancer Testing\n",
      "\n",
      "Let's assume we know the following scenario:\n",
      "* 1% of women have breast cancer (and therefore 99% do not).\n",
      "* 80% of mammograms detect breast cancer when it is there (and therefore 20% miss it).\n",
      "* 9.6% of mammograms detect breast cancer when it\u2019s __not__ there (and therefore 90.4% correctly return a negative result)\n",
      "\n",
      "The Probability Looks like:\n",
      "\n",
      "|               | Cancer (1%) | No Cancer (99%) |\n",
      "| ------------- |-------------|-----------------|\n",
      "| Positive Test |      80%    |      9.6%       |\n",
      "| Negative Test |      20%    |     90.4%       |\n",
      "\n",
      "\n",
      "###How do we read it?\n",
      "* 1% of people have cancer\n",
      "* If you __already have cancer__, you are in the first column. There\u2019s an 80% chance you will test positive. There\u2019s a 20% chance you will test negative.\n",
      "* If you __don\u2019t have cancer__, you are in the second column. There\u2019s a 9.6% chance you will test positive, and a 90.4% chance you will test negative."
     ]
    },
    {
     "cell_type": "markdown",
     "metadata": {
      "slideshow": {
       "slide_type": "slide"
      }
     },
     "source": [
      "## How Accurate Is The Test?\n",
      "\n",
      "* Now suppose you get a positive test result. What are the chances you have cancer? 80%? 99%? 1%?\n",
      "\n",
      "* Here\u2019s how I think about it:\n",
      "    * A positive result means we\u2019re somewhere in the top row of our table. \n",
      "        * Let\u2019s not assume anything \u2014 it could be a true positive or a false positive.\n",
      "* The chances of a true positive = chance you have cancer * chance test caught it = 1% * 80% = .008\n",
      "* The chances of a false positive = chance you don\u2019t have cancer * chance test caught it anyway = 99% * 9.6% = 0.09504\n",
      "\n",
      "The probability table now looks like this:\n",
      "\n",
      "|               |      Cancer (1%)     |     No Cancer (99%)    |\n",
      "| ------------- |----------------------|------------------------|\n",
      "| Positive Test |  True Pos: 1% * 80%  | False Pos: 99% * 9.6%  |\n",
      "| Negative Test | False Neg: 1% * 20%  | True Neg: 99% * 90.4%  |\n",
      "\n",
      "Remember, the chance of an event is the number of ways it could happen, given all possible outcomes:\n",
      "\n",
      "$$P(event) = \\frac{P(desired)}{P(all)}$$\n",
      "\n",
      "The chance of getting a real, positive result is .008. The chance of getting any type of positive result is the chance of a true positive plus the chance of a false positive (.008 + 0.09504 = .10304).\n",
      "\n",
      "So, our chance of cancer is .008/.10304 = 0.0776, or about 7.8%.\n"
     ]
    },
    {
     "cell_type": "markdown",
     "metadata": {
      "slideshow": {
       "slide_type": "slide"
      }
     },
     "source": [
      "So: a positive mammogram only means you have a __7.8%__ chance of cancer, rather than __80%__ (the supposed accuracy of the test). \n",
      "\n",
      "It might seem strange at first but it makes sense:\n",
      "\n",
      "* The test gives a false positive 10% of the time, so there will be a ton of false positives in any given population. \n",
      "    * There will be so many false positives, in fact, that most of the positive test results will be wrong.\n",
      "\n",
      "* Think about it a different way: \n",
      "    * We start with 100 people.\n",
      "    * 1 person has cancer.\n",
      "        * They are highly likely to test positive. \n",
      "    * Of 99 remaining people - 10 will test positive falsely.\n",
      "    * So just 1 result in 11 is correct, so there\u2019s a 1/11 chance of having cancer given a positive test. \n",
      "    \n",
      "    * The real number is 7.8% (closer to 1/13, computed above), but we found a reasonable estimate without a calculator."
     ]
    },
    {
     "cell_type": "markdown",
     "metadata": {
      "slideshow": {
       "slide_type": "slide"
      }
     },
     "source": [
      "## Reintroduce the Bayes' Theorem Equation:\n",
      "\n",
      "Bayes' Theorem is: $$P(A|B) = \\frac{P(B|A)\\, P(A)}{P(B|A) \\centerdot P(A) + P(B|\\sim A) \\centerdot P(\\sim A)}$$\n",
      "\n",
      "In the context of the above problem:\n",
      "P(A|B) = Chance of having cancer (A) given a positive test (B). This is what we want to know: How likely is it to have cancer with a positive result? In our case it was 7.8%.\n",
      "P(B|A) = Chance of a positive test (B) given that you had cancer (A). This is the chance of a true positive, 80% in our case.\n",
      "P(A) = Chance of having cancer (1%).\n",
      "P(~A) = Chance of not having cancer (99%).\n",
      "P(B|~A) = Chance of a positive test (B) given that you didn\u2019t have cancer (~A). This is a false positive, 9.6% in our case."
     ]
    },
    {
     "cell_type": "markdown",
     "metadata": {
      "slideshow": {
       "slide_type": "slide"
      }
     },
     "source": [
      "## Solve the cancer test problem with Bayes:\n",
      "\n",
      "$$P(A|B) = \\frac{0.80 \\centerdot 0.01}{0.8 \\centerdot 0.01 + 0.096 \\centerdot .99}$$\n",
      "\n",
      "$$P(A|B) = \\frac{.008}{.10304}$$\n",
      "\n",
      "$$P(A|B) = 0.0776 = 0.078 = 7.8%$$"
     ]
    },
    {
     "cell_type": "markdown",
     "metadata": {
      "slideshow": {
       "slide_type": "slide"
      }
     },
     "source": [
      "## Exercise: \n",
      "\n",
      "* What is the chance of a false negative (ie, you test negative but actually have cancer?)"
     ]
    },
    {
     "cell_type": "markdown",
     "metadata": {
      "slideshow": {
       "slide_type": "fragment"
      }
     },
     "source": []
    },
    {
     "cell_type": "markdown",
     "metadata": {
      "slideshow": {
       "slide_type": "skip"
      }
     },
     "source": [
      "# Operations on Distributions\n",
      "* Skewness\n",
      "* Random Variables\n",
      "* PDFs\n",
      "* Convolution\n",
      "* Why Normal?\n",
      "* Central Limit Theorem\n",
      "* The Distribution Framework "
     ]
    },
    {
     "cell_type": "markdown",
     "metadata": {
      "slideshow": {
       "slide_type": "skip"
      }
     },
     "source": [
      "# Hypothesis Testing\n",
      "* Testing a Difference in Means\n",
      "* Choosing a Threshold\n",
      "* Defining the Effect\n",
      "* Interpreting the Result\n",
      "* Cross-Validation\n",
      "* Reporting Bayesian Probabilities\n",
      "* Chi Square ( Test\n",
      "* Efficient Resampling\n",
      "* Power"
     ]
    },
    {
     "cell_type": "markdown",
     "metadata": {
      "slideshow": {
       "slide_type": "skip"
      }
     },
     "source": [
      "#Estimation\n",
      "* The Estimation Game\n",
      "* Guess the Variance\n",
      "* Understanding Error\n",
      "* Exponential Distributions\n",
      "* Confidence Intervals\n",
      "* Bayesian Estimation / Implementing it\n",
      "* Censored Data\n",
      "* The Locomotive Problem"
     ]
    },
    {
     "cell_type": "markdown",
     "metadata": {
      "slideshow": {
       "slide_type": "skip"
      }
     },
     "source": [
      "#Correlation\n",
      "* Standard Scores\n",
      "* Covariance\n",
      "* Correlation\n",
      "* Spearman\u2019s Rank Correlation\n",
      "* Least Squares Fit\n",
      "* Goodness of Fit\n",
      "* Correlation and Causation "
     ]
    }
   ],
   "metadata": {}
  }
 ]
}