{
 "metadata": {
  "celltoolbar": "Slideshow",
  "name": "",
  "signature": "sha256:64535a0aef5f6f3ab1be8dafe49e4a734de75eb3c2c72a5f8ed75dc6a18a5935"
 },
 "nbformat": 3,
 "nbformat_minor": 0,
 "worksheets": [
  {
   "cells": [
    {
     "cell_type": "markdown",
     "metadata": {
      "slideshow": {
       "slide_type": "slide"
      }
     },
     "source": [
      "#Creating a simple development environment"
     ]
    },
    {
     "cell_type": "markdown",
     "metadata": {
      "slideshow": {
       "slide_type": "slide"
      }
     },
     "source": [
      "## Two options:\n",
      "\n",
      "1. __Simple__: Anaconda\n",
      "2. __Manual__: pick and choose packages by hand."
     ]
    },
    {
     "cell_type": "markdown",
     "metadata": {
      "slideshow": {
       "slide_type": "fragment"
      }
     },
     "source": [
      "## Installing Anaconda:\n",
      "1. Go to [Continuum Analytics Store - Anaconda](https://store.continuum.io/cshop/anaconda/)\n",
      "    * Full version completely free.\n",
      "    * Includes 195 packages - listed [here](http://docs.continuum.io/anaconda/pkg-docs.html)"
     ]
    },
    {
     "cell_type": "markdown",
     "metadata": {
      "slideshow": {
       "slide_type": "slide"
      }
     },
     "source": [
      "If you want to do it by hand:\n",
      "=============================\n",
      "\n",
      "__Need at minimum the following:__\n",
      "* python:\n",
      "    * [install page](https://www.python.org/downloads/)\n",
      "    * pip - likely installed with your distribution but if not, install from [here](https://pip.pypa.io/en/latest/installing.html)\n",
      "* ipython:\n",
      "    * `pip install ipython`\n",
      "* pandas\n",
      "    * `pip install pandas`\n",
      "* matplotlib\n",
      "    * `pip install matplotlib`\n",
      "* numpy\n",
      "    * `pip install numpy`\n",
      "* scipy\n",
      "    * `pip install scipy`\n",
      "* statsmodels\n",
      "    * `pip install statsmodels`\n",
      "* scikit-learn\n",
      "    * `pip install sklearn`"
     ]
    },
    {
     "cell_type": "markdown",
     "metadata": {
      "slideshow": {
       "slide_type": "slide"
      }
     },
     "source": [
      "## Other helpful tools:\n",
      "\n",
      "1. __Git and Github__:\n",
      "    a. We will spend some time at the end of class covering this, but if you are interested in the interim, follow the instructions on the `git` site [here](http://git-scm.com/book/en/v2)"
     ]
    },
    {
     "cell_type": "code",
     "collapsed": false,
     "input": [],
     "language": "python",
     "metadata": {
      "slideshow": {
       "slide_type": "skip"
      }
     },
     "outputs": []
    }
   ],
   "metadata": {}
  }
 ]
}