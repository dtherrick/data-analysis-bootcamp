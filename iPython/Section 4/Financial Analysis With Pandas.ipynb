{
 "metadata": {
  "celltoolbar": "Slideshow",
  "name": "",
  "signature": "sha256:4b74450287e0d576fc7e99295be62d758ba51127ff22b6db52e6a5ab67b41756"
 },
 "nbformat": 3,
 "nbformat_minor": 0,
 "worksheets": [
  {
   "cells": [
    {
     "cell_type": "heading",
     "level": 1,
     "metadata": {
      "slideshow": {
       "slide_type": "slide"
      }
     },
     "source": [
      "Financial Analysis in Python"
     ]
    },
    {
     "cell_type": "markdown",
     "metadata": {
      "slideshow": {
       "slide_type": "slide"
      }
     },
     "source": [
      "What you will learn in this tutorial\n",
      "------------------------------------\n",
      "\n",
      "* Timeseries analysis using Pandas\n",
      "* Using Google Trends to predict market movements\n",
      "* Common trading strategies:\n",
      "   * Momentum trading\n",
      "   * Mean-reversion"
     ]
    },
    {
     "cell_type": "heading",
     "level": 1,
     "metadata": {
      "slideshow": {
       "slide_type": "slide"
      }
     },
     "source": [
      "Pandas basics (Data analysis / Idea generation)"
     ]
    },
    {
     "cell_type": "code",
     "collapsed": false,
     "input": [
      "from IPython.core.display import HTML\n",
      "HTML(\"<iframe src=http://pandas.pydata.org width=800 height=350></iframe>\")"
     ],
     "language": "python",
     "metadata": {
      "slideshow": {
       "slide_type": "slide"
      }
     },
     "outputs": [
      {
       "html": [
        "<iframe src=http://pandas.pydata.org width=800 height=350></iframe>"
       ],
       "metadata": {},
       "output_type": "pyout",
       "prompt_number": 1,
       "text": [
        "<IPython.core.display.HTML at 0x110348c50>"
       ]
      }
     ],
     "prompt_number": 1
    },
    {
     "cell_type": "code",
     "collapsed": false,
     "input": [
      "import datetime\n",
      "\n",
      "import pandas as pd\n",
      "import pandas.io.data\n",
      "from pandas import Series, DataFrame\n",
      "\n",
      "%matplotlib inline\n",
      "pd.__version__"
     ],
     "language": "python",
     "metadata": {
      "slideshow": {
       "slide_type": "skip"
      }
     },
     "outputs": [
      {
       "metadata": {},
       "output_type": "pyout",
       "prompt_number": 2,
       "text": [
        "'0.15.2'"
       ]
      }
     ],
     "prompt_number": 2
    },
    {
     "cell_type": "code",
     "collapsed": false,
     "input": [
      "import matplotlib.pyplot as plt\n",
      "import matplotlib as mpl\n",
      "mpl.rc('figure', figsize=(8, 7))\n",
      "mpl.__version__"
     ],
     "language": "python",
     "metadata": {
      "slideshow": {
       "slide_type": "skip"
      }
     },
     "outputs": [
      {
       "metadata": {},
       "output_type": "pyout",
       "prompt_number": 3,
       "text": [
        "'1.4.2'"
       ]
      }
     ],
     "prompt_number": 3
    },
    {
     "cell_type": "markdown",
     "metadata": {
      "slideshow": {
       "slide_type": "slide"
      }
     },
     "source": [
      "Creating/loading time series data\n",
      "===================\n",
      "\n",
      "* From Python structures\n",
      "* From Yahoo finance"
     ]
    },
    {
     "cell_type": "heading",
     "level": 3,
     "metadata": {
      "slideshow": {
       "slide_type": "slide"
      }
     },
     "source": [
      "From Python structures"
     ]
    },
    {
     "cell_type": "code",
     "collapsed": false,
     "input": [
      "labels = ['a', 'b', 'c', 'd', 'e']\n",
      "s = Series([1, 2, 3, 4, 5], index=labels)\n",
      "s"
     ],
     "language": "python",
     "metadata": {
      "slideshow": {
       "slide_type": "fragment"
      }
     },
     "outputs": [
      {
       "metadata": {},
       "output_type": "pyout",
       "prompt_number": 4,
       "text": [
        "a    1\n",
        "b    2\n",
        "c    3\n",
        "d    4\n",
        "e    5\n",
        "dtype: int64"
       ]
      }
     ],
     "prompt_number": 4
    },
    {
     "cell_type": "code",
     "collapsed": false,
     "input": [
      "'a' in s"
     ],
     "language": "python",
     "metadata": {
      "slideshow": {
       "slide_type": "fragment"
      }
     },
     "outputs": [
      {
       "metadata": {},
       "output_type": "pyout",
       "prompt_number": 9,
       "text": [
        "True"
       ]
      }
     ],
     "prompt_number": 9
    },
    {
     "cell_type": "code",
     "collapsed": false,
     "input": [
      "print s['b']\n",
      "\n",
      "print s[2]\n",
      "\n",
      "print s.b"
     ],
     "language": "python",
     "metadata": {
      "slideshow": {
       "slide_type": "fragment"
      }
     },
     "outputs": [
      {
       "output_type": "stream",
       "stream": "stdout",
       "text": [
        "2\n",
        "3\n",
        "2\n"
       ]
      }
     ],
     "prompt_number": 10
    },
    {
     "cell_type": "code",
     "collapsed": false,
     "input": [
      "mapping = s.to_dict()\n",
      "mapping"
     ],
     "language": "python",
     "metadata": {
      "slideshow": {
       "slide_type": "fragment"
      }
     },
     "outputs": [
      {
       "metadata": {},
       "output_type": "pyout",
       "prompt_number": 11,
       "text": [
        "{'a': 1, 'b': 2, 'c': 3, 'd': 4, 'e': 5}"
       ]
      }
     ],
     "prompt_number": 11
    },
    {
     "cell_type": "code",
     "collapsed": false,
     "input": [
      "Series(mapping)"
     ],
     "language": "python",
     "metadata": {
      "slideshow": {
       "slide_type": "fragment"
      }
     },
     "outputs": [
      {
       "metadata": {},
       "output_type": "pyout",
       "prompt_number": 12,
       "text": [
        "a    1\n",
        "b    2\n",
        "c    3\n",
        "d    4\n",
        "e    5\n",
        "dtype: int64"
       ]
      }
     ],
     "prompt_number": 12
    },
    {
     "cell_type": "heading",
     "level": 3,
     "metadata": {
      "slideshow": {
       "slide_type": "slide"
      }
     },
     "source": [
      "From Yahoo finance"
     ]
    },
    {
     "cell_type": "code",
     "collapsed": false,
     "input": [
      "aapl = pd.io.data.get_data_yahoo('AAPL', \n",
      "                                 start=datetime.datetime(2006, 10, 1), \n",
      "                                 end=datetime.datetime(2012, 1, 1))\n",
      "aapl.head()"
     ],
     "language": "python",
     "metadata": {
      "slideshow": {
       "slide_type": "fragment"
      }
     },
     "outputs": [
      {
       "html": [
        "<div style=\"max-height:1000px;max-width:1500px;overflow:auto;\">\n",
        "<table border=\"1\" class=\"dataframe\">\n",
        "  <thead>\n",
        "    <tr style=\"text-align: right;\">\n",
        "      <th></th>\n",
        "      <th>Open</th>\n",
        "      <th>High</th>\n",
        "      <th>Low</th>\n",
        "      <th>Close</th>\n",
        "      <th>Volume</th>\n",
        "      <th>Adj Close</th>\n",
        "    </tr>\n",
        "    <tr>\n",
        "      <th>Date</th>\n",
        "      <th></th>\n",
        "      <th></th>\n",
        "      <th></th>\n",
        "      <th></th>\n",
        "      <th></th>\n",
        "      <th></th>\n",
        "    </tr>\n",
        "  </thead>\n",
        "  <tbody>\n",
        "    <tr>\n",
        "      <th>2006-10-02</th>\n",
        "      <td> 75.10</td>\n",
        "      <td> 75.87</td>\n",
        "      <td> 74.30</td>\n",
        "      <td> 74.86</td>\n",
        "      <td> 178159800</td>\n",
        "      <td> 10.13</td>\n",
        "    </tr>\n",
        "    <tr>\n",
        "      <th>2006-10-03</th>\n",
        "      <td> 74.45</td>\n",
        "      <td> 74.95</td>\n",
        "      <td> 73.19</td>\n",
        "      <td> 74.08</td>\n",
        "      <td> 197677200</td>\n",
        "      <td> 10.02</td>\n",
        "    </tr>\n",
        "    <tr>\n",
        "      <th>2006-10-04</th>\n",
        "      <td> 74.10</td>\n",
        "      <td> 75.46</td>\n",
        "      <td> 73.16</td>\n",
        "      <td> 75.38</td>\n",
        "      <td> 207270700</td>\n",
        "      <td> 10.20</td>\n",
        "    </tr>\n",
        "    <tr>\n",
        "      <th>2006-10-05</th>\n",
        "      <td> 74.53</td>\n",
        "      <td> 76.16</td>\n",
        "      <td> 74.13</td>\n",
        "      <td> 74.83</td>\n",
        "      <td> 170970800</td>\n",
        "      <td> 10.12</td>\n",
        "    </tr>\n",
        "    <tr>\n",
        "      <th>2006-10-06</th>\n",
        "      <td> 74.42</td>\n",
        "      <td> 75.04</td>\n",
        "      <td> 73.81</td>\n",
        "      <td> 74.22</td>\n",
        "      <td> 116739700</td>\n",
        "      <td> 10.04</td>\n",
        "    </tr>\n",
        "  </tbody>\n",
        "</table>\n",
        "</div>"
       ],
       "metadata": {},
       "output_type": "pyout",
       "prompt_number": 13,
       "text": [
        "             Open   High    Low  Close     Volume  Adj Close\n",
        "Date                                                        \n",
        "2006-10-02  75.10  75.87  74.30  74.86  178159800      10.13\n",
        "2006-10-03  74.45  74.95  73.19  74.08  197677200      10.02\n",
        "2006-10-04  74.10  75.46  73.16  75.38  207270700      10.20\n",
        "2006-10-05  74.53  76.16  74.13  74.83  170970800      10.12\n",
        "2006-10-06  74.42  75.04  73.81  74.22  116739700      10.04"
       ]
      }
     ],
     "prompt_number": 13
    },
    {
     "cell_type": "code",
     "collapsed": false,
     "input": [
      "aapl.index"
     ],
     "language": "python",
     "metadata": {
      "slideshow": {
       "slide_type": "fragment"
      }
     },
     "outputs": [
      {
       "metadata": {},
       "output_type": "pyout",
       "prompt_number": 14,
       "text": [
        "<class 'pandas.tseries.index.DatetimeIndex'>\n",
        "[2006-10-02, ..., 2011-12-30]\n",
        "Length: 1323, Freq: None, Timezone: None"
       ]
      }
     ],
     "prompt_number": 14
    },
    {
     "cell_type": "markdown",
     "metadata": {
      "slideshow": {
       "slide_type": "slide"
      }
     },
     "source": [
      "Series and DataFrame: First steps\n",
      "=================================\n",
      "\n",
      "* Indexing\n",
      "* Slicing\n",
      "* Creating new columns"
     ]
    },
    {
     "cell_type": "code",
     "collapsed": false,
     "input": [
      "ts = aapl['Close'][-10:]\n",
      "ts"
     ],
     "language": "python",
     "metadata": {
      "slideshow": {
       "slide_type": "slide"
      }
     },
     "outputs": [
      {
       "metadata": {},
       "output_type": "pyout",
       "prompt_number": 15,
       "text": [
        "Date\n",
        "2011-12-16    381.02\n",
        "2011-12-19    382.21\n",
        "2011-12-20    395.95\n",
        "2011-12-21    396.45\n",
        "2011-12-22    398.55\n",
        "2011-12-23    403.33\n",
        "2011-12-27    406.53\n",
        "2011-12-28    402.64\n",
        "2011-12-29    405.12\n",
        "2011-12-30    405.00\n",
        "Name: Close, dtype: float64"
       ]
      }
     ],
     "prompt_number": 15
    },
    {
     "cell_type": "markdown",
     "metadata": {
      "slideshow": {
       "slide_type": "slide"
      }
     },
     "source": [
      "A DataFrame is a collection of Series objects. Slicing out a DataFrame column returns a Series."
     ]
    },
    {
     "cell_type": "code",
     "collapsed": false,
     "input": [
      "type(ts)"
     ],
     "language": "python",
     "metadata": {
      "slideshow": {
       "slide_type": "fragment"
      }
     },
     "outputs": [
      {
       "metadata": {},
       "output_type": "pyout",
       "prompt_number": 16,
       "text": [
        "pandas.core.series.Series"
       ]
      }
     ],
     "prompt_number": 16
    },
    {
     "cell_type": "code",
     "collapsed": false,
     "input": [
      "date = ts.index[5]\n",
      "date"
     ],
     "language": "python",
     "metadata": {
      "slideshow": {
       "slide_type": "fragment"
      }
     },
     "outputs": [
      {
       "metadata": {},
       "output_type": "pyout",
       "prompt_number": 17,
       "text": [
        "Timestamp('2011-12-23 00:00:00')"
       ]
      }
     ],
     "prompt_number": 17
    },
    {
     "cell_type": "code",
     "collapsed": false,
     "input": [
      "ts[date]"
     ],
     "language": "python",
     "metadata": {
      "slideshow": {
       "slide_type": "fragment"
      }
     },
     "outputs": [
      {
       "metadata": {},
       "output_type": "pyout",
       "prompt_number": 18,
       "text": [
        "403.32999999999998"
       ]
      }
     ],
     "prompt_number": 18
    },
    {
     "cell_type": "code",
     "collapsed": false,
     "input": [
      "ts[5]"
     ],
     "language": "python",
     "metadata": {
      "slideshow": {
       "slide_type": "fragment"
      }
     },
     "outputs": [
      {
       "metadata": {},
       "output_type": "pyout",
       "prompt_number": 19,
       "text": [
        "403.32999999999998"
       ]
      }
     ],
     "prompt_number": 19
    },
    {
     "cell_type": "markdown",
     "metadata": {
      "slideshow": {
       "slide_type": "fragment"
      }
     },
     "source": [
      "We can also select multiple columns."
     ]
    },
    {
     "cell_type": "code",
     "collapsed": false,
     "input": [
      "aapl[['Open', 'Close']].head()"
     ],
     "language": "python",
     "metadata": {
      "slideshow": {
       "slide_type": "fragment"
      }
     },
     "outputs": [
      {
       "html": [
        "<div style=\"max-height:1000px;max-width:1500px;overflow:auto;\">\n",
        "<table border=\"1\" class=\"dataframe\">\n",
        "  <thead>\n",
        "    <tr style=\"text-align: right;\">\n",
        "      <th></th>\n",
        "      <th>Open</th>\n",
        "      <th>Close</th>\n",
        "    </tr>\n",
        "    <tr>\n",
        "      <th>Date</th>\n",
        "      <th></th>\n",
        "      <th></th>\n",
        "    </tr>\n",
        "  </thead>\n",
        "  <tbody>\n",
        "    <tr>\n",
        "      <th>2006-10-02</th>\n",
        "      <td> 75.10</td>\n",
        "      <td> 74.86</td>\n",
        "    </tr>\n",
        "    <tr>\n",
        "      <th>2006-10-03</th>\n",
        "      <td> 74.45</td>\n",
        "      <td> 74.08</td>\n",
        "    </tr>\n",
        "    <tr>\n",
        "      <th>2006-10-04</th>\n",
        "      <td> 74.10</td>\n",
        "      <td> 75.38</td>\n",
        "    </tr>\n",
        "    <tr>\n",
        "      <th>2006-10-05</th>\n",
        "      <td> 74.53</td>\n",
        "      <td> 74.83</td>\n",
        "    </tr>\n",
        "    <tr>\n",
        "      <th>2006-10-06</th>\n",
        "      <td> 74.42</td>\n",
        "      <td> 74.22</td>\n",
        "    </tr>\n",
        "  </tbody>\n",
        "</table>\n",
        "</div>"
       ],
       "metadata": {},
       "output_type": "pyout",
       "prompt_number": 20,
       "text": [
        "             Open  Close\n",
        "Date                    \n",
        "2006-10-02  75.10  74.86\n",
        "2006-10-03  74.45  74.08\n",
        "2006-10-04  74.10  75.38\n",
        "2006-10-05  74.53  74.83\n",
        "2006-10-06  74.42  74.22"
       ]
      }
     ],
     "prompt_number": 20
    },
    {
     "cell_type": "markdown",
     "metadata": {
      "slideshow": {
       "slide_type": "fragment"
      }
     },
     "source": [
      "New columns can be added on the fly."
     ]
    },
    {
     "cell_type": "code",
     "collapsed": false,
     "input": [
      "aapl['diff'] = aapl.Open - aapl.Close\n",
      "aapl.head()"
     ],
     "language": "python",
     "metadata": {
      "slideshow": {
       "slide_type": "fragment"
      }
     },
     "outputs": [
      {
       "html": [
        "<div style=\"max-height:1000px;max-width:1500px;overflow:auto;\">\n",
        "<table border=\"1\" class=\"dataframe\">\n",
        "  <thead>\n",
        "    <tr style=\"text-align: right;\">\n",
        "      <th></th>\n",
        "      <th>Open</th>\n",
        "      <th>High</th>\n",
        "      <th>Low</th>\n",
        "      <th>Close</th>\n",
        "      <th>Volume</th>\n",
        "      <th>Adj Close</th>\n",
        "      <th>diff</th>\n",
        "    </tr>\n",
        "    <tr>\n",
        "      <th>Date</th>\n",
        "      <th></th>\n",
        "      <th></th>\n",
        "      <th></th>\n",
        "      <th></th>\n",
        "      <th></th>\n",
        "      <th></th>\n",
        "      <th></th>\n",
        "    </tr>\n",
        "  </thead>\n",
        "  <tbody>\n",
        "    <tr>\n",
        "      <th>2006-10-02</th>\n",
        "      <td> 75.10</td>\n",
        "      <td> 75.87</td>\n",
        "      <td> 74.30</td>\n",
        "      <td> 74.86</td>\n",
        "      <td> 178159800</td>\n",
        "      <td> 10.13</td>\n",
        "      <td> 0.24</td>\n",
        "    </tr>\n",
        "    <tr>\n",
        "      <th>2006-10-03</th>\n",
        "      <td> 74.45</td>\n",
        "      <td> 74.95</td>\n",
        "      <td> 73.19</td>\n",
        "      <td> 74.08</td>\n",
        "      <td> 197677200</td>\n",
        "      <td> 10.02</td>\n",
        "      <td> 0.37</td>\n",
        "    </tr>\n",
        "    <tr>\n",
        "      <th>2006-10-04</th>\n",
        "      <td> 74.10</td>\n",
        "      <td> 75.46</td>\n",
        "      <td> 73.16</td>\n",
        "      <td> 75.38</td>\n",
        "      <td> 207270700</td>\n",
        "      <td> 10.20</td>\n",
        "      <td>-1.28</td>\n",
        "    </tr>\n",
        "    <tr>\n",
        "      <th>2006-10-05</th>\n",
        "      <td> 74.53</td>\n",
        "      <td> 76.16</td>\n",
        "      <td> 74.13</td>\n",
        "      <td> 74.83</td>\n",
        "      <td> 170970800</td>\n",
        "      <td> 10.12</td>\n",
        "      <td>-0.30</td>\n",
        "    </tr>\n",
        "    <tr>\n",
        "      <th>2006-10-06</th>\n",
        "      <td> 74.42</td>\n",
        "      <td> 75.04</td>\n",
        "      <td> 73.81</td>\n",
        "      <td> 74.22</td>\n",
        "      <td> 116739700</td>\n",
        "      <td> 10.04</td>\n",
        "      <td> 0.20</td>\n",
        "    </tr>\n",
        "  </tbody>\n",
        "</table>\n",
        "</div>"
       ],
       "metadata": {},
       "output_type": "pyout",
       "prompt_number": 21,
       "text": [
        "             Open   High    Low  Close     Volume  Adj Close  diff\n",
        "Date                                                              \n",
        "2006-10-02  75.10  75.87  74.30  74.86  178159800      10.13  0.24\n",
        "2006-10-03  74.45  74.95  73.19  74.08  197677200      10.02  0.37\n",
        "2006-10-04  74.10  75.46  73.16  75.38  207270700      10.20 -1.28\n",
        "2006-10-05  74.53  76.16  74.13  74.83  170970800      10.12 -0.30\n",
        "2006-10-06  74.42  75.04  73.81  74.22  116739700      10.04  0.20"
       ]
      }
     ],
     "prompt_number": 21
    },
    {
     "cell_type": "markdown",
     "metadata": {
      "slideshow": {
       "slide_type": "fragment"
      }
     },
     "source": [
      "...and deleted on the fly."
     ]
    },
    {
     "cell_type": "code",
     "collapsed": false,
     "input": [
      "del aapl['diff']\n",
      "aapl.head()"
     ],
     "language": "python",
     "metadata": {
      "slideshow": {
       "slide_type": "fragment"
      }
     },
     "outputs": [
      {
       "html": [
        "<div style=\"max-height:1000px;max-width:1500px;overflow:auto;\">\n",
        "<table border=\"1\" class=\"dataframe\">\n",
        "  <thead>\n",
        "    <tr style=\"text-align: right;\">\n",
        "      <th></th>\n",
        "      <th>Open</th>\n",
        "      <th>High</th>\n",
        "      <th>Low</th>\n",
        "      <th>Close</th>\n",
        "      <th>Volume</th>\n",
        "      <th>Adj Close</th>\n",
        "    </tr>\n",
        "    <tr>\n",
        "      <th>Date</th>\n",
        "      <th></th>\n",
        "      <th></th>\n",
        "      <th></th>\n",
        "      <th></th>\n",
        "      <th></th>\n",
        "      <th></th>\n",
        "    </tr>\n",
        "  </thead>\n",
        "  <tbody>\n",
        "    <tr>\n",
        "      <th>2006-10-02</th>\n",
        "      <td> 75.10</td>\n",
        "      <td> 75.87</td>\n",
        "      <td> 74.30</td>\n",
        "      <td> 74.86</td>\n",
        "      <td> 178159800</td>\n",
        "      <td> 10.13</td>\n",
        "    </tr>\n",
        "    <tr>\n",
        "      <th>2006-10-03</th>\n",
        "      <td> 74.45</td>\n",
        "      <td> 74.95</td>\n",
        "      <td> 73.19</td>\n",
        "      <td> 74.08</td>\n",
        "      <td> 197677200</td>\n",
        "      <td> 10.02</td>\n",
        "    </tr>\n",
        "    <tr>\n",
        "      <th>2006-10-04</th>\n",
        "      <td> 74.10</td>\n",
        "      <td> 75.46</td>\n",
        "      <td> 73.16</td>\n",
        "      <td> 75.38</td>\n",
        "      <td> 207270700</td>\n",
        "      <td> 10.20</td>\n",
        "    </tr>\n",
        "    <tr>\n",
        "      <th>2006-10-05</th>\n",
        "      <td> 74.53</td>\n",
        "      <td> 76.16</td>\n",
        "      <td> 74.13</td>\n",
        "      <td> 74.83</td>\n",
        "      <td> 170970800</td>\n",
        "      <td> 10.12</td>\n",
        "    </tr>\n",
        "    <tr>\n",
        "      <th>2006-10-06</th>\n",
        "      <td> 74.42</td>\n",
        "      <td> 75.04</td>\n",
        "      <td> 73.81</td>\n",
        "      <td> 74.22</td>\n",
        "      <td> 116739700</td>\n",
        "      <td> 10.04</td>\n",
        "    </tr>\n",
        "  </tbody>\n",
        "</table>\n",
        "</div>"
       ],
       "metadata": {},
       "output_type": "pyout",
       "prompt_number": 22,
       "text": [
        "             Open   High    Low  Close     Volume  Adj Close\n",
        "Date                                                        \n",
        "2006-10-02  75.10  75.87  74.30  74.86  178159800      10.13\n",
        "2006-10-03  74.45  74.95  73.19  74.08  197677200      10.02\n",
        "2006-10-04  74.10  75.46  73.16  75.38  207270700      10.20\n",
        "2006-10-05  74.53  76.16  74.13  74.83  170970800      10.12\n",
        "2006-10-06  74.42  75.04  73.81  74.22  116739700      10.04"
       ]
      }
     ],
     "prompt_number": 22
    },
    {
     "cell_type": "markdown",
     "metadata": {
      "slideshow": {
       "slide_type": "slide"
      }
     },
     "source": [
      "Common Financial Computations\n",
      "-----------------------------\n",
      "\n",
      "* Moving Average\n",
      "* Returns"
     ]
    },
    {
     "cell_type": "code",
     "collapsed": false,
     "input": [
      "close_px = aapl['Adj Close']"
     ],
     "language": "python",
     "metadata": {
      "slideshow": {
       "slide_type": "fragment"
      }
     },
     "outputs": [],
     "prompt_number": 23
    },
    {
     "cell_type": "code",
     "collapsed": false,
     "input": [
      "mavg = pd.rolling_mean(close_px, 40)\n",
      "mavg[-10:]"
     ],
     "language": "python",
     "metadata": {
      "slideshow": {
       "slide_type": "fragment"
      }
     },
     "outputs": [
      {
       "metadata": {},
       "output_type": "pyout",
       "prompt_number": 26,
       "text": [
        "Date\n",
        "2011-12-16    52.58550\n",
        "2011-12-19    52.54950\n",
        "2011-12-20    52.51650\n",
        "2011-12-21    52.51200\n",
        "2011-12-22    52.50525\n",
        "2011-12-23    52.50050\n",
        "2011-12-27    52.50600\n",
        "2011-12-28    52.49875\n",
        "2011-12-29    52.52800\n",
        "2011-12-30    52.55375\n",
        "dtype: float64"
       ]
      }
     ],
     "prompt_number": 26
    },
    {
     "cell_type": "markdown",
     "metadata": {
      "slideshow": {
       "slide_type": "fragment"
      }
     },
     "source": [
      "Returns defined as: \n",
      "$$ $$\n",
      "$$r_t = \\frac{p_t - p_{t-1}}{p_{t-1}} = \\frac{p_t}{p_{t-1}} - 1$$"
     ]
    },
    {
     "cell_type": "code",
     "collapsed": false,
     "input": [
      "rets = close_px / close_px.shift(1) - 1\n",
      "rets.head()"
     ],
     "language": "python",
     "metadata": {
      "slideshow": {
       "slide_type": "fragment"
      }
     },
     "outputs": [
      {
       "metadata": {},
       "output_type": "pyout",
       "prompt_number": 28,
       "text": [
        "Date\n",
        "2006-10-02         NaN\n",
        "2006-10-03   -0.010859\n",
        "2006-10-04    0.017964\n",
        "2006-10-05   -0.007843\n",
        "2006-10-06   -0.007905\n",
        "Name: Adj Close, dtype: float64"
       ]
      }
     ],
     "prompt_number": 28
    },
    {
     "cell_type": "markdown",
     "metadata": {
      "slideshow": {
       "slide_type": "fragment"
      }
     },
     "source": [
      "Or alternatively `.pct_change()`."
     ]
    },
    {
     "cell_type": "code",
     "collapsed": false,
     "input": [
      "close_px.pct_change().head()"
     ],
     "language": "python",
     "metadata": {
      "slideshow": {
       "slide_type": "fragment"
      }
     },
     "outputs": [
      {
       "metadata": {},
       "output_type": "pyout",
       "prompt_number": 29,
       "text": [
        "Date\n",
        "2006-10-02         NaN\n",
        "2006-10-03   -0.010859\n",
        "2006-10-04    0.017964\n",
        "2006-10-05   -0.007843\n",
        "2006-10-06   -0.007905\n",
        "Name: Adj Close, dtype: float64"
       ]
      }
     ],
     "prompt_number": 29
    },
    {
     "cell_type": "markdown",
     "metadata": {
      "slideshow": {
       "slide_type": "slide"
      }
     },
     "source": [
      "Plotting Basics\n",
      "---------------"
     ]
    },
    {
     "cell_type": "markdown",
     "metadata": {
      "slideshow": {
       "slide_type": "fragment"
      }
     },
     "source": [
      "Series and DataFrames have an associated `.plot()` command (uses Matplotlib behind the scenes)."
     ]
    },
    {
     "cell_type": "code",
     "collapsed": false,
     "input": [
      "close_px.plot(label='AAPL')\n",
      "mavg.plot(label='mavg')\n",
      "plt.legend()"
     ],
     "language": "python",
     "metadata": {
      "slideshow": {
       "slide_type": "fragment"
      }
     },
     "outputs": [
      {
       "metadata": {},
       "output_type": "pyout",
       "prompt_number": 30,
       "text": [
        "<matplotlib.legend.Legend at 0x11592c710>"
       ]
      },
      {
       "metadata": {},
       "output_type": "display_data",
       "png": "[encoded data removed]",
       "text": [
        "<matplotlib.figure.Figure at 0x1145095d0>"
       ]
      }
     ],
     "prompt_number": 30
    },
    {
     "cell_type": "heading",
     "level": 2,
     "metadata": {
      "slideshow": {
       "slide_type": "slide"
      }
     },
     "source": [
      "Comparing Multiple Stocks"
     ]
    },
    {
     "cell_type": "code",
     "collapsed": false,
     "input": [
      "df = pd.io.data.get_data_yahoo(['AAPL', 'GE', 'IBM', 'KO', 'MSFT', 'PEP'], \n",
      "                               start=datetime.datetime(2010, 1, 1), \n",
      "                               end=datetime.datetime(2013, 1, 1))['Adj Close']\n",
      "df.head()"
     ],
     "language": "python",
     "metadata": {
      "slideshow": {
       "slide_type": "fragment"
      }
     },
     "outputs": [
      {
       "html": [
        "<div style=\"max-height:1000px;max-width:1500px;overflow:auto;\">\n",
        "<table border=\"1\" class=\"dataframe\">\n",
        "  <thead>\n",
        "    <tr style=\"text-align: right;\">\n",
        "      <th></th>\n",
        "      <th>AAPL</th>\n",
        "      <th>GE</th>\n",
        "      <th>IBM</th>\n",
        "      <th>KO</th>\n",
        "      <th>MSFT</th>\n",
        "      <th>PEP</th>\n",
        "    </tr>\n",
        "    <tr>\n",
        "      <th>Date</th>\n",
        "      <th></th>\n",
        "      <th></th>\n",
        "      <th></th>\n",
        "      <th></th>\n",
        "      <th></th>\n",
        "      <th></th>\n",
        "    </tr>\n",
        "  </thead>\n",
        "  <tbody>\n",
        "    <tr>\n",
        "      <th>2010-01-04</th>\n",
        "      <td> 28.95</td>\n",
        "      <td> 13.10</td>\n",
        "      <td> 120.37</td>\n",
        "      <td> 24.67</td>\n",
        "      <td> 27.14</td>\n",
        "      <td> 52.81</td>\n",
        "    </tr>\n",
        "    <tr>\n",
        "      <th>2010-01-05</th>\n",
        "      <td> 29.00</td>\n",
        "      <td> 13.16</td>\n",
        "      <td> 118.92</td>\n",
        "      <td> 24.37</td>\n",
        "      <td> 27.14</td>\n",
        "      <td> 53.45</td>\n",
        "    </tr>\n",
        "    <tr>\n",
        "      <th>2010-01-06</th>\n",
        "      <td> 28.54</td>\n",
        "      <td> 13.10</td>\n",
        "      <td> 118.14</td>\n",
        "      <td> 24.36</td>\n",
        "      <td> 26.98</td>\n",
        "      <td> 52.92</td>\n",
        "    </tr>\n",
        "    <tr>\n",
        "      <th>2010-01-07</th>\n",
        "      <td> 28.49</td>\n",
        "      <td> 13.77</td>\n",
        "      <td> 117.74</td>\n",
        "      <td> 24.30</td>\n",
        "      <td> 26.70</td>\n",
        "      <td> 52.58</td>\n",
        "    </tr>\n",
        "    <tr>\n",
        "      <th>2010-01-08</th>\n",
        "      <td> 28.68</td>\n",
        "      <td> 14.07</td>\n",
        "      <td> 118.92</td>\n",
        "      <td> 23.85</td>\n",
        "      <td> 26.88</td>\n",
        "      <td> 52.41</td>\n",
        "    </tr>\n",
        "  </tbody>\n",
        "</table>\n",
        "</div>"
       ],
       "metadata": {},
       "output_type": "pyout",
       "prompt_number": 31,
       "text": [
        "             AAPL     GE     IBM     KO   MSFT    PEP\n",
        "Date                                                 \n",
        "2010-01-04  28.95  13.10  120.37  24.67  27.14  52.81\n",
        "2010-01-05  29.00  13.16  118.92  24.37  27.14  53.45\n",
        "2010-01-06  28.54  13.10  118.14  24.36  26.98  52.92\n",
        "2010-01-07  28.49  13.77  117.74  24.30  26.70  52.58\n",
        "2010-01-08  28.68  14.07  118.92  23.85  26.88  52.41"
       ]
      }
     ],
     "prompt_number": 31
    },
    {
     "cell_type": "code",
     "collapsed": false,
     "input": [
      "rets = df.pct_change()\n",
      "rets.head()"
     ],
     "language": "python",
     "metadata": {
      "slideshow": {
       "slide_type": "fragment"
      }
     },
     "outputs": [
      {
       "html": [
        "<div style=\"max-height:1000px;max-width:1500px;overflow:auto;\">\n",
        "<table border=\"1\" class=\"dataframe\">\n",
        "  <thead>\n",
        "    <tr style=\"text-align: right;\">\n",
        "      <th></th>\n",
        "      <th>AAPL</th>\n",
        "      <th>GE</th>\n",
        "      <th>IBM</th>\n",
        "      <th>KO</th>\n",
        "      <th>MSFT</th>\n",
        "      <th>PEP</th>\n",
        "    </tr>\n",
        "    <tr>\n",
        "      <th>Date</th>\n",
        "      <th></th>\n",
        "      <th></th>\n",
        "      <th></th>\n",
        "      <th></th>\n",
        "      <th></th>\n",
        "      <th></th>\n",
        "    </tr>\n",
        "  </thead>\n",
        "  <tbody>\n",
        "    <tr>\n",
        "      <th>2010-01-04</th>\n",
        "      <td>      NaN</td>\n",
        "      <td>      NaN</td>\n",
        "      <td>      NaN</td>\n",
        "      <td>      NaN</td>\n",
        "      <td>      NaN</td>\n",
        "      <td>      NaN</td>\n",
        "    </tr>\n",
        "    <tr>\n",
        "      <th>2010-01-05</th>\n",
        "      <td> 0.001727</td>\n",
        "      <td> 0.004580</td>\n",
        "      <td>-0.012046</td>\n",
        "      <td>-0.012161</td>\n",
        "      <td> 0.000000</td>\n",
        "      <td> 0.012119</td>\n",
        "    </tr>\n",
        "    <tr>\n",
        "      <th>2010-01-06</th>\n",
        "      <td>-0.015862</td>\n",
        "      <td>-0.004559</td>\n",
        "      <td>-0.006559</td>\n",
        "      <td>-0.000410</td>\n",
        "      <td>-0.005895</td>\n",
        "      <td>-0.009916</td>\n",
        "    </tr>\n",
        "    <tr>\n",
        "      <th>2010-01-07</th>\n",
        "      <td>-0.001752</td>\n",
        "      <td> 0.051145</td>\n",
        "      <td>-0.003386</td>\n",
        "      <td>-0.002463</td>\n",
        "      <td>-0.010378</td>\n",
        "      <td>-0.006425</td>\n",
        "    </tr>\n",
        "    <tr>\n",
        "      <th>2010-01-08</th>\n",
        "      <td> 0.006669</td>\n",
        "      <td> 0.021786</td>\n",
        "      <td> 0.010022</td>\n",
        "      <td>-0.018519</td>\n",
        "      <td> 0.006742</td>\n",
        "      <td>-0.003233</td>\n",
        "    </tr>\n",
        "  </tbody>\n",
        "</table>\n",
        "</div>"
       ],
       "metadata": {},
       "output_type": "pyout",
       "prompt_number": 32,
       "text": [
        "                AAPL        GE       IBM        KO      MSFT       PEP\n",
        "Date                                                                  \n",
        "2010-01-04       NaN       NaN       NaN       NaN       NaN       NaN\n",
        "2010-01-05  0.001727  0.004580 -0.012046 -0.012161  0.000000  0.012119\n",
        "2010-01-06 -0.015862 -0.004559 -0.006559 -0.000410 -0.005895 -0.009916\n",
        "2010-01-07 -0.001752  0.051145 -0.003386 -0.002463 -0.010378 -0.006425\n",
        "2010-01-08  0.006669  0.021786  0.010022 -0.018519  0.006742 -0.003233"
       ]
      }
     ],
     "prompt_number": 32
    },
    {
     "cell_type": "code",
     "collapsed": false,
     "input": [
      "plt.scatter(rets.PEP, rets.KO)\n",
      "plt.xlabel('Returns PEP')\n",
      "plt.ylabel('Returns KO')"
     ],
     "language": "python",
     "metadata": {
      "slideshow": {
       "slide_type": "fragment"
      }
     },
     "outputs": [
      {
       "metadata": {},
       "output_type": "pyout",
       "prompt_number": 33,
       "text": [
        "<matplotlib.text.Text at 0x1158b9490>"
       ]
      },
      {
       "metadata": {},
       "output_type": "display_data",
       "png": "[encoded data removed]",
       "text": [
        "<matplotlib.figure.Figure at 0x11450f190>"
       ]
      }
     ],
     "prompt_number": 33
    },
    {
     "cell_type": "code",
     "collapsed": false,
     "input": [
      "pd.scatter_matrix(rets, diagonal='kde', figsize=(10, 10));"
     ],
     "language": "python",
     "metadata": {
      "slideshow": {
       "slide_type": "slide"
      }
     },
     "outputs": [
      {
       "metadata": {},
       "output_type": "display_data",
       "png": "[encoded data removed]",
       "text": [
        "<matplotlib.figure.Figure at 0x1158bd910>"
       ]
      }
     ],
     "prompt_number": 34
    },
    {
     "cell_type": "code",
     "collapsed": false,
     "input": [
      "corr = rets.corr()\n",
      "corr"
     ],
     "language": "python",
     "metadata": {
      "slideshow": {
       "slide_type": "slide"
      }
     },
     "outputs": [
      {
       "html": [
        "<div style=\"max-height:1000px;max-width:1500px;overflow:auto;\">\n",
        "<table border=\"1\" class=\"dataframe\">\n",
        "  <thead>\n",
        "    <tr style=\"text-align: right;\">\n",
        "      <th></th>\n",
        "      <th>AAPL</th>\n",
        "      <th>GE</th>\n",
        "      <th>IBM</th>\n",
        "      <th>KO</th>\n",
        "      <th>MSFT</th>\n",
        "      <th>PEP</th>\n",
        "    </tr>\n",
        "  </thead>\n",
        "  <tbody>\n",
        "    <tr>\n",
        "      <th>AAPL</th>\n",
        "      <td> 1.000000</td>\n",
        "      <td> 0.457276</td>\n",
        "      <td> 0.501805</td>\n",
        "      <td> 0.388436</td>\n",
        "      <td> 0.473265</td>\n",
        "      <td> 0.309281</td>\n",
        "    </tr>\n",
        "    <tr>\n",
        "      <th>GE</th>\n",
        "      <td> 0.457276</td>\n",
        "      <td> 1.000000</td>\n",
        "      <td> 0.610168</td>\n",
        "      <td> 0.593613</td>\n",
        "      <td> 0.600321</td>\n",
        "      <td> 0.533010</td>\n",
        "    </tr>\n",
        "    <tr>\n",
        "      <th>IBM</th>\n",
        "      <td> 0.501805</td>\n",
        "      <td> 0.610168</td>\n",
        "      <td> 1.000000</td>\n",
        "      <td> 0.600495</td>\n",
        "      <td> 0.645972</td>\n",
        "      <td> 0.491285</td>\n",
        "    </tr>\n",
        "    <tr>\n",
        "      <th>KO</th>\n",
        "      <td> 0.388436</td>\n",
        "      <td> 0.593613</td>\n",
        "      <td> 0.600495</td>\n",
        "      <td> 1.000000</td>\n",
        "      <td> 0.522328</td>\n",
        "      <td> 0.635066</td>\n",
        "    </tr>\n",
        "    <tr>\n",
        "      <th>MSFT</th>\n",
        "      <td> 0.473265</td>\n",
        "      <td> 0.600321</td>\n",
        "      <td> 0.645972</td>\n",
        "      <td> 0.522328</td>\n",
        "      <td> 1.000000</td>\n",
        "      <td> 0.477476</td>\n",
        "    </tr>\n",
        "    <tr>\n",
        "      <th>PEP</th>\n",
        "      <td> 0.309281</td>\n",
        "      <td> 0.533010</td>\n",
        "      <td> 0.491285</td>\n",
        "      <td> 0.635066</td>\n",
        "      <td> 0.477476</td>\n",
        "      <td> 1.000000</td>\n",
        "    </tr>\n",
        "  </tbody>\n",
        "</table>\n",
        "</div>"
       ],
       "metadata": {},
       "output_type": "pyout",
       "prompt_number": 35,
       "text": [
        "          AAPL        GE       IBM        KO      MSFT       PEP\n",
        "AAPL  1.000000  0.457276  0.501805  0.388436  0.473265  0.309281\n",
        "GE    0.457276  1.000000  0.610168  0.593613  0.600321  0.533010\n",
        "IBM   0.501805  0.610168  1.000000  0.600495  0.645972  0.491285\n",
        "KO    0.388436  0.593613  0.600495  1.000000  0.522328  0.635066\n",
        "MSFT  0.473265  0.600321  0.645972  0.522328  1.000000  0.477476\n",
        "PEP   0.309281  0.533010  0.491285  0.635066  0.477476  1.000000"
       ]
      }
     ],
     "prompt_number": 35
    },
    {
     "cell_type": "code",
     "collapsed": false,
     "input": [
      "plt.imshow(corr, cmap='hot', interpolation='none')\n",
      "plt.colorbar()\n",
      "plt.xticks(range(len(corr)), corr.columns)\n",
      "plt.yticks(range(len(corr)), corr.columns);"
     ],
     "language": "python",
     "metadata": {
      "slideshow": {
       "slide_type": "slide"
      }
     },
     "outputs": [
      {
       "metadata": {},
       "output_type": "display_data",
       "png": "[encoded data removed]",
       "text": [
        "<matplotlib.figure.Figure at 0x116e1e8d0>"
       ]
      }
     ],
     "prompt_number": 36
    },
    {
     "cell_type": "markdown",
     "metadata": {
      "slideshow": {
       "slide_type": "slide"
      }
     },
     "source": [
      "One thing we are often interested in is the relationship of expected returns and the risk we are taking one. Often there is a trade-off between the two.\n",
      "\n",
      "Here we use `plt.annotate` to put labels on the scatterplot."
     ]
    },
    {
     "cell_type": "code",
     "collapsed": false,
     "input": [
      "plt.scatter(rets.mean(), rets.std())\n",
      "plt.xlabel('Expected returns')\n",
      "plt.ylabel('Risk')\n",
      "for label, x, y in zip(rets.columns, rets.mean(), rets.std()):\n",
      "    plt.annotate(\n",
      "        label, \n",
      "        xy = (x, y), xytext = (20, -20),\n",
      "        textcoords = 'offset points', ha = 'right', va = 'bottom',\n",
      "        bbox = dict(boxstyle = 'round,pad=0.5', fc = 'yellow', alpha = 0.5),\n",
      "        arrowprops = dict(arrowstyle = '->', connectionstyle = 'arc3,rad=0'))"
     ],
     "language": "python",
     "metadata": {},
     "outputs": [
      {
       "metadata": {},
       "output_type": "display_data",
       "png": "[encoded data removed]",
       "text": [
        "<matplotlib.figure.Figure at 0x11725e110>"
       ]
      }
     ],
     "prompt_number": 37
    },
    {
     "cell_type": "markdown",
     "metadata": {},
     "source": [
      "Data alignment and dealing with missing values\n",
      "==============\n",
      "\n",
      "* Join, merge, concatenate\n",
      "* Filling NaNs"
     ]
    },
    {
     "cell_type": "markdown",
     "metadata": {},
     "source": [
      "Lets pull some more securities from Yahoo finance and build a DataFrame of the adjusted closing prices."
     ]
    },
    {
     "cell_type": "code",
     "collapsed": false,
     "input": [
      "series_list = []\n",
      "securities = ['AAPL', 'GE', 'IBM', 'MSFT']\n",
      "for security in securities:\n",
      "    s = pd.io.data.get_data_yahoo(security, start=datetime.datetime(2011, 10, 1), end=datetime.datetime(2013, 1, 1))['Adj Close']\n",
      "    s.name = security # Rename series to match security name\n",
      "    series_list.append(s)"
     ],
     "language": "python",
     "metadata": {},
     "outputs": [],
     "prompt_number": 38
    },
    {
     "cell_type": "markdown",
     "metadata": {},
     "source": [
      "`pd.concat` can be used to concatenate multiple `Series` into one `DataFrame`."
     ]
    },
    {
     "cell_type": "code",
     "collapsed": false,
     "input": [
      "df = pd.concat(series_list, axis=1)\n",
      "df.head()"
     ],
     "language": "python",
     "metadata": {},
     "outputs": [
      {
       "html": [
        "<div style=\"max-height:1000px;max-width:1500px;overflow:auto;\">\n",
        "<table border=\"1\" class=\"dataframe\">\n",
        "  <thead>\n",
        "    <tr style=\"text-align: right;\">\n",
        "      <th></th>\n",
        "      <th>AAPL</th>\n",
        "      <th>GE</th>\n",
        "      <th>IBM</th>\n",
        "      <th>MSFT</th>\n",
        "    </tr>\n",
        "    <tr>\n",
        "      <th>Date</th>\n",
        "      <th></th>\n",
        "      <th></th>\n",
        "      <th></th>\n",
        "      <th></th>\n",
        "    </tr>\n",
        "  </thead>\n",
        "  <tbody>\n",
        "    <tr>\n",
        "      <th>2011-10-03</th>\n",
        "      <td> 50.68</td>\n",
        "      <td> 13.12</td>\n",
        "      <td> 162.56</td>\n",
        "      <td> 22.37</td>\n",
        "    </tr>\n",
        "    <tr>\n",
        "      <th>2011-10-04</th>\n",
        "      <td> 50.39</td>\n",
        "      <td> 13.27</td>\n",
        "      <td> 163.92</td>\n",
        "      <td> 23.11</td>\n",
        "    </tr>\n",
        "    <tr>\n",
        "      <th>2011-10-05</th>\n",
        "      <td> 51.17</td>\n",
        "      <td> 13.64</td>\n",
        "      <td> 165.90</td>\n",
        "      <td> 23.61</td>\n",
        "    </tr>\n",
        "    <tr>\n",
        "      <th>2011-10-06</th>\n",
        "      <td> 51.05</td>\n",
        "      <td> 13.87</td>\n",
        "      <td> 170.44</td>\n",
        "      <td> 24.02</td>\n",
        "    </tr>\n",
        "    <tr>\n",
        "      <th>2011-10-07</th>\n",
        "      <td> 50.03</td>\n",
        "      <td> 13.84</td>\n",
        "      <td> 171.10</td>\n",
        "      <td> 23.94</td>\n",
        "    </tr>\n",
        "  </tbody>\n",
        "</table>\n",
        "</div>"
       ],
       "metadata": {},
       "output_type": "pyout",
       "prompt_number": 39,
       "text": [
        "             AAPL     GE     IBM   MSFT\n",
        "Date                                   \n",
        "2011-10-03  50.68  13.12  162.56  22.37\n",
        "2011-10-04  50.39  13.27  163.92  23.11\n",
        "2011-10-05  51.17  13.64  165.90  23.61\n",
        "2011-10-06  51.05  13.87  170.44  24.02\n",
        "2011-10-07  50.03  13.84  171.10  23.94"
       ]
      }
     ],
     "prompt_number": 39
    },
    {
     "cell_type": "code",
     "collapsed": false,
     "input": [
      "import numpy as np\n",
      "df.ix[0, 'AAPL'] = np.nan\n",
      "df.ix[1, ['GE', 'IBM']] = np.nan\n",
      "df.ix[[1, 2, 3], 'MSFT'] = np.nan\n",
      "\n",
      "df.head()"
     ],
     "language": "python",
     "metadata": {},
     "outputs": [
      {
       "html": [
        "<div style=\"max-height:1000px;max-width:1500px;overflow:auto;\">\n",
        "<table border=\"1\" class=\"dataframe\">\n",
        "  <thead>\n",
        "    <tr style=\"text-align: right;\">\n",
        "      <th></th>\n",
        "      <th>AAPL</th>\n",
        "      <th>GE</th>\n",
        "      <th>IBM</th>\n",
        "      <th>MSFT</th>\n",
        "    </tr>\n",
        "    <tr>\n",
        "      <th>Date</th>\n",
        "      <th></th>\n",
        "      <th></th>\n",
        "      <th></th>\n",
        "      <th></th>\n",
        "    </tr>\n",
        "  </thead>\n",
        "  <tbody>\n",
        "    <tr>\n",
        "      <th>2011-10-03</th>\n",
        "      <td>   NaN</td>\n",
        "      <td> 13.12</td>\n",
        "      <td> 162.56</td>\n",
        "      <td> 22.37</td>\n",
        "    </tr>\n",
        "    <tr>\n",
        "      <th>2011-10-04</th>\n",
        "      <td> 50.39</td>\n",
        "      <td>   NaN</td>\n",
        "      <td>    NaN</td>\n",
        "      <td>   NaN</td>\n",
        "    </tr>\n",
        "    <tr>\n",
        "      <th>2011-10-05</th>\n",
        "      <td> 51.17</td>\n",
        "      <td> 13.64</td>\n",
        "      <td> 165.90</td>\n",
        "      <td>   NaN</td>\n",
        "    </tr>\n",
        "    <tr>\n",
        "      <th>2011-10-06</th>\n",
        "      <td> 51.05</td>\n",
        "      <td> 13.87</td>\n",
        "      <td> 170.44</td>\n",
        "      <td>   NaN</td>\n",
        "    </tr>\n",
        "    <tr>\n",
        "      <th>2011-10-07</th>\n",
        "      <td> 50.03</td>\n",
        "      <td> 13.84</td>\n",
        "      <td> 171.10</td>\n",
        "      <td> 23.94</td>\n",
        "    </tr>\n",
        "  </tbody>\n",
        "</table>\n",
        "</div>"
       ],
       "metadata": {},
       "output_type": "pyout",
       "prompt_number": 44,
       "text": [
        "             AAPL     GE     IBM   MSFT\n",
        "Date                                   \n",
        "2011-10-03    NaN  13.12  162.56  22.37\n",
        "2011-10-04  50.39    NaN     NaN    NaN\n",
        "2011-10-05  51.17  13.64  165.90    NaN\n",
        "2011-10-06  51.05  13.87  170.44    NaN\n",
        "2011-10-07  50.03  13.84  171.10  23.94"
       ]
      }
     ],
     "prompt_number": 44
    },
    {
     "cell_type": "markdown",
     "metadata": {},
     "source": [
      "Pandas has great support for computing with missing values."
     ]
    },
    {
     "cell_type": "code",
     "collapsed": false,
     "input": [
      "(df.AAPL + df.GE).head()"
     ],
     "language": "python",
     "metadata": {},
     "outputs": [
      {
       "metadata": {},
       "output_type": "pyout",
       "prompt_number": 45,
       "text": [
        "Date\n",
        "2011-10-03      NaN\n",
        "2011-10-04      NaN\n",
        "2011-10-05    64.81\n",
        "2011-10-06    64.92\n",
        "2011-10-07    63.87\n",
        "dtype: float64"
       ]
      }
     ],
     "prompt_number": 45
    },
    {
     "cell_type": "markdown",
     "metadata": {},
     "source": [
      "One common approacht to impute missing values in time series is forward filling."
     ]
    },
    {
     "cell_type": "code",
     "collapsed": false,
     "input": [
      "df.bfill(inplace=True)\n",
      "df.ffill(inplace=True)\n",
      "\n",
      "df.head()"
     ],
     "language": "python",
     "metadata": {},
     "outputs": [
      {
       "html": [
        "<div style=\"max-height:1000px;max-width:1500px;overflow:auto;\">\n",
        "<table border=\"1\" class=\"dataframe\">\n",
        "  <thead>\n",
        "    <tr style=\"text-align: right;\">\n",
        "      <th></th>\n",
        "      <th>AAPL</th>\n",
        "      <th>GE</th>\n",
        "      <th>IBM</th>\n",
        "      <th>MSFT</th>\n",
        "    </tr>\n",
        "    <tr>\n",
        "      <th>Date</th>\n",
        "      <th></th>\n",
        "      <th></th>\n",
        "      <th></th>\n",
        "      <th></th>\n",
        "    </tr>\n",
        "  </thead>\n",
        "  <tbody>\n",
        "    <tr>\n",
        "      <th>2011-10-03</th>\n",
        "      <td> 50.39</td>\n",
        "      <td> 13.12</td>\n",
        "      <td> 162.56</td>\n",
        "      <td> 22.37</td>\n",
        "    </tr>\n",
        "    <tr>\n",
        "      <th>2011-10-04</th>\n",
        "      <td> 50.39</td>\n",
        "      <td> 13.64</td>\n",
        "      <td> 165.90</td>\n",
        "      <td> 23.94</td>\n",
        "    </tr>\n",
        "    <tr>\n",
        "      <th>2011-10-05</th>\n",
        "      <td> 51.17</td>\n",
        "      <td> 13.64</td>\n",
        "      <td> 165.90</td>\n",
        "      <td> 23.94</td>\n",
        "    </tr>\n",
        "    <tr>\n",
        "      <th>2011-10-06</th>\n",
        "      <td> 51.05</td>\n",
        "      <td> 13.87</td>\n",
        "      <td> 170.44</td>\n",
        "      <td> 23.94</td>\n",
        "    </tr>\n",
        "    <tr>\n",
        "      <th>2011-10-07</th>\n",
        "      <td> 50.03</td>\n",
        "      <td> 13.84</td>\n",
        "      <td> 171.10</td>\n",
        "      <td> 23.94</td>\n",
        "    </tr>\n",
        "  </tbody>\n",
        "</table>\n",
        "</div>"
       ],
       "metadata": {},
       "output_type": "pyout",
       "prompt_number": 47,
       "text": [
        "             AAPL     GE     IBM   MSFT\n",
        "Date                                   \n",
        "2011-10-03  50.39  13.12  162.56  22.37\n",
        "2011-10-04  50.39  13.64  165.90  23.94\n",
        "2011-10-05  51.17  13.64  165.90  23.94\n",
        "2011-10-06  51.05  13.87  170.44  23.94\n",
        "2011-10-07  50.03  13.84  171.10  23.94"
       ]
      }
     ],
     "prompt_number": 47
    },
    {
     "cell_type": "code",
     "collapsed": false,
     "input": [
      "pd.read_csv(test, sep=';', dtype={'id' : string, 'zip' : string})"
     ],
     "language": "python",
     "metadata": {},
     "outputs": [
      {
       "ename": "ImportError",
       "evalue": "No module named xlrd",
       "output_type": "pyerr",
       "traceback": [
        "\u001b[0;31m---------------------------------------------------------------------------\u001b[0m\n\u001b[0;31mImportError\u001b[0m                               Traceback (most recent call last)",
        "\u001b[0;32m<ipython-input-48-1cfa5c82702e>\u001b[0m in \u001b[0;36m<module>\u001b[0;34m()\u001b[0m\n\u001b[0;32m----> 1\u001b[0;31m \u001b[0;32mimport\u001b[0m \u001b[0mxlrd\u001b[0m\u001b[0;34m\u001b[0m\u001b[0m\n\u001b[0m",
        "\u001b[0;31mImportError\u001b[0m: No module named xlrd"
       ]
      }
     ],
     "prompt_number": 48
    },
    {
     "cell_type": "code",
     "collapsed": false,
     "input": [
      "keys = ['a', 'b', 'c']\n",
      "values = [1, 2, 3]\n",
      "jax5 = dict(zip(keys, values))"
     ],
     "language": "python",
     "metadata": {},
     "outputs": [],
     "prompt_number": 49
    },
    {
     "cell_type": "code",
     "collapsed": false,
     "input": [
      "jax5"
     ],
     "language": "python",
     "metadata": {},
     "outputs": [
      {
       "metadata": {},
       "output_type": "pyout",
       "prompt_number": 50,
       "text": [
        "{'a': 1, 'b': 2, 'c': 3}"
       ]
      }
     ],
     "prompt_number": 50
    },
    {
     "cell_type": "code",
     "collapsed": false,
     "input": [],
     "language": "python",
     "metadata": {},
     "outputs": []
    }
   ],
   "metadata": {}
  }
 ]
}