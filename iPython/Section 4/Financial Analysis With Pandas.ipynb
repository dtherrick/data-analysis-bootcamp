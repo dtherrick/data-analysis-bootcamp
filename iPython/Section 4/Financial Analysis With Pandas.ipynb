{
 "metadata": {
  "celltoolbar": "Slideshow",
  "name": "",
  "signature": "sha256:0f9fed9e03499425899c2bfe0f0f1889d699fafb64bd5342a008a3bd2051b028"
 },
 "nbformat": 3,
 "nbformat_minor": 0,
 "worksheets": [
  {
   "cells": [
    {
     "cell_type": "heading",
     "level": 1,
     "metadata": {
      "slideshow": {
       "slide_type": "slide"
      }
     },
     "source": [
      "Financial Analysis in Python"
     ]
    },
    {
     "cell_type": "markdown",
     "metadata": {
      "slideshow": {
       "slide_type": "slide"
      }
     },
     "source": [
      "What you will learn in this tutorial\n",
      "------------------------------------\n",
      "\n",
      "* Timeseries analysis using Pandas\n",
      "* Using Google Trends to predict market movements\n",
      "* Common trading strategies:\n",
      "   * Momentum trading\n",
      "   * Mean-reversion"
     ]
    },
    {
     "cell_type": "heading",
     "level": 1,
     "metadata": {
      "slideshow": {
       "slide_type": "slide"
      }
     },
     "source": [
      "Pandas basics (Data analysis / Idea generation)"
     ]
    },
    {
     "cell_type": "code",
     "collapsed": false,
     "input": [
      "from IPython.core.display import HTML\n",
      "HTML(\"<iframe src=http://pandas.pydata.org width=800 height=350></iframe>\")"
     ],
     "language": "python",
     "metadata": {
      "slideshow": {
       "slide_type": "slide"
      }
     },
     "outputs": [
      {
       "html": [
        "<iframe src=http://pandas.pydata.org width=800 height=350></iframe>"
       ],
       "metadata": {},
       "output_type": "pyout",
       "prompt_number": 1,
       "text": [
        "<IPython.core.display.HTML at 0x106cabc50>"
       ]
      }
     ],
     "prompt_number": 1
    },
    {
     "cell_type": "code",
     "collapsed": false,
     "input": [
      "import datetime\n",
      "\n",
      "import pandas as pd\n",
      "import pandas.io.data\n",
      "from pandas import Series, DataFrame\n",
      "\n",
      "%matplotlib inline\n",
      "pd.__version__"
     ],
     "language": "python",
     "metadata": {
      "slideshow": {
       "slide_type": "skip"
      }
     },
     "outputs": [
      {
       "metadata": {},
       "output_type": "pyout",
       "prompt_number": 2,
       "text": [
        "'0.15.2'"
       ]
      }
     ],
     "prompt_number": 2
    },
    {
     "cell_type": "code",
     "collapsed": false,
     "input": [
      "import matplotlib.pyplot as plt\n",
      "import matplotlib as mpl\n",
      "mpl.rc('figure', figsize=(8, 7))\n",
      "mpl.__version__"
     ],
     "language": "python",
     "metadata": {
      "slideshow": {
       "slide_type": "skip"
      }
     },
     "outputs": [
      {
       "metadata": {},
       "output_type": "pyout",
       "prompt_number": 3,
       "text": [
        "'1.4.2'"
       ]
      }
     ],
     "prompt_number": 3
    },
    {
     "cell_type": "markdown",
     "metadata": {
      "slideshow": {
       "slide_type": "slide"
      }
     },
     "source": [
      "Creating/loading time series data\n",
      "===================\n",
      "\n",
      "* From Python structures\n",
      "* From Yahoo finance"
     ]
    },
    {
     "cell_type": "heading",
     "level": 3,
     "metadata": {
      "slideshow": {
       "slide_type": "slide"
      }
     },
     "source": [
      "From Python structures"
     ]
    },
    {
     "cell_type": "code",
     "collapsed": false,
     "input": [
      "labels = ['a', 'b', 'c', 'd', 'e']\n",
      "s = Series([1, 2, 3, 4, 5], index=labels)\n",
      "s"
     ],
     "language": "python",
     "metadata": {
      "slideshow": {
       "slide_type": "fragment"
      }
     },
     "outputs": [
      {
       "metadata": {},
       "output_type": "pyout",
       "prompt_number": 4,
       "text": [
        "a    1\n",
        "b    2\n",
        "c    3\n",
        "d    4\n",
        "e    5\n",
        "dtype: int64"
       ]
      }
     ],
     "prompt_number": 4
    },
    {
     "cell_type": "code",
     "collapsed": false,
     "input": [
      "'a' in s"
     ],
     "language": "python",
     "metadata": {
      "slideshow": {
       "slide_type": "fragment"
      }
     },
     "outputs": [
      {
       "metadata": {},
       "output_type": "pyout",
       "prompt_number": 9,
       "text": [
        "True"
       ]
      }
     ],
     "prompt_number": 9
    },
    {
     "cell_type": "code",
     "collapsed": false,
     "input": [
      "print s['b']\n",
      "\n",
      "print s[2]\n",
      "\n",
      "print s.b"
     ],
     "language": "python",
     "metadata": {
      "slideshow": {
       "slide_type": "fragment"
      }
     },
     "outputs": [
      {
       "output_type": "stream",
       "stream": "stdout",
       "text": [
        "2\n",
        "3\n",
        "2\n"
       ]
      }
     ],
     "prompt_number": 10
    },
    {
     "cell_type": "code",
     "collapsed": false,
     "input": [
      "mapping = s.to_dict()\n",
      "mapping"
     ],
     "language": "python",
     "metadata": {
      "slideshow": {
       "slide_type": "fragment"
      }
     },
     "outputs": [
      {
       "metadata": {},
       "output_type": "pyout",
       "prompt_number": 11,
       "text": [
        "{'a': 1, 'b': 2, 'c': 3, 'd': 4, 'e': 5}"
       ]
      }
     ],
     "prompt_number": 11
    },
    {
     "cell_type": "code",
     "collapsed": false,
     "input": [
      "Series(mapping)"
     ],
     "language": "python",
     "metadata": {
      "slideshow": {
       "slide_type": "fragment"
      }
     },
     "outputs": [
      {
       "metadata": {},
       "output_type": "pyout",
       "prompt_number": 12,
       "text": [
        "a    1\n",
        "b    2\n",
        "c    3\n",
        "d    4\n",
        "e    5\n",
        "dtype: int64"
       ]
      }
     ],
     "prompt_number": 12
    },
    {
     "cell_type": "heading",
     "level": 3,
     "metadata": {
      "slideshow": {
       "slide_type": "slide"
      }
     },
     "source": [
      "From Yahoo finance"
     ]
    },
    {
     "cell_type": "code",
     "collapsed": false,
     "input": [
      "aapl = pd.io.data.get_data_yahoo('AAPL', \n",
      "                                 start=datetime.datetime(2006, 10, 1), \n",
      "                                 end=datetime.datetime(2012, 1, 1))\n",
      "aapl.head()"
     ],
     "language": "python",
     "metadata": {
      "slideshow": {
       "slide_type": "fragment"
      }
     },
     "outputs": [
      {
       "html": [
        "<div style=\"max-height:1000px;max-width:1500px;overflow:auto;\">\n",
        "<table border=\"1\" class=\"dataframe\">\n",
        "  <thead>\n",
        "    <tr style=\"text-align: right;\">\n",
        "      <th></th>\n",
        "      <th>Open</th>\n",
        "      <th>High</th>\n",
        "      <th>Low</th>\n",
        "      <th>Close</th>\n",
        "      <th>Volume</th>\n",
        "      <th>Adj Close</th>\n",
        "    </tr>\n",
        "    <tr>\n",
        "      <th>Date</th>\n",
        "      <th></th>\n",
        "      <th></th>\n",
        "      <th></th>\n",
        "      <th></th>\n",
        "      <th></th>\n",
        "      <th></th>\n",
        "    </tr>\n",
        "  </thead>\n",
        "  <tbody>\n",
        "    <tr>\n",
        "      <th>2006-10-02</th>\n",
        "      <td> 75.10</td>\n",
        "      <td> 75.87</td>\n",
        "      <td> 74.30</td>\n",
        "      <td> 74.86</td>\n",
        "      <td> 178159800</td>\n",
        "      <td> 10.09</td>\n",
        "    </tr>\n",
        "    <tr>\n",
        "      <th>2006-10-03</th>\n",
        "      <td> 74.45</td>\n",
        "      <td> 74.95</td>\n",
        "      <td> 73.19</td>\n",
        "      <td> 74.08</td>\n",
        "      <td> 197677200</td>\n",
        "      <td>  9.98</td>\n",
        "    </tr>\n",
        "    <tr>\n",
        "      <th>2006-10-04</th>\n",
        "      <td> 74.10</td>\n",
        "      <td> 75.46</td>\n",
        "      <td> 73.16</td>\n",
        "      <td> 75.38</td>\n",
        "      <td> 207270700</td>\n",
        "      <td> 10.16</td>\n",
        "    </tr>\n",
        "    <tr>\n",
        "      <th>2006-10-05</th>\n",
        "      <td> 74.53</td>\n",
        "      <td> 76.16</td>\n",
        "      <td> 74.13</td>\n",
        "      <td> 74.83</td>\n",
        "      <td> 170970800</td>\n",
        "      <td> 10.08</td>\n",
        "    </tr>\n",
        "    <tr>\n",
        "      <th>2006-10-06</th>\n",
        "      <td> 74.42</td>\n",
        "      <td> 75.04</td>\n",
        "      <td> 73.81</td>\n",
        "      <td> 74.22</td>\n",
        "      <td> 116739700</td>\n",
        "      <td> 10.00</td>\n",
        "    </tr>\n",
        "  </tbody>\n",
        "</table>\n",
        "</div>"
       ],
       "metadata": {},
       "output_type": "pyout",
       "prompt_number": 13,
       "text": [
        "             Open   High    Low  Close     Volume  Adj Close\n",
        "Date                                                        \n",
        "2006-10-02  75.10  75.87  74.30  74.86  178159800      10.09\n",
        "2006-10-03  74.45  74.95  73.19  74.08  197677200       9.98\n",
        "2006-10-04  74.10  75.46  73.16  75.38  207270700      10.16\n",
        "2006-10-05  74.53  76.16  74.13  74.83  170970800      10.08\n",
        "2006-10-06  74.42  75.04  73.81  74.22  116739700      10.00"
       ]
      }
     ],
     "prompt_number": 13
    },
    {
     "cell_type": "code",
     "collapsed": false,
     "input": [
      "aapl.index.tolist()[0].year"
     ],
     "language": "python",
     "metadata": {
      "slideshow": {
       "slide_type": "fragment"
      }
     },
     "outputs": [
      {
       "metadata": {},
       "output_type": "pyout",
       "prompt_number": 21,
       "text": [
        "2006"
       ]
      }
     ],
     "prompt_number": 21
    },
    {
     "cell_type": "markdown",
     "metadata": {
      "slideshow": {
       "slide_type": "slide"
      }
     },
     "source": [
      "Series and DataFrame: First steps\n",
      "=================================\n",
      "\n",
      "* Indexing\n",
      "* Slicing\n",
      "* Creating new columns"
     ]
    },
    {
     "cell_type": "code",
     "collapsed": false,
     "input": [
      "ts = aapl['Close'][-10:]\n",
      "ts"
     ],
     "language": "python",
     "metadata": {
      "slideshow": {
       "slide_type": "slide"
      }
     },
     "outputs": [
      {
       "metadata": {},
       "output_type": "pyout",
       "prompt_number": 22,
       "text": [
        "Date\n",
        "2011-12-16    381.02\n",
        "2011-12-19    382.21\n",
        "2011-12-20    395.95\n",
        "2011-12-21    396.45\n",
        "2011-12-22    398.55\n",
        "2011-12-23    403.33\n",
        "2011-12-27    406.53\n",
        "2011-12-28    402.64\n",
        "2011-12-29    405.12\n",
        "2011-12-30    405.00\n",
        "Name: Close, dtype: float64"
       ]
      }
     ],
     "prompt_number": 22
    },
    {
     "cell_type": "markdown",
     "metadata": {
      "slideshow": {
       "slide_type": "slide"
      }
     },
     "source": [
      "A DataFrame is a collection of Series objects. Slicing out a DataFrame column returns a Series."
     ]
    },
    {
     "cell_type": "code",
     "collapsed": false,
     "input": [
      "type(ts)"
     ],
     "language": "python",
     "metadata": {
      "slideshow": {
       "slide_type": "fragment"
      }
     },
     "outputs": [
      {
       "metadata": {},
       "output_type": "pyout",
       "prompt_number": 23,
       "text": [
        "pandas.core.series.Series"
       ]
      }
     ],
     "prompt_number": 23
    },
    {
     "cell_type": "code",
     "collapsed": false,
     "input": [
      "date = ts.index[5]\n",
      "date"
     ],
     "language": "python",
     "metadata": {
      "slideshow": {
       "slide_type": "fragment"
      }
     },
     "outputs": [
      {
       "metadata": {},
       "output_type": "pyout",
       "prompt_number": 24,
       "text": [
        "Timestamp('2011-12-23 00:00:00')"
       ]
      }
     ],
     "prompt_number": 24
    },
    {
     "cell_type": "code",
     "collapsed": false,
     "input": [
      "ts[date]"
     ],
     "language": "python",
     "metadata": {
      "slideshow": {
       "slide_type": "fragment"
      }
     },
     "outputs": [
      {
       "metadata": {},
       "output_type": "pyout",
       "prompt_number": 25,
       "text": [
        "403.32999999999998"
       ]
      }
     ],
     "prompt_number": 25
    },
    {
     "cell_type": "code",
     "collapsed": false,
     "input": [
      "ts[5]"
     ],
     "language": "python",
     "metadata": {
      "slideshow": {
       "slide_type": "fragment"
      }
     },
     "outputs": [
      {
       "metadata": {},
       "output_type": "pyout",
       "prompt_number": 26,
       "text": [
        "403.32999999999998"
       ]
      }
     ],
     "prompt_number": 26
    },
    {
     "cell_type": "markdown",
     "metadata": {
      "slideshow": {
       "slide_type": "fragment"
      }
     },
     "source": [
      "We can also select multiple columns."
     ]
    },
    {
     "cell_type": "code",
     "collapsed": false,
     "input": [
      "aapl[['Open', 'Close']].head()"
     ],
     "language": "python",
     "metadata": {
      "slideshow": {
       "slide_type": "fragment"
      }
     },
     "outputs": [
      {
       "html": [
        "<div style=\"max-height:1000px;max-width:1500px;overflow:auto;\">\n",
        "<table border=\"1\" class=\"dataframe\">\n",
        "  <thead>\n",
        "    <tr style=\"text-align: right;\">\n",
        "      <th></th>\n",
        "      <th>Open</th>\n",
        "      <th>Close</th>\n",
        "    </tr>\n",
        "    <tr>\n",
        "      <th>Date</th>\n",
        "      <th></th>\n",
        "      <th></th>\n",
        "    </tr>\n",
        "  </thead>\n",
        "  <tbody>\n",
        "    <tr>\n",
        "      <th>2006-10-02</th>\n",
        "      <td> 75.10</td>\n",
        "      <td> 74.86</td>\n",
        "    </tr>\n",
        "    <tr>\n",
        "      <th>2006-10-03</th>\n",
        "      <td> 74.45</td>\n",
        "      <td> 74.08</td>\n",
        "    </tr>\n",
        "    <tr>\n",
        "      <th>2006-10-04</th>\n",
        "      <td> 74.10</td>\n",
        "      <td> 75.38</td>\n",
        "    </tr>\n",
        "    <tr>\n",
        "      <th>2006-10-05</th>\n",
        "      <td> 74.53</td>\n",
        "      <td> 74.83</td>\n",
        "    </tr>\n",
        "    <tr>\n",
        "      <th>2006-10-06</th>\n",
        "      <td> 74.42</td>\n",
        "      <td> 74.22</td>\n",
        "    </tr>\n",
        "  </tbody>\n",
        "</table>\n",
        "</div>"
       ],
       "metadata": {},
       "output_type": "pyout",
       "prompt_number": 27,
       "text": [
        "             Open  Close\n",
        "Date                    \n",
        "2006-10-02  75.10  74.86\n",
        "2006-10-03  74.45  74.08\n",
        "2006-10-04  74.10  75.38\n",
        "2006-10-05  74.53  74.83\n",
        "2006-10-06  74.42  74.22"
       ]
      }
     ],
     "prompt_number": 27
    },
    {
     "cell_type": "markdown",
     "metadata": {
      "slideshow": {
       "slide_type": "fragment"
      }
     },
     "source": [
      "New columns can be added on the fly."
     ]
    },
    {
     "cell_type": "code",
     "collapsed": false,
     "input": [
      "aapl['diff'] = aapl.Open - aapl.Close\n",
      "aapl.head()"
     ],
     "language": "python",
     "metadata": {
      "slideshow": {
       "slide_type": "fragment"
      }
     },
     "outputs": [
      {
       "html": [
        "<div style=\"max-height:1000px;max-width:1500px;overflow:auto;\">\n",
        "<table border=\"1\" class=\"dataframe\">\n",
        "  <thead>\n",
        "    <tr style=\"text-align: right;\">\n",
        "      <th></th>\n",
        "      <th>Open</th>\n",
        "      <th>High</th>\n",
        "      <th>Low</th>\n",
        "      <th>Close</th>\n",
        "      <th>Volume</th>\n",
        "      <th>Adj Close</th>\n",
        "      <th>diff</th>\n",
        "    </tr>\n",
        "    <tr>\n",
        "      <th>Date</th>\n",
        "      <th></th>\n",
        "      <th></th>\n",
        "      <th></th>\n",
        "      <th></th>\n",
        "      <th></th>\n",
        "      <th></th>\n",
        "      <th></th>\n",
        "    </tr>\n",
        "  </thead>\n",
        "  <tbody>\n",
        "    <tr>\n",
        "      <th>2006-10-02</th>\n",
        "      <td> 75.10</td>\n",
        "      <td> 75.87</td>\n",
        "      <td> 74.30</td>\n",
        "      <td> 74.86</td>\n",
        "      <td> 178159800</td>\n",
        "      <td> 10.09</td>\n",
        "      <td> 0.24</td>\n",
        "    </tr>\n",
        "    <tr>\n",
        "      <th>2006-10-03</th>\n",
        "      <td> 74.45</td>\n",
        "      <td> 74.95</td>\n",
        "      <td> 73.19</td>\n",
        "      <td> 74.08</td>\n",
        "      <td> 197677200</td>\n",
        "      <td>  9.98</td>\n",
        "      <td> 0.37</td>\n",
        "    </tr>\n",
        "    <tr>\n",
        "      <th>2006-10-04</th>\n",
        "      <td> 74.10</td>\n",
        "      <td> 75.46</td>\n",
        "      <td> 73.16</td>\n",
        "      <td> 75.38</td>\n",
        "      <td> 207270700</td>\n",
        "      <td> 10.16</td>\n",
        "      <td>-1.28</td>\n",
        "    </tr>\n",
        "    <tr>\n",
        "      <th>2006-10-05</th>\n",
        "      <td> 74.53</td>\n",
        "      <td> 76.16</td>\n",
        "      <td> 74.13</td>\n",
        "      <td> 74.83</td>\n",
        "      <td> 170970800</td>\n",
        "      <td> 10.08</td>\n",
        "      <td>-0.30</td>\n",
        "    </tr>\n",
        "    <tr>\n",
        "      <th>2006-10-06</th>\n",
        "      <td> 74.42</td>\n",
        "      <td> 75.04</td>\n",
        "      <td> 73.81</td>\n",
        "      <td> 74.22</td>\n",
        "      <td> 116739700</td>\n",
        "      <td> 10.00</td>\n",
        "      <td> 0.20</td>\n",
        "    </tr>\n",
        "  </tbody>\n",
        "</table>\n",
        "</div>"
       ],
       "metadata": {},
       "output_type": "pyout",
       "prompt_number": 28,
       "text": [
        "             Open   High    Low  Close     Volume  Adj Close  diff\n",
        "Date                                                              \n",
        "2006-10-02  75.10  75.87  74.30  74.86  178159800      10.09  0.24\n",
        "2006-10-03  74.45  74.95  73.19  74.08  197677200       9.98  0.37\n",
        "2006-10-04  74.10  75.46  73.16  75.38  207270700      10.16 -1.28\n",
        "2006-10-05  74.53  76.16  74.13  74.83  170970800      10.08 -0.30\n",
        "2006-10-06  74.42  75.04  73.81  74.22  116739700      10.00  0.20"
       ]
      }
     ],
     "prompt_number": 28
    },
    {
     "cell_type": "markdown",
     "metadata": {
      "slideshow": {
       "slide_type": "fragment"
      }
     },
     "source": [
      "...and deleted on the fly."
     ]
    },
    {
     "cell_type": "code",
     "collapsed": false,
     "input": [
      "del aapl['diff']\n",
      "aapl.head()"
     ],
     "language": "python",
     "metadata": {
      "slideshow": {
       "slide_type": "fragment"
      }
     },
     "outputs": [
      {
       "html": [
        "<div style=\"max-height:1000px;max-width:1500px;overflow:auto;\">\n",
        "<table border=\"1\" class=\"dataframe\">\n",
        "  <thead>\n",
        "    <tr style=\"text-align: right;\">\n",
        "      <th></th>\n",
        "      <th>Open</th>\n",
        "      <th>High</th>\n",
        "      <th>Low</th>\n",
        "      <th>Close</th>\n",
        "      <th>Volume</th>\n",
        "      <th>Adj Close</th>\n",
        "    </tr>\n",
        "    <tr>\n",
        "      <th>Date</th>\n",
        "      <th></th>\n",
        "      <th></th>\n",
        "      <th></th>\n",
        "      <th></th>\n",
        "      <th></th>\n",
        "      <th></th>\n",
        "    </tr>\n",
        "  </thead>\n",
        "  <tbody>\n",
        "    <tr>\n",
        "      <th>2006-10-02</th>\n",
        "      <td> 75.10</td>\n",
        "      <td> 75.87</td>\n",
        "      <td> 74.30</td>\n",
        "      <td> 74.86</td>\n",
        "      <td> 178159800</td>\n",
        "      <td> 10.09</td>\n",
        "    </tr>\n",
        "    <tr>\n",
        "      <th>2006-10-03</th>\n",
        "      <td> 74.45</td>\n",
        "      <td> 74.95</td>\n",
        "      <td> 73.19</td>\n",
        "      <td> 74.08</td>\n",
        "      <td> 197677200</td>\n",
        "      <td>  9.98</td>\n",
        "    </tr>\n",
        "    <tr>\n",
        "      <th>2006-10-04</th>\n",
        "      <td> 74.10</td>\n",
        "      <td> 75.46</td>\n",
        "      <td> 73.16</td>\n",
        "      <td> 75.38</td>\n",
        "      <td> 207270700</td>\n",
        "      <td> 10.16</td>\n",
        "    </tr>\n",
        "    <tr>\n",
        "      <th>2006-10-05</th>\n",
        "      <td> 74.53</td>\n",
        "      <td> 76.16</td>\n",
        "      <td> 74.13</td>\n",
        "      <td> 74.83</td>\n",
        "      <td> 170970800</td>\n",
        "      <td> 10.08</td>\n",
        "    </tr>\n",
        "    <tr>\n",
        "      <th>2006-10-06</th>\n",
        "      <td> 74.42</td>\n",
        "      <td> 75.04</td>\n",
        "      <td> 73.81</td>\n",
        "      <td> 74.22</td>\n",
        "      <td> 116739700</td>\n",
        "      <td> 10.00</td>\n",
        "    </tr>\n",
        "  </tbody>\n",
        "</table>\n",
        "</div>"
       ],
       "metadata": {},
       "output_type": "pyout",
       "prompt_number": 29,
       "text": [
        "             Open   High    Low  Close     Volume  Adj Close\n",
        "Date                                                        \n",
        "2006-10-02  75.10  75.87  74.30  74.86  178159800      10.09\n",
        "2006-10-03  74.45  74.95  73.19  74.08  197677200       9.98\n",
        "2006-10-04  74.10  75.46  73.16  75.38  207270700      10.16\n",
        "2006-10-05  74.53  76.16  74.13  74.83  170970800      10.08\n",
        "2006-10-06  74.42  75.04  73.81  74.22  116739700      10.00"
       ]
      }
     ],
     "prompt_number": 29
    },
    {
     "cell_type": "markdown",
     "metadata": {
      "slideshow": {
       "slide_type": "slide"
      }
     },
     "source": [
      "Common Financial Computations\n",
      "-----------------------------\n",
      "\n",
      "* Moving Average\n",
      "* Returns"
     ]
    },
    {
     "cell_type": "code",
     "collapsed": false,
     "input": [
      "close_px = aapl['Adj Close']"
     ],
     "language": "python",
     "metadata": {
      "slideshow": {
       "slide_type": "fragment"
      }
     },
     "outputs": [],
     "prompt_number": 30
    },
    {
     "cell_type": "code",
     "collapsed": false,
     "input": [
      "mavg = pd.rolling_mean(close_px, 40)\n",
      "mavg[:41\n",
      "    ]"
     ],
     "language": "python",
     "metadata": {
      "slideshow": {
       "slide_type": "fragment"
      }
     },
     "outputs": [
      {
       "metadata": {},
       "output_type": "pyout",
       "prompt_number": 32,
       "text": [
        "Date\n",
        "2006-10-02         NaN\n",
        "2006-10-03         NaN\n",
        "2006-10-04         NaN\n",
        "2006-10-05         NaN\n",
        "2006-10-06         NaN\n",
        "2006-10-09         NaN\n",
        "2006-10-10         NaN\n",
        "2006-10-11         NaN\n",
        "2006-10-12         NaN\n",
        "2006-10-13         NaN\n",
        "2006-10-16         NaN\n",
        "2006-10-17         NaN\n",
        "2006-10-18         NaN\n",
        "2006-10-19         NaN\n",
        "2006-10-20         NaN\n",
        "2006-10-23         NaN\n",
        "2006-10-24         NaN\n",
        "2006-10-25         NaN\n",
        "2006-10-26         NaN\n",
        "2006-10-27         NaN\n",
        "2006-10-30         NaN\n",
        "2006-10-31         NaN\n",
        "2006-11-01         NaN\n",
        "2006-11-02         NaN\n",
        "2006-11-03         NaN\n",
        "2006-11-06         NaN\n",
        "2006-11-07         NaN\n",
        "2006-11-08         NaN\n",
        "2006-11-09         NaN\n",
        "2006-11-10         NaN\n",
        "2006-11-13         NaN\n",
        "2006-11-14         NaN\n",
        "2006-11-15         NaN\n",
        "2006-11-16         NaN\n",
        "2006-11-17         NaN\n",
        "2006-11-20         NaN\n",
        "2006-11-21         NaN\n",
        "2006-11-22         NaN\n",
        "2006-11-24         NaN\n",
        "2006-11-27    10.82725\n",
        "2006-11-28    10.88425\n",
        "dtype: float64"
       ]
      }
     ],
     "prompt_number": 32
    },
    {
     "cell_type": "markdown",
     "metadata": {
      "slideshow": {
       "slide_type": "fragment"
      }
     },
     "source": [
      "Returns defined as: \n",
      "$$ $$\n",
      "$$r_t = \\frac{p_t - p_{t-1}}{p_{t-1}} = \\frac{p_t}{p_{t-1}} - 1$$"
     ]
    },
    {
     "cell_type": "code",
     "collapsed": false,
     "input": [
      "rets = close_px / close_px.shift(1) - 1\n",
      "rets.head()"
     ],
     "language": "python",
     "metadata": {
      "slideshow": {
       "slide_type": "fragment"
      }
     },
     "outputs": [
      {
       "metadata": {},
       "output_type": "pyout",
       "prompt_number": 33,
       "text": [
        "Date\n",
        "2006-10-02         NaN\n",
        "2006-10-03   -0.010902\n",
        "2006-10-04    0.018036\n",
        "2006-10-05   -0.007874\n",
        "2006-10-06   -0.007937\n",
        "Name: Adj Close, dtype: float64"
       ]
      }
     ],
     "prompt_number": 33
    },
    {
     "cell_type": "markdown",
     "metadata": {
      "slideshow": {
       "slide_type": "fragment"
      }
     },
     "source": [
      "Or alternatively `.pct_change()`."
     ]
    },
    {
     "cell_type": "code",
     "collapsed": false,
     "input": [
      "close_px.pct_change().head()"
     ],
     "language": "python",
     "metadata": {
      "slideshow": {
       "slide_type": "fragment"
      }
     },
     "outputs": [
      {
       "metadata": {},
       "output_type": "pyout",
       "prompt_number": 34,
       "text": [
        "Date\n",
        "2006-10-02         NaN\n",
        "2006-10-03   -0.010902\n",
        "2006-10-04    0.018036\n",
        "2006-10-05   -0.007874\n",
        "2006-10-06   -0.007937\n",
        "Name: Adj Close, dtype: float64"
       ]
      }
     ],
     "prompt_number": 34
    },
    {
     "cell_type": "markdown",
     "metadata": {
      "slideshow": {
       "slide_type": "slide"
      }
     },
     "source": [
      "Plotting Basics\n",
      "---------------"
     ]
    },
    {
     "cell_type": "markdown",
     "metadata": {
      "slideshow": {
       "slide_type": "fragment"
      }
     },
     "source": [
      "Series and DataFrames have an associated `.plot()` command (uses Matplotlib behind the scenes)."
     ]
    },
    {
     "cell_type": "code",
     "collapsed": false,
     "input": [
      "close_px.plot(label='AAPL')\n",
      "mavg.plot(label='mavg')\n",
      "plt.legend()"
     ],
     "language": "python",
     "metadata": {
      "slideshow": {
       "slide_type": "fragment"
      }
     },
     "outputs": [
      {
       "metadata": {},
       "output_type": "pyout",
       "prompt_number": 35,
       "text": [
        "<matplotlib.legend.Legend at 0x1068d79d0>"
       ]
      },
      {
       "metadata": {},
       "output_type": "display_data",
       "png": "[encoded data removed]",
       "text": [
        "<matplotlib.figure.Figure at 0x10689d610>"
       ]
      }
     ],
     "prompt_number": 35
    },
    {
     "cell_type": "heading",
     "level": 2,
     "metadata": {
      "slideshow": {
       "slide_type": "slide"
      }
     },
     "source": [
      "Comparing Multiple Stocks"
     ]
    },
    {
     "cell_type": "code",
     "collapsed": false,
     "input": [
      "df = pd.io.data.get_data_yahoo(['AAPL', 'GE', 'IBM', 'KO', 'MSFT', 'PEP'], \n",
      "                               start=datetime.datetime(2010, 1, 1), \n",
      "                               end=datetime.datetime(2013, 1, 1))['Adj Close']\n",
      "df.head()"
     ],
     "language": "python",
     "metadata": {
      "slideshow": {
       "slide_type": "fragment"
      }
     },
     "outputs": [
      {
       "html": [
        "<div style=\"max-height:1000px;max-width:1500px;overflow:auto;\">\n",
        "<table border=\"1\" class=\"dataframe\">\n",
        "  <thead>\n",
        "    <tr style=\"text-align: right;\">\n",
        "      <th></th>\n",
        "      <th>AAPL</th>\n",
        "      <th>GE</th>\n",
        "      <th>IBM</th>\n",
        "      <th>KO</th>\n",
        "      <th>MSFT</th>\n",
        "      <th>PEP</th>\n",
        "    </tr>\n",
        "    <tr>\n",
        "      <th>Date</th>\n",
        "      <th></th>\n",
        "      <th></th>\n",
        "      <th></th>\n",
        "      <th></th>\n",
        "      <th></th>\n",
        "      <th></th>\n",
        "    </tr>\n",
        "  </thead>\n",
        "  <tbody>\n",
        "    <tr>\n",
        "      <th>2010-01-04</th>\n",
        "      <td> 28.84</td>\n",
        "      <td> 13.10</td>\n",
        "      <td> 119.53</td>\n",
        "      <td> 24.67</td>\n",
        "      <td> 27.14</td>\n",
        "      <td> 52.81</td>\n",
        "    </tr>\n",
        "    <tr>\n",
        "      <th>2010-01-05</th>\n",
        "      <td> 28.89</td>\n",
        "      <td> 13.16</td>\n",
        "      <td> 118.09</td>\n",
        "      <td> 24.37</td>\n",
        "      <td> 27.14</td>\n",
        "      <td> 53.45</td>\n",
        "    </tr>\n",
        "    <tr>\n",
        "      <th>2010-01-06</th>\n",
        "      <td> 28.43</td>\n",
        "      <td> 13.10</td>\n",
        "      <td> 117.32</td>\n",
        "      <td> 24.36</td>\n",
        "      <td> 26.98</td>\n",
        "      <td> 52.92</td>\n",
        "    </tr>\n",
        "    <tr>\n",
        "      <th>2010-01-07</th>\n",
        "      <td> 28.38</td>\n",
        "      <td> 13.77</td>\n",
        "      <td> 116.92</td>\n",
        "      <td> 24.30</td>\n",
        "      <td> 26.70</td>\n",
        "      <td> 52.58</td>\n",
        "    </tr>\n",
        "    <tr>\n",
        "      <th>2010-01-08</th>\n",
        "      <td> 28.56</td>\n",
        "      <td> 14.07</td>\n",
        "      <td> 118.09</td>\n",
        "      <td> 23.85</td>\n",
        "      <td> 26.88</td>\n",
        "      <td> 52.41</td>\n",
        "    </tr>\n",
        "  </tbody>\n",
        "</table>\n",
        "</div>"
       ],
       "metadata": {},
       "output_type": "pyout",
       "prompt_number": 36,
       "text": [
        "             AAPL     GE     IBM     KO   MSFT    PEP\n",
        "Date                                                 \n",
        "2010-01-04  28.84  13.10  119.53  24.67  27.14  52.81\n",
        "2010-01-05  28.89  13.16  118.09  24.37  27.14  53.45\n",
        "2010-01-06  28.43  13.10  117.32  24.36  26.98  52.92\n",
        "2010-01-07  28.38  13.77  116.92  24.30  26.70  52.58\n",
        "2010-01-08  28.56  14.07  118.09  23.85  26.88  52.41"
       ]
      }
     ],
     "prompt_number": 36
    },
    {
     "cell_type": "code",
     "collapsed": false,
     "input": [
      "rets = df.pct_change()\n",
      "rets.head()"
     ],
     "language": "python",
     "metadata": {
      "slideshow": {
       "slide_type": "fragment"
      }
     },
     "outputs": [
      {
       "html": [
        "<div style=\"max-height:1000px;max-width:1500px;overflow:auto;\">\n",
        "<table border=\"1\" class=\"dataframe\">\n",
        "  <thead>\n",
        "    <tr style=\"text-align: right;\">\n",
        "      <th></th>\n",
        "      <th>AAPL</th>\n",
        "      <th>GE</th>\n",
        "      <th>IBM</th>\n",
        "      <th>KO</th>\n",
        "      <th>MSFT</th>\n",
        "      <th>PEP</th>\n",
        "    </tr>\n",
        "    <tr>\n",
        "      <th>Date</th>\n",
        "      <th></th>\n",
        "      <th></th>\n",
        "      <th></th>\n",
        "      <th></th>\n",
        "      <th></th>\n",
        "      <th></th>\n",
        "    </tr>\n",
        "  </thead>\n",
        "  <tbody>\n",
        "    <tr>\n",
        "      <th>2010-01-04</th>\n",
        "      <td>      NaN</td>\n",
        "      <td>      NaN</td>\n",
        "      <td>      NaN</td>\n",
        "      <td>      NaN</td>\n",
        "      <td>      NaN</td>\n",
        "      <td>      NaN</td>\n",
        "    </tr>\n",
        "    <tr>\n",
        "      <th>2010-01-05</th>\n",
        "      <td> 0.001734</td>\n",
        "      <td> 0.004580</td>\n",
        "      <td>-0.012047</td>\n",
        "      <td>-0.012161</td>\n",
        "      <td> 0.000000</td>\n",
        "      <td> 0.012119</td>\n",
        "    </tr>\n",
        "    <tr>\n",
        "      <th>2010-01-06</th>\n",
        "      <td>-0.015922</td>\n",
        "      <td>-0.004559</td>\n",
        "      <td>-0.006520</td>\n",
        "      <td>-0.000410</td>\n",
        "      <td>-0.005895</td>\n",
        "      <td>-0.009916</td>\n",
        "    </tr>\n",
        "    <tr>\n",
        "      <th>2010-01-07</th>\n",
        "      <td>-0.001759</td>\n",
        "      <td> 0.051145</td>\n",
        "      <td>-0.003409</td>\n",
        "      <td>-0.002463</td>\n",
        "      <td>-0.010378</td>\n",
        "      <td>-0.006425</td>\n",
        "    </tr>\n",
        "    <tr>\n",
        "      <th>2010-01-08</th>\n",
        "      <td> 0.006342</td>\n",
        "      <td> 0.021786</td>\n",
        "      <td> 0.010007</td>\n",
        "      <td>-0.018519</td>\n",
        "      <td> 0.006742</td>\n",
        "      <td>-0.003233</td>\n",
        "    </tr>\n",
        "  </tbody>\n",
        "</table>\n",
        "</div>"
       ],
       "metadata": {},
       "output_type": "pyout",
       "prompt_number": 37,
       "text": [
        "                AAPL        GE       IBM        KO      MSFT       PEP\n",
        "Date                                                                  \n",
        "2010-01-04       NaN       NaN       NaN       NaN       NaN       NaN\n",
        "2010-01-05  0.001734  0.004580 -0.012047 -0.012161  0.000000  0.012119\n",
        "2010-01-06 -0.015922 -0.004559 -0.006520 -0.000410 -0.005895 -0.009916\n",
        "2010-01-07 -0.001759  0.051145 -0.003409 -0.002463 -0.010378 -0.006425\n",
        "2010-01-08  0.006342  0.021786  0.010007 -0.018519  0.006742 -0.003233"
       ]
      }
     ],
     "prompt_number": 37
    },
    {
     "cell_type": "code",
     "collapsed": false,
     "input": [
      "plt.scatter(rets.PEP, rets.KO)\n",
      "plt.xlabel('Returns PEP')\n",
      "plt.ylabel('Returns KO')"
     ],
     "language": "python",
     "metadata": {
      "slideshow": {
       "slide_type": "fragment"
      }
     },
     "outputs": [
      {
       "metadata": {},
       "output_type": "pyout",
       "prompt_number": 38,
       "text": [
        "<matplotlib.text.Text at 0x10c0b1990>"
       ]
      },
      {
       "metadata": {},
       "output_type": "display_data",
       "png": "[encoded data removed]",
       "text": [
        "<matplotlib.figure.Figure at 0x106884750>"
       ]
      }
     ],
     "prompt_number": 38
    },
    {
     "cell_type": "code",
     "collapsed": false,
     "input": [
      "pd.scatter_matrix(rets, diagonal='kde', figsize=(10, 10));"
     ],
     "language": "python",
     "metadata": {
      "slideshow": {
       "slide_type": "slide"
      }
     },
     "outputs": [
      {
       "metadata": {},
       "output_type": "display_data",
       "png": "[encoded data removed]",
       "text": [
        "<matplotlib.figure.Figure at 0x10c0b4fd0>"
       ]
      }
     ],
     "prompt_number": 39
    },
    {
     "cell_type": "code",
     "collapsed": false,
     "input": [
      "corr = rets.corr()\n",
      "corr"
     ],
     "language": "python",
     "metadata": {
      "slideshow": {
       "slide_type": "slide"
      }
     },
     "outputs": [
      {
       "html": [
        "<div style=\"max-height:1000px;max-width:1500px;overflow:auto;\">\n",
        "<table border=\"1\" class=\"dataframe\">\n",
        "  <thead>\n",
        "    <tr style=\"text-align: right;\">\n",
        "      <th></th>\n",
        "      <th>AAPL</th>\n",
        "      <th>GE</th>\n",
        "      <th>IBM</th>\n",
        "      <th>KO</th>\n",
        "      <th>MSFT</th>\n",
        "      <th>PEP</th>\n",
        "    </tr>\n",
        "  </thead>\n",
        "  <tbody>\n",
        "    <tr>\n",
        "      <th>AAPL</th>\n",
        "      <td> 1.000000</td>\n",
        "      <td> 0.456958</td>\n",
        "      <td> 0.501260</td>\n",
        "      <td> 0.388081</td>\n",
        "      <td> 0.472918</td>\n",
        "      <td> 0.309286</td>\n",
        "    </tr>\n",
        "    <tr>\n",
        "      <th>GE</th>\n",
        "      <td> 0.456958</td>\n",
        "      <td> 1.000000</td>\n",
        "      <td> 0.610325</td>\n",
        "      <td> 0.593613</td>\n",
        "      <td> 0.600321</td>\n",
        "      <td> 0.533010</td>\n",
        "    </tr>\n",
        "    <tr>\n",
        "      <th>IBM</th>\n",
        "      <td> 0.501260</td>\n",
        "      <td> 0.610325</td>\n",
        "      <td> 1.000000</td>\n",
        "      <td> 0.600602</td>\n",
        "      <td> 0.646043</td>\n",
        "      <td> 0.491406</td>\n",
        "    </tr>\n",
        "    <tr>\n",
        "      <th>KO</th>\n",
        "      <td> 0.388081</td>\n",
        "      <td> 0.593613</td>\n",
        "      <td> 0.600602</td>\n",
        "      <td> 1.000000</td>\n",
        "      <td> 0.522328</td>\n",
        "      <td> 0.635066</td>\n",
        "    </tr>\n",
        "    <tr>\n",
        "      <th>MSFT</th>\n",
        "      <td> 0.472918</td>\n",
        "      <td> 0.600321</td>\n",
        "      <td> 0.646043</td>\n",
        "      <td> 0.522328</td>\n",
        "      <td> 1.000000</td>\n",
        "      <td> 0.477476</td>\n",
        "    </tr>\n",
        "    <tr>\n",
        "      <th>PEP</th>\n",
        "      <td> 0.309286</td>\n",
        "      <td> 0.533010</td>\n",
        "      <td> 0.491406</td>\n",
        "      <td> 0.635066</td>\n",
        "      <td> 0.477476</td>\n",
        "      <td> 1.000000</td>\n",
        "    </tr>\n",
        "  </tbody>\n",
        "</table>\n",
        "</div>"
       ],
       "metadata": {},
       "output_type": "pyout",
       "prompt_number": 40,
       "text": [
        "          AAPL        GE       IBM        KO      MSFT       PEP\n",
        "AAPL  1.000000  0.456958  0.501260  0.388081  0.472918  0.309286\n",
        "GE    0.456958  1.000000  0.610325  0.593613  0.600321  0.533010\n",
        "IBM   0.501260  0.610325  1.000000  0.600602  0.646043  0.491406\n",
        "KO    0.388081  0.593613  0.600602  1.000000  0.522328  0.635066\n",
        "MSFT  0.472918  0.600321  0.646043  0.522328  1.000000  0.477476\n",
        "PEP   0.309286  0.533010  0.491406  0.635066  0.477476  1.000000"
       ]
      }
     ],
     "prompt_number": 40
    },
    {
     "cell_type": "code",
     "collapsed": false,
     "input": [
      "plt.imshow(corr, cmap='hot', interpolation='none')\n",
      "plt.colorbar()\n",
      "plt.xticks(range(len(corr)), corr.columns)\n",
      "plt.yticks(range(len(corr)), corr.columns);"
     ],
     "language": "python",
     "metadata": {
      "slideshow": {
       "slide_type": "slide"
      }
     },
     "outputs": [
      {
       "metadata": {},
       "output_type": "display_data",
       "png": "[encoded data removed]",
       "text": [
        "<matplotlib.figure.Figure at 0x10d8adcd0>"
       ]
      }
     ],
     "prompt_number": 41
    },
    {
     "cell_type": "markdown",
     "metadata": {
      "slideshow": {
       "slide_type": "slide"
      }
     },
     "source": [
      "One thing we are often interested in is the relationship of expected returns and the risk we are taking one. Often there is a trade-off between the two.\n",
      "\n",
      "Here we use `plt.annotate` to put labels on the scatterplot."
     ]
    },
    {
     "cell_type": "code",
     "collapsed": false,
     "input": [
      "plt.scatter(rets.mean(), rets.std())\n",
      "plt.xlabel('Expected returns')\n",
      "plt.ylabel('Risk')\n",
      "for label, x, y in zip(rets.columns, rets.mean(), rets.std()):\n",
      "    plt.annotate(\n",
      "        label, \n",
      "        xy = (x, y), xytext = (20, -20),\n",
      "        textcoords = 'offset points', ha = 'right', va = 'bottom',\n",
      "        bbox = dict(boxstyle = 'round,pad=0.5', fc = 'yellow', alpha = 0.5),\n",
      "        arrowprops = dict(arrowstyle = '->', connectionstyle = 'arc3,rad=0'))"
     ],
     "language": "python",
     "metadata": {},
     "outputs": [
      {
       "metadata": {},
       "output_type": "display_data",
       "png": "[encoded data removed]",
       "text": [
        "<matplotlib.figure.Figure at 0x105ed64d0>"
       ]
      }
     ],
     "prompt_number": 42
    },
    {
     "cell_type": "markdown",
     "metadata": {},
     "source": [
      "Data alignment and dealing with missing values\n",
      "==============\n",
      "\n",
      "* Join, merge, concatenate\n",
      "* Filling NaNs"
     ]
    },
    {
     "cell_type": "markdown",
     "metadata": {},
     "source": [
      "Lets pull some more securities from Yahoo finance and build a DataFrame of the adjusted closing prices."
     ]
    },
    {
     "cell_type": "code",
     "collapsed": false,
     "input": [
      "series_list = []\n",
      "securities = ['AAPL', 'GE', 'IBM', 'MSFT']\n",
      "for security in securities:\n",
      "    s = pd.io.data.get_data_yahoo(security, start=datetime.datetime(2011, 10, 1), end=datetime.datetime(2013, 1, 1))['Adj Close']\n",
      "    s.name = security # Rename series to match security name\n",
      "    series_list.append(s)"
     ],
     "language": "python",
     "metadata": {},
     "outputs": [],
     "prompt_number": 43
    },
    {
     "cell_type": "markdown",
     "metadata": {},
     "source": [
      "`pd.concat` can be used to concatenate multiple `Series` into one `DataFrame`."
     ]
    },
    {
     "cell_type": "code",
     "collapsed": false,
     "input": [
      "df = pd.concat(series_list, axis=1)\n",
      "df.head()"
     ],
     "language": "python",
     "metadata": {},
     "outputs": [
      {
       "html": [
        "<div style=\"max-height:1000px;max-width:1500px;overflow:auto;\">\n",
        "<table border=\"1\" class=\"dataframe\">\n",
        "  <thead>\n",
        "    <tr style=\"text-align: right;\">\n",
        "      <th></th>\n",
        "      <th>AAPL</th>\n",
        "      <th>GE</th>\n",
        "      <th>IBM</th>\n",
        "      <th>MSFT</th>\n",
        "    </tr>\n",
        "    <tr>\n",
        "      <th>Date</th>\n",
        "      <th></th>\n",
        "      <th></th>\n",
        "      <th></th>\n",
        "      <th></th>\n",
        "    </tr>\n",
        "  </thead>\n",
        "  <tbody>\n",
        "    <tr>\n",
        "      <th>2011-10-03</th>\n",
        "      <td> 50.48</td>\n",
        "      <td> 13.12</td>\n",
        "      <td> 161.43</td>\n",
        "      <td> 22.37</td>\n",
        "    </tr>\n",
        "    <tr>\n",
        "      <th>2011-10-04</th>\n",
        "      <td> 50.19</td>\n",
        "      <td> 13.27</td>\n",
        "      <td> 162.78</td>\n",
        "      <td> 23.11</td>\n",
        "    </tr>\n",
        "    <tr>\n",
        "      <th>2011-10-05</th>\n",
        "      <td> 50.97</td>\n",
        "      <td> 13.64</td>\n",
        "      <td> 164.74</td>\n",
        "      <td> 23.61</td>\n",
        "    </tr>\n",
        "    <tr>\n",
        "      <th>2011-10-06</th>\n",
        "      <td> 50.85</td>\n",
        "      <td> 13.87</td>\n",
        "      <td> 169.25</td>\n",
        "      <td> 24.02</td>\n",
        "    </tr>\n",
        "    <tr>\n",
        "      <th>2011-10-07</th>\n",
        "      <td> 49.83</td>\n",
        "      <td> 13.84</td>\n",
        "      <td> 169.91</td>\n",
        "      <td> 23.94</td>\n",
        "    </tr>\n",
        "  </tbody>\n",
        "</table>\n",
        "</div>"
       ],
       "metadata": {},
       "output_type": "pyout",
       "prompt_number": 44,
       "text": [
        "             AAPL     GE     IBM   MSFT\n",
        "Date                                   \n",
        "2011-10-03  50.48  13.12  161.43  22.37\n",
        "2011-10-04  50.19  13.27  162.78  23.11\n",
        "2011-10-05  50.97  13.64  164.74  23.61\n",
        "2011-10-06  50.85  13.87  169.25  24.02\n",
        "2011-10-07  49.83  13.84  169.91  23.94"
       ]
      }
     ],
     "prompt_number": 44
    },
    {
     "cell_type": "code",
     "collapsed": false,
     "input": [
      "import numpy as np\n",
      "df.ix[0, 'AAPL'] = np.nan\n",
      "df.ix[1, ['GE', 'IBM']] = np.nan\n",
      "df.ix[[1, 2, 3], 'MSFT'] = np.nan\n",
      "\n",
      "df.head()"
     ],
     "language": "python",
     "metadata": {},
     "outputs": [
      {
       "html": [
        "<div style=\"max-height:1000px;max-width:1500px;overflow:auto;\">\n",
        "<table border=\"1\" class=\"dataframe\">\n",
        "  <thead>\n",
        "    <tr style=\"text-align: right;\">\n",
        "      <th></th>\n",
        "      <th>AAPL</th>\n",
        "      <th>GE</th>\n",
        "      <th>IBM</th>\n",
        "      <th>MSFT</th>\n",
        "    </tr>\n",
        "    <tr>\n",
        "      <th>Date</th>\n",
        "      <th></th>\n",
        "      <th></th>\n",
        "      <th></th>\n",
        "      <th></th>\n",
        "    </tr>\n",
        "  </thead>\n",
        "  <tbody>\n",
        "    <tr>\n",
        "      <th>2011-10-03</th>\n",
        "      <td>   NaN</td>\n",
        "      <td> 13.12</td>\n",
        "      <td> 161.43</td>\n",
        "      <td> 22.37</td>\n",
        "    </tr>\n",
        "    <tr>\n",
        "      <th>2011-10-04</th>\n",
        "      <td> 50.19</td>\n",
        "      <td>   NaN</td>\n",
        "      <td>    NaN</td>\n",
        "      <td>   NaN</td>\n",
        "    </tr>\n",
        "    <tr>\n",
        "      <th>2011-10-05</th>\n",
        "      <td> 50.97</td>\n",
        "      <td> 13.64</td>\n",
        "      <td> 164.74</td>\n",
        "      <td>   NaN</td>\n",
        "    </tr>\n",
        "    <tr>\n",
        "      <th>2011-10-06</th>\n",
        "      <td> 50.85</td>\n",
        "      <td> 13.87</td>\n",
        "      <td> 169.25</td>\n",
        "      <td>   NaN</td>\n",
        "    </tr>\n",
        "    <tr>\n",
        "      <th>2011-10-07</th>\n",
        "      <td> 49.83</td>\n",
        "      <td> 13.84</td>\n",
        "      <td> 169.91</td>\n",
        "      <td> 23.94</td>\n",
        "    </tr>\n",
        "  </tbody>\n",
        "</table>\n",
        "</div>"
       ],
       "metadata": {},
       "output_type": "pyout",
       "prompt_number": 45,
       "text": [
        "             AAPL     GE     IBM   MSFT\n",
        "Date                                   \n",
        "2011-10-03    NaN  13.12  161.43  22.37\n",
        "2011-10-04  50.19    NaN     NaN    NaN\n",
        "2011-10-05  50.97  13.64  164.74    NaN\n",
        "2011-10-06  50.85  13.87  169.25    NaN\n",
        "2011-10-07  49.83  13.84  169.91  23.94"
       ]
      }
     ],
     "prompt_number": 45
    },
    {
     "cell_type": "markdown",
     "metadata": {},
     "source": [
      "Pandas has great support for computing with missing values."
     ]
    },
    {
     "cell_type": "code",
     "collapsed": false,
     "input": [
      "(df.AAPL + df.GE).head()"
     ],
     "language": "python",
     "metadata": {},
     "outputs": [
      {
       "metadata": {},
       "output_type": "pyout",
       "prompt_number": 46,
       "text": [
        "Date\n",
        "2011-10-03      NaN\n",
        "2011-10-04      NaN\n",
        "2011-10-05    64.61\n",
        "2011-10-06    64.72\n",
        "2011-10-07    63.67\n",
        "dtype: float64"
       ]
      }
     ],
     "prompt_number": 46
    },
    {
     "cell_type": "markdown",
     "metadata": {},
     "source": [
      "One common approach to impute missing values in time series is forward filling."
     ]
    },
    {
     "cell_type": "code",
     "collapsed": false,
     "input": [
      "df.bfill(inplace=True)\n",
      "df.ffill(inplace=True)\n",
      "\n",
      "df.head()"
     ],
     "language": "python",
     "metadata": {},
     "outputs": [
      {
       "html": [
        "<div style=\"max-height:1000px;max-width:1500px;overflow:auto;\">\n",
        "<table border=\"1\" class=\"dataframe\">\n",
        "  <thead>\n",
        "    <tr style=\"text-align: right;\">\n",
        "      <th></th>\n",
        "      <th>AAPL</th>\n",
        "      <th>GE</th>\n",
        "      <th>IBM</th>\n",
        "      <th>MSFT</th>\n",
        "    </tr>\n",
        "    <tr>\n",
        "      <th>Date</th>\n",
        "      <th></th>\n",
        "      <th></th>\n",
        "      <th></th>\n",
        "      <th></th>\n",
        "    </tr>\n",
        "  </thead>\n",
        "  <tbody>\n",
        "    <tr>\n",
        "      <th>2011-10-03</th>\n",
        "      <td> 50.19</td>\n",
        "      <td> 13.12</td>\n",
        "      <td> 161.43</td>\n",
        "      <td> 22.37</td>\n",
        "    </tr>\n",
        "    <tr>\n",
        "      <th>2011-10-04</th>\n",
        "      <td> 50.19</td>\n",
        "      <td> 13.12</td>\n",
        "      <td> 161.43</td>\n",
        "      <td> 22.37</td>\n",
        "    </tr>\n",
        "    <tr>\n",
        "      <th>2011-10-05</th>\n",
        "      <td> 50.97</td>\n",
        "      <td> 13.64</td>\n",
        "      <td> 164.74</td>\n",
        "      <td> 22.37</td>\n",
        "    </tr>\n",
        "    <tr>\n",
        "      <th>2011-10-06</th>\n",
        "      <td> 50.85</td>\n",
        "      <td> 13.87</td>\n",
        "      <td> 169.25</td>\n",
        "      <td> 22.37</td>\n",
        "    </tr>\n",
        "    <tr>\n",
        "      <th>2011-10-07</th>\n",
        "      <td> 49.83</td>\n",
        "      <td> 13.84</td>\n",
        "      <td> 169.91</td>\n",
        "      <td> 23.94</td>\n",
        "    </tr>\n",
        "  </tbody>\n",
        "</table>\n",
        "</div>"
       ],
       "metadata": {},
       "output_type": "pyout",
       "prompt_number": 48,
       "text": [
        "             AAPL     GE     IBM   MSFT\n",
        "Date                                   \n",
        "2011-10-03  50.19  13.12  161.43  22.37\n",
        "2011-10-04  50.19  13.12  161.43  22.37\n",
        "2011-10-05  50.97  13.64  164.74  22.37\n",
        "2011-10-06  50.85  13.87  169.25  22.37\n",
        "2011-10-07  49.83  13.84  169.91  23.94"
       ]
      }
     ],
     "prompt_number": 48
    },
    {
     "cell_type": "code",
     "collapsed": false,
     "input": [
      "keys = ['a', 'b', 'c']\n",
      "values = [1, 2, 3]\n",
      "jax5 = dict(zip(keys, values))"
     ],
     "language": "python",
     "metadata": {},
     "outputs": [],
     "prompt_number": 51
    },
    {
     "cell_type": "code",
     "collapsed": false,
     "input": [
      "jax5"
     ],
     "language": "python",
     "metadata": {},
     "outputs": [
      {
       "metadata": {},
       "output_type": "pyout",
       "prompt_number": 50,
       "text": [
        "{'a': 1, 'b': 2, 'c': 3}"
       ]
      }
     ],
     "prompt_number": 50
    },
    {
     "cell_type": "code",
     "collapsed": false,
     "input": [],
     "language": "python",
     "metadata": {},
     "outputs": []
    }
   ],
   "metadata": {}
  }
 ]
}