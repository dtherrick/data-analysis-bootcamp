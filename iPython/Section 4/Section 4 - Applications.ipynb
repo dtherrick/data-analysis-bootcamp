{
 "metadata": {
  "name": "",
  "signature": "sha256:db431159a12d7a567697c5c32db8ed46d08c3ad525bafe598fc6e7716fe20b80"
 },
 "nbformat": 3,
 "nbformat_minor": 0,
 "worksheets": [
  {
   "cells": [
    {
     "cell_type": "markdown",
     "metadata": {},
     "source": [
      "#Section 4: APPLICATIONS - Using Data"
     ]
    },
    {
     "cell_type": "markdown",
     "metadata": {},
     "source": [
      "##AGENDA:\n",
      "* Communicating Information:\n",
      "    * Reporting\n",
      "    * Business Intelligence\n",
      "    * Dashboards\n",
      "    * Data Quality Issues\n",
      "    \n",
      "* Financial Calculations / Modeling\n",
      "    * Time Value of Money\n",
      "    * Uncertainty - planning and opportunity costs\n",
      "    * Cost Concepts and Depreciation\n",
      "    * Should you care?\n",
      "    * Is this all that matters?\n",
      "    * The newsvendor problem\n",
      "\n",
      "* CAP Exam Overview\n",
      "\n",
      "* Conclusions / Wrap-up"
     ]
    },
    {
     "cell_type": "markdown",
     "metadata": {},
     "source": [
      "> Before we begin - this is much less technical than our earlier sections. That said, so much of data analysis and management consists of understanding basic business principles, and navigating the culture and politics of your company."
     ]
    },
    {
     "cell_type": "markdown",
     "metadata": {},
     "source": [
      "##Communicating Information\n",
      "* To technical staff - those of use embedded in code, databases, etc - this section may be new material.\n",
      "* But - in areas of business intelligence, reporting, and financial metrics - technical advice is often needed, and it benefits all parties if everyone has at least a rudimentary understanding of the issues at hand.\n",
      "\n",
      "###Goal:\n",
      "* Describe some ways data demand arises in the business environment\n",
      "* Highlight traps for the unwary\n",
      "* Provide advice on how to use data more successfully"
     ]
    },
    {
     "cell_type": "markdown",
     "metadata": {},
     "source": [
      "##Business Intelligence\n",
      "* Elephant in the room - there is a long history of failed business intelligence projects.\n",
      "\n",
      "* Typical goal of a BI project:\n",
      "    * Find a way to represent, store, and make accessible a comprehensive view of all data\n",
      "    * In a fashion that is useful to anybody, anywhere, at any time. \n",
      "    * Initiative has to span the entire company, typically\n",
      "        * So that brings technical and administrative problems\n",
      "* So BI tries to solve a conceptual and political problem with technial solutions.\n",
      "\n",
      "* Most data warehouse / BI systems are not designed for extensive analytics work.\n",
      "    * Difficult / clumsy interface to manage"
     ]
    },
    {
     "cell_type": "markdown",
     "metadata": {},
     "source": [
      "##BI as an accessibility layer\n",
      "* Tries to make underlying data in a warehouse / cube more accessible via:\n",
      "    * Reporting\n",
      "    * Improved support for ad hoc data analysis\n",
      "    * Rudimentary, canned attempts at predictive analytics.\n",
      "\n",
      "* Because it's so tied to a database, it remains constrained by what a database can do.\n",
      "\n",
      "* \"Analytics\" is typically aggregate operations such as sums and averages that are typically supported by OLAP."
     ]
    },
    {
     "cell_type": "markdown",
     "metadata": {},
     "source": [
      "###Takeaway:\n",
      "* BI is mostly about improving reporting\n",
      "    * Doesn't require much in the way of data analysis\n",
      "    * Most business users of these reports don't need much help with the numbers.\n",
      "    * Opportunities exist for improving the visualization of the data, and for improved UI/UX\n",
      "    * Most possibilities end up limited by the set of tools used.\n",
      "* Be very careful using any canned analytics routines bundled in BI packages.\n",
      "    * Most tools are thrown in as free extras to pad a feature list - so they may lack production strength and ease of use.\n",
      "    \n",
      "* In our section on analytics, we emphasized the importance of understanding your models, and not relying entirely on black box solutions.\n",
      "    * This matters very much in working with BI packages.\n",
      "\n",
      "* Always ask how useful and relevant the results are.\n",
      "* Was there an initial question being asked? If so, does the solution adequately answer it?\n",
      "    * Was the question being driven by the ease in which information could be obtained?"
     ]
    },
    {
     "cell_type": "markdown",
     "metadata": {},
     "source": [
      "##Reporting\n",
      "\n",
      "* Most \"analysis\" in the enterprise world is actually reporting.\n",
      "    * A ton of information is transmitted via report, and it's the key feature of BI systems\n",
      "\n",
      "* It's also a huge source of frustration.\n",
      "    * Everyone - including the reporting team - has a problem with reports.\n",
      "    \n",
      "__Reporting as currently practiced is completely wrong - especially in two areas:__\n",
      "1. Reporting solutions are often built generically - leading to an attempt to make a single solution work for all users.\n",
      "2. Reporting confuses up-to-date with real-time.\n",
      "    * Even if the query is pulled immediately, it often takes time to generate and deliver.\n",
      "    * Most people want reports \"right this minute\" instead of \"up to this minute\""
     ]
    },
    {
     "cell_type": "markdown",
     "metadata": {},
     "source": [
      "###How do you fix reporting?\n",
      "1. Get rid of the idea that one report fits all.\n",
      "    * Instead, think about operational and representative reports.\n",
      "        * Representative reports are for outside users"
     ]
    }
   ],
   "metadata": {}
  }
 ]
}