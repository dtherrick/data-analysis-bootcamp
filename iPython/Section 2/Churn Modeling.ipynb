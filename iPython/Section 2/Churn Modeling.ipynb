{
 "metadata": {
  "name": "",
  "signature": "sha256:8f1b3e4a1cacd3430483a8ca2f8be6a554136a006761fb7b41a3eddd7f595f1f"
 },
 "nbformat": 3,
 "nbformat_minor": 0,
 "worksheets": [
  {
   "cells": [
    {
     "cell_type": "code",
     "collapsed": false,
     "input": [
      "from __future__ import division\n",
      "import pandas as pd\n",
      "import numpy as np\n",
      "\n",
      "churn_df = pd.read_csv('https://raw.githubusercontent.com/EricChiang/churn/master/data/churn.csv')\n",
      "col_names = churn_df.columns.tolist()\n",
      "\n",
      "print \"Column names:\"\n",
      "print col_names\n",
      "\n",
      "to_show = col_names[:6] + col_names[-6:]\n",
      "\n",
      "print \"\\nSample data:\"\n",
      "churn_df[to_show].head(6)"
     ],
     "language": "python",
     "metadata": {},
     "outputs": [
      {
       "output_type": "stream",
       "stream": "stdout",
       "text": [
        "Column names:\n",
        "['State', 'Account Length', 'Area Code', 'Phone', \"Int'l Plan\", 'VMail Plan', 'VMail Message', 'Day Mins', 'Day Calls', 'Day Charge', 'Eve Mins', 'Eve Calls', 'Eve Charge', 'Night Mins', 'Night Calls', 'Night Charge', 'Intl Mins', 'Intl Calls', 'Intl Charge', 'CustServ Calls', 'Churn?']\n",
        "\n",
        "Sample data:\n"
       ]
      },
      {
       "html": [
        "<div style=\"max-height:1000px;max-width:1500px;overflow:auto;\">\n",
        "<table border=\"1\" class=\"dataframe\">\n",
        "  <thead>\n",
        "    <tr style=\"text-align: right;\">\n",
        "      <th></th>\n",
        "      <th>State</th>\n",
        "      <th>Account Length</th>\n",
        "      <th>Area Code</th>\n",
        "      <th>Phone</th>\n",
        "      <th>Int'l Plan</th>\n",
        "      <th>VMail Plan</th>\n",
        "      <th>Night Charge</th>\n",
        "      <th>Intl Mins</th>\n",
        "      <th>Intl Calls</th>\n",
        "      <th>Intl Charge</th>\n",
        "      <th>CustServ Calls</th>\n",
        "      <th>Churn?</th>\n",
        "    </tr>\n",
        "  </thead>\n",
        "  <tbody>\n",
        "    <tr>\n",
        "      <th>0</th>\n",
        "      <td> KS</td>\n",
        "      <td> 128</td>\n",
        "      <td> 415</td>\n",
        "      <td> 382-4657</td>\n",
        "      <td>  no</td>\n",
        "      <td> yes</td>\n",
        "      <td> 11.01</td>\n",
        "      <td> 10.0</td>\n",
        "      <td> 3</td>\n",
        "      <td> 2.70</td>\n",
        "      <td> 1</td>\n",
        "      <td> False.</td>\n",
        "    </tr>\n",
        "    <tr>\n",
        "      <th>1</th>\n",
        "      <td> OH</td>\n",
        "      <td> 107</td>\n",
        "      <td> 415</td>\n",
        "      <td> 371-7191</td>\n",
        "      <td>  no</td>\n",
        "      <td> yes</td>\n",
        "      <td> 11.45</td>\n",
        "      <td> 13.7</td>\n",
        "      <td> 3</td>\n",
        "      <td> 3.70</td>\n",
        "      <td> 1</td>\n",
        "      <td> False.</td>\n",
        "    </tr>\n",
        "    <tr>\n",
        "      <th>2</th>\n",
        "      <td> NJ</td>\n",
        "      <td> 137</td>\n",
        "      <td> 415</td>\n",
        "      <td> 358-1921</td>\n",
        "      <td>  no</td>\n",
        "      <td>  no</td>\n",
        "      <td>  7.32</td>\n",
        "      <td> 12.2</td>\n",
        "      <td> 5</td>\n",
        "      <td> 3.29</td>\n",
        "      <td> 0</td>\n",
        "      <td> False.</td>\n",
        "    </tr>\n",
        "    <tr>\n",
        "      <th>3</th>\n",
        "      <td> OH</td>\n",
        "      <td>  84</td>\n",
        "      <td> 408</td>\n",
        "      <td> 375-9999</td>\n",
        "      <td> yes</td>\n",
        "      <td>  no</td>\n",
        "      <td>  8.86</td>\n",
        "      <td>  6.6</td>\n",
        "      <td> 7</td>\n",
        "      <td> 1.78</td>\n",
        "      <td> 2</td>\n",
        "      <td> False.</td>\n",
        "    </tr>\n",
        "    <tr>\n",
        "      <th>4</th>\n",
        "      <td> OK</td>\n",
        "      <td>  75</td>\n",
        "      <td> 415</td>\n",
        "      <td> 330-6626</td>\n",
        "      <td> yes</td>\n",
        "      <td>  no</td>\n",
        "      <td>  8.41</td>\n",
        "      <td> 10.1</td>\n",
        "      <td> 3</td>\n",
        "      <td> 2.73</td>\n",
        "      <td> 3</td>\n",
        "      <td> False.</td>\n",
        "    </tr>\n",
        "    <tr>\n",
        "      <th>5</th>\n",
        "      <td> AL</td>\n",
        "      <td> 118</td>\n",
        "      <td> 510</td>\n",
        "      <td> 391-8027</td>\n",
        "      <td> yes</td>\n",
        "      <td>  no</td>\n",
        "      <td>  9.18</td>\n",
        "      <td>  6.3</td>\n",
        "      <td> 6</td>\n",
        "      <td> 1.70</td>\n",
        "      <td> 0</td>\n",
        "      <td> False.</td>\n",
        "    </tr>\n",
        "  </tbody>\n",
        "</table>\n",
        "</div>"
       ],
       "metadata": {},
       "output_type": "pyout",
       "prompt_number": 1,
       "text": [
        "  State  Account Length  Area Code     Phone Int'l Plan VMail Plan  \\\n",
        "0    KS             128        415  382-4657         no        yes   \n",
        "1    OH             107        415  371-7191         no        yes   \n",
        "2    NJ             137        415  358-1921         no         no   \n",
        "3    OH              84        408  375-9999        yes         no   \n",
        "4    OK              75        415  330-6626        yes         no   \n",
        "5    AL             118        510  391-8027        yes         no   \n",
        "\n",
        "   Night Charge  Intl Mins  Intl Calls  Intl Charge  CustServ Calls  Churn?  \n",
        "0         11.01       10.0           3         2.70               1  False.  \n",
        "1         11.45       13.7           3         3.70               1  False.  \n",
        "2          7.32       12.2           5         3.29               0  False.  \n",
        "3          8.86        6.6           7         1.78               2  False.  \n",
        "4          8.41       10.1           3         2.73               3  False.  \n",
        "5          9.18        6.3           6         1.70               0  False.  "
       ]
      }
     ],
     "prompt_number": 1
    },
    {
     "cell_type": "code",
     "collapsed": false,
     "input": [
      "# Isolate target data\n",
      "churn_result = churn_df['Churn?']\n",
      "y = np.where(churn_result == 'True.',1,0)\n",
      "\n",
      "# We don't need these columns\n",
      "to_drop = ['State','Area Code','Phone','Churn?']\n",
      "churn_feat_space = churn_df.drop(to_drop,axis=1)\n",
      "\n",
      "# 'yes'/'no' has to be converted to boolean values\n",
      "# NumPy converts these from boolean to 1. and 0. later\n",
      "yes_no_cols = [\"Int'l Plan\",\"VMail Plan\"]\n",
      "churn_feat_space[yes_no_cols] = churn_feat_space[yes_no_cols] == 'yes'\n",
      "\n",
      "# Pull out features for future use\n",
      "features = churn_feat_space.columns\n",
      "\n",
      "X = churn_feat_space.as_matrix().astype(np.float)\n",
      "\n",
      "# This is important\n",
      "from sklearn.preprocessing import StandardScaler\n",
      "scaler = StandardScaler()\n",
      "X = scaler.fit_transform(X)\n",
      "\n",
      "print \"Feature space holds %d observations and %d features\" % X.shape\n",
      "print \"Unique target labels:\", np.unique(y)"
     ],
     "language": "python",
     "metadata": {},
     "outputs": [
      {
       "output_type": "stream",
       "stream": "stdout",
       "text": [
        "Feature space holds 3333 observations and 17 features\n",
        "Unique target labels: [0 1]\n"
       ]
      }
     ],
     "prompt_number": 2
    },
    {
     "cell_type": "code",
     "collapsed": false,
     "input": [
      "from sklearn.cross_validation import KFold\n",
      "\n",
      "def run_cv(X,y,clf_class,**kwargs):\n",
      "    # Construct a kfolds object\n",
      "    kf = KFold(len(y),n_folds=5,shuffle=True)\n",
      "    y_pred = y.copy()\n",
      "    \n",
      "    # Iterate through folds\n",
      "    for train_index, test_index in kf:\n",
      "        X_train, X_test = X[train_index], X[test_index]\n",
      "        y_train = y[train_index]\n",
      "        # Initialize a classifier with key word arguments\n",
      "        clf = clf_class(**kwargs)\n",
      "        clf.fit(X_train,y_train)\n",
      "        y_pred[test_index] = clf.predict(X_test)\n",
      "    return y_pred"
     ],
     "language": "python",
     "metadata": {},
     "outputs": [],
     "prompt_number": 3
    },
    {
     "cell_type": "code",
     "collapsed": false,
     "input": [
      "from sklearn.svm import SVC\n",
      "from sklearn.ensemble import RandomForestClassifier as RF\n",
      "from sklearn.neighbors import KNeighborsClassifier as KNN\n",
      "\n",
      "def accuracy(y_true,y_pred):\n",
      "    # NumPy interprets True and False as 1. and 0.\n",
      "    return np.mean(y_true == y_pred)\n",
      "\n",
      "print \"Support vector machines:\"\n",
      "print \"%.3f\" % accuracy(y, run_cv(X,y,SVC))\n",
      "print \"Random forest:\"\n",
      "print \"%.3f\" % accuracy(y, run_cv(X,y,RF))\n",
      "print \"K-nearest-neighbors:\"\n",
      "print \"%.3f\" % accuracy(y, run_cv(X,y,KNN))"
     ],
     "language": "python",
     "metadata": {},
     "outputs": [
      {
       "output_type": "stream",
       "stream": "stdout",
       "text": [
        "Support vector machines:\n",
        "0.921"
       ]
      },
      {
       "output_type": "stream",
       "stream": "stdout",
       "text": [
        "\n",
        "Random forest:\n",
        "0.937"
       ]
      },
      {
       "output_type": "stream",
       "stream": "stdout",
       "text": [
        "\n",
        "K-nearest-neighbors:\n",
        "0.891"
       ]
      },
      {
       "output_type": "stream",
       "stream": "stdout",
       "text": [
        "\n"
       ]
      }
     ],
     "prompt_number": 4
    },
    {
     "cell_type": "code",
     "collapsed": false,
     "input": [
      "from sklearn.metrics import confusion_matrix\n",
      "from pprint import pprint as pp\n",
      "\n",
      "y = np.array(y)\n",
      "class_names = np.unique(y)\n",
      "\n",
      "confusion_matrices = [\n",
      "    ( \"Support Vector Machines\", confusion_matrix(y,run_cv(X,y,SVC)) ),\n",
      "    ( \"Random Forest\", confusion_matrix(y,run_cv(X,y,RF)) ),\n",
      "    ( \"K-Nearest-Neighbors\", confusion_matrix(y,run_cv(X,y,KNN)) ),\n",
      "]\n",
      "\n",
      "pp('SVM')\n",
      "pp(confusion_matrix(y, run_cv(X,y,SVC)))\n",
      "\n",
      "pp('Random Forest')\n",
      "pp(confusion_matrix(y, run_cv(X,y,RF)))\n",
      "\n",
      "pp('K-N-N')\n",
      "pp(confusion_matrix(y, run_cv(X,y,KNN)))"
     ],
     "language": "python",
     "metadata": {},
     "outputs": [
      {
       "output_type": "stream",
       "stream": "stdout",
       "text": [
        "'SVM'\n",
        "array([[2816,   34],\n",
        "       [ 244,  239]])"
       ]
      },
      {
       "output_type": "stream",
       "stream": "stdout",
       "text": [
        "\n",
        "'Random Forest'\n",
        "array([[2818,   32],\n",
        "       [ 166,  317]])"
       ]
      },
      {
       "output_type": "stream",
       "stream": "stdout",
       "text": [
        "\n",
        "'K-N-N'\n",
        "array([[2805,   45],\n",
        "       [ 313,  170]])"
       ]
      },
      {
       "output_type": "stream",
       "stream": "stdout",
       "text": [
        "\n"
       ]
      }
     ],
     "prompt_number": 10
    },
    {
     "cell_type": "code",
     "collapsed": false,
     "input": [
      "def run_prob_cv(X, y, clf_class, **kwargs):\n",
      "    kf = KFold(len(y), n_folds=5, shuffle=True)\n",
      "    y_prob = np.zeros((len(y),2))\n",
      "    for train_index, test_index in kf:\n",
      "        X_train, X_test = X[train_index], X[test_index]\n",
      "        y_train = y[train_index]\n",
      "        clf = clf_class(**kwargs)\n",
      "        clf.fit(X_train,y_train)\n",
      "        # Predict probabilities, not classes\n",
      "        y_prob[test_index] = clf.predict_proba(X_test)\n",
      "    return y_prob"
     ],
     "language": "python",
     "metadata": {},
     "outputs": [],
     "prompt_number": 11
    },
    {
     "cell_type": "code",
     "collapsed": false,
     "input": [
      "import warnings\n",
      "warnings.filterwarnings('ignore')\n",
      "\n",
      "# Use 10 estimators so predictions are all multiples of 0.1\n",
      "pred_prob = run_prob_cv(X, y, RF, n_estimators=10)\n",
      "pred_churn = pred_prob[:,1]\n",
      "is_churn = y == 1\n",
      "\n",
      "# Number of times a predicted probability is assigned to an observation\n",
      "counts = pd.value_counts(pred_churn)\n",
      "\n",
      "# calculate true probabilities\n",
      "true_prob = {}\n",
      "for prob in counts.index:\n",
      "    true_prob[prob] = np.mean(is_churn[pred_churn == prob])\n",
      "    true_prob = pd.Series(true_prob)\n",
      "\n",
      "# pandas-fu\n",
      "counts = pd.concat([counts,true_prob], axis=1).reset_index()\n",
      "counts.columns = ['pred_prob', 'count', 'true_prob']\n",
      "counts"
     ],
     "language": "python",
     "metadata": {},
     "outputs": [
      {
       "html": [
        "<div style=\"max-height:1000px;max-width:1500px;overflow:auto;\">\n",
        "<table border=\"1\" class=\"dataframe\">\n",
        "  <thead>\n",
        "    <tr style=\"text-align: right;\">\n",
        "      <th></th>\n",
        "      <th>pred_prob</th>\n",
        "      <th>count</th>\n",
        "      <th>true_prob</th>\n",
        "    </tr>\n",
        "  </thead>\n",
        "  <tbody>\n",
        "    <tr>\n",
        "      <th>0 </th>\n",
        "      <td> 0.0</td>\n",
        "      <td> 1736</td>\n",
        "      <td> 0.028226</td>\n",
        "    </tr>\n",
        "    <tr>\n",
        "      <th>1 </th>\n",
        "      <td> 0.1</td>\n",
        "      <td>  748</td>\n",
        "      <td> 0.033422</td>\n",
        "    </tr>\n",
        "    <tr>\n",
        "      <th>2 </th>\n",
        "      <td> 0.2</td>\n",
        "      <td>  263</td>\n",
        "      <td> 0.034221</td>\n",
        "    </tr>\n",
        "    <tr>\n",
        "      <th>3 </th>\n",
        "      <td> 0.3</td>\n",
        "      <td>  113</td>\n",
        "      <td> 0.176991</td>\n",
        "    </tr>\n",
        "    <tr>\n",
        "      <th>4 </th>\n",
        "      <td> 0.9</td>\n",
        "      <td>   93</td>\n",
        "      <td> 0.989247</td>\n",
        "    </tr>\n",
        "    <tr>\n",
        "      <th>5 </th>\n",
        "      <td> 0.7</td>\n",
        "      <td>   78</td>\n",
        "      <td> 0.884615</td>\n",
        "    </tr>\n",
        "    <tr>\n",
        "      <th>6 </th>\n",
        "      <td> 0.5</td>\n",
        "      <td>   68</td>\n",
        "      <td> 0.558824</td>\n",
        "    </tr>\n",
        "    <tr>\n",
        "      <th>7 </th>\n",
        "      <td> 0.4</td>\n",
        "      <td>   62</td>\n",
        "      <td> 0.306452</td>\n",
        "    </tr>\n",
        "    <tr>\n",
        "      <th>8 </th>\n",
        "      <td> 1.0</td>\n",
        "      <td>   60</td>\n",
        "      <td> 1.000000</td>\n",
        "    </tr>\n",
        "    <tr>\n",
        "      <th>9 </th>\n",
        "      <td> 0.8</td>\n",
        "      <td>   57</td>\n",
        "      <td> 0.964912</td>\n",
        "    </tr>\n",
        "    <tr>\n",
        "      <th>10</th>\n",
        "      <td> 0.6</td>\n",
        "      <td>   55</td>\n",
        "      <td> 0.854545</td>\n",
        "    </tr>\n",
        "  </tbody>\n",
        "</table>\n",
        "</div>"
       ],
       "metadata": {},
       "output_type": "pyout",
       "prompt_number": 12,
       "text": [
        "    pred_prob  count  true_prob\n",
        "0         0.0   1736   0.028226\n",
        "1         0.1    748   0.033422\n",
        "2         0.2    263   0.034221\n",
        "3         0.3    113   0.176991\n",
        "4         0.9     93   0.989247\n",
        "5         0.7     78   0.884615\n",
        "6         0.5     68   0.558824\n",
        "7         0.4     62   0.306452\n",
        "8         1.0     60   1.000000\n",
        "9         0.8     57   0.964912\n",
        "10        0.6     55   0.854545"
       ]
      }
     ],
     "prompt_number": 12
    },
    {
     "cell_type": "code",
     "collapsed": false,
     "input": [
      "from ggplot import *\n",
      "%matplotlib inline\n",
      "\n",
      "baseline = np.mean(is_churn)\n",
      "ggplot(counts,aes(x='pred_prob',y='true_prob',size='count')) + \\\n",
      "    geom_point(color='blue') + \\\n",
      "    stat_function(fun = lambda x: x, color='red') + \\\n",
      "    stat_function(fun = lambda x: baseline, color='green') + \\\n",
      "    xlim(-0.05,  1.05) + ylim(-0.05,1.05) + \\\n",
      "    ggtitle(\"Random Forest\") + \\\n",
      "    xlab(\"Predicted probability\") + ylab(\"Relative frequency of outcome\")"
     ],
     "language": "python",
     "metadata": {},
     "outputs": [
      {
       "metadata": {},
       "output_type": "display_data",
       "png": "[encoded data removed]",
       "text": [
        "<matplotlib.figure.Figure at 0x11506ed90>"
       ]
      },
      {
       "metadata": {},
       "output_type": "pyout",
       "prompt_number": 14,
       "text": [
        "<ggplot: (290483937)>"
       ]
      }
     ],
     "prompt_number": 14
    },
    {
     "cell_type": "code",
     "collapsed": false,
     "input": [],
     "language": "python",
     "metadata": {},
     "outputs": []
    }
   ],
   "metadata": {}
  }
 ]
}