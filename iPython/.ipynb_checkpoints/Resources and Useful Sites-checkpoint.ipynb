{
 "metadata": {
  "name": "",
  "signature": "sha256:656e89d488094bd2634edc6a81c1a6b9fa22b494f99ac2e9abd3a82c841eb2ca"
 },
 "nbformat": 3,
 "nbformat_minor": 0,
 "worksheets": [
  {
   "cells": [
    {
     "cell_type": "markdown",
     "metadata": {},
     "source": [
      "#Working with iPython:\n",
      "\n",
      "## iPython / iPython notebook\n",
      "* http://ipython.org/\n",
      "* [nbviewer](http://nbviewer.ipython.org/)\n",
      "* [iPython hints and tips](http://nbviewer.ipython.org/github/NelisW/ComputationalRadiometry/blob/master/01-IPythonHintsAndTips.ipynb)\n",
      "* [A Gallery of Interesting iPython Notebooks](https://github.com/ipython/ipython/wiki/A-gallery-of-interesting-IPython-Notebooks#statistics-machine-learning-and-data-science)\n",
      "\n",
      "## Markdown and Latex - for formatting cells\n",
      "* [Markdown cheatsheet](https://github.com/adam-p/markdown-here/wiki/Markdown-Cheatsheet)\n",
      "* [Latex mathematical Symbols (pdf)](http://estudijas.lu.lv/pluginfile.php/14809/mod_page/content/12/instrukcijas/matematika_moodle/LaTeX_Symbols.pdf)\n",
      "* [Markdown basics](http://daringfireball.net/projects/markdown/basics)\n",
      "\n",
      "## Pandas tutorials\n",
      "* [Learn pandas](https://bitbucket.org/hrojas/learn-pandas)\n",
      "* [Pandas main page](http://pandas.pydata.org/)\n",
      "\n",
      "## Graphics\n",
      "* [d3.js tutorial](https://github.com/mbostock/d3/wiki/Tutorials)\n",
      "* [d3.js in the iPython notebook](http://nbviewer.ipython.org/github/dboyliao/cookbook-code/blob/master/notebooks/chapter06_viz/04_d3.ipynb)\n",
      "* [matplotlib source site](http://matplotlib.org/)\n",
      "* [How to make beautiful visualizations in Python with Matplotlib](http://www.randalolson.com/2014/06/28/how-to-make-beautiful-data-visualizations-in-python-with-matplotlib/)\n",
      "* [From Data To Insight](https://speakerdeck.com/destraynor/from-data-to-insight)\n",
      "* [Matplotlib tutorial](http://www.labri.fr/perso/nrougier/teaching/matplotlib/)\n",
      "* [plot.ly](https://plot.ly/)\n",
      "* [Python Page](https://plot.ly/python/)\n",
      "* [User Guide](http://nbviewer.ipython.org/github/plotly/python-user-guide/blob/master/s00_homepage/s00_homepage.ipynb)\n",
      "* [plot.ly learn page](https://plot.ly/learn/)\n",
      "* [what you can do with plot.ly, a year in](http://blog.plot.ly/post/97151096882/plotly-heres-what-you-can-do-one-year-in)\n",
      "    * interesting, d3.js drives the backend plotting engine.\n",
      "\n",
      "## Data\n",
      "* [www.wolframalpha.com](www.wolframalpha.com)\n",
      "* [statsmodels dataset descriptions](http://statsmodels.sourceforge.net/stable/datasets/index.html)\n",
      "* [UCI Datasets](https://archive.ics.uci.edu/ml/datasets.html)\n",
      "\n",
      "\n",
      "## Machine Learning / Modeling\n",
      "* [Machine Learning in Python](http://www.slideshare.net/mattspitz/practical-machine-learning-in-python?next_slideshow=1)\n",
      "* [scikit-learn documentation](http://scikit-learn.org/stable/documentation.html)\n",
      "* [scikit-learn home](http://scikit-learn.org/stable/index.html)\n",
      "* [Beginner's Guide to Machine Learning with scikit-learn](http://www.slideshare.net/SarahGuido/a-beginners-guide-to-machine-learning-with-scikitlearn)\n",
      "\n",
      "## Books\n",
      "* [The Visual Display of Quantitative Information](http://www.amazon.com/Visual-Display-Quantitative-Information/dp/0961392142/)\n",
      "* Stephen Few: [Show Me The Numbers](http://www.amazon.com/gp/product/0970601972/)"
     ]
    },
    {
     "cell_type": "code",
     "collapsed": false,
     "input": [],
     "language": "python",
     "metadata": {},
     "outputs": []
    }
   ],
   "metadata": {}
  }
 ]
}